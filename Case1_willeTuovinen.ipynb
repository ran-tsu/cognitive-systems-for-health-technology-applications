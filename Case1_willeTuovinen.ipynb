{
 "cells": [
  {
   "cell_type": "markdown",
   "metadata": {},
   "source": [
    "# Case 1 Heart Disease Classification, model nro.2\n",
    "Wille Tuovinen and Eemil Rantanen, \n",
    "4.2.2019, \n",
    "Helsinki Metropolia University of Applied Sciences\n",
    " \n",
    "# Reason why we are building this Neural Network\n",
    "Objective of this document was to lear usage of librarys and building a Neural Network. Goal was allso to lear and test bifferent model architecture's and visualize outputs with matplotlib. \n",
    "Here we tried another way to create NN, but our end-output isn't quite accurate/clear to us."
   ]
  },
  {
   "cell_type": "markdown",
   "metadata": {},
   "source": [
    "___________________________________________________________________________________________________________________________\n",
    "___________________________________________________________________________________________________________________________\n",
    "\n",
    "### Importing required librarys and data. \n",
    "Pandas DataFrame gives massive functionality to work on data thus, here we are using pandas to import data."
   ]
  },
  {
   "cell_type": "code",
   "execution_count": 2,
   "metadata": {},
   "outputs": [
    {
     "name": "stderr",
     "output_type": "stream",
     "text": [
      "Using TensorFlow backend.\n"
     ]
    }
   ],
   "source": [
    "# calling required libraries\n",
    "import numpy as np\n",
    "import time\n",
    "import warnings\n",
    "import matplotlib.pyplot as plt\n",
    "import pandas as pd\n",
    "from sklearn.utils import shuffle\n",
    "from sklearn.preprocessing import normalize\n",
    "from sklearn.metrics import confusion_matrix, precision_recall_fscore_support\n",
    "from keras.utils import to_categorical\n",
    "from keras import models, layers\n",
    "from keras.utils import to_categorical\n",
    "from keras.models import Sequential\n",
    "from keras.layers import Dense\n",
    "from sklearn.metrics import confusion_matrix\n",
    "clasifier = Sequential()"
   ]
  },
  {
   "cell_type": "code",
   "execution_count": 3,
   "metadata": {},
   "outputs": [],
   "source": [
    "data = 'https://archive.ics.uci.edu/ml/machine-learning-databases/heart-disease/processed.cleveland.data'\n",
    "df = pd.read_csv(data, sep=',' , header = None)\n",
    "\n",
    "# Let's convert some missplaysed \"?\" strings to lets say, to 0, with this awfull \"monster\" of a code.\n",
    "df = df.fillna(df.median())\n",
    "df = df.fillna(0.0)\n",
    "df = df.replace(\"?\", 0.0)\n",
    "\n",
    "# naming columns\n",
    "df.columns = [\"age\", \"sex\", \"cp\", \"treshbps\", \"chol\", \"fbs\", \"restecg\", \"thalach\",\n",
    "              \"exang\", \"oldpeak\", \"slope\", \"ca\", \"thal\", \"num\"]\n",
    "\n",
    "# here we change values higher that 0.0 to 2.0, and values equal to  0.0, to 1.0\n",
    "df.loc[df.num > 0.0, 'num'] = 2.0\n",
    "df.loc[df.num <= 0.0, 'num'] = 1.0\n",
    "\n",
    "# rename axis\n",
    "df.index.name = 'id'   \n",
    "\n",
    "df['num'] = pd.to_numeric(df['num']).astype(float)\n",
    "\n",
    "# Randomize rows\n",
    "df = shuffle(df)"
   ]
  },
  {
   "cell_type": "markdown",
   "metadata": {},
   "source": [
    "### Here we generate .csv from the data"
   ]
  },
  {
   "cell_type": "code",
   "execution_count": 4,
   "metadata": {},
   "outputs": [],
   "source": [
    "df.to_csv('Case1.2_.csv')\n",
    "\n",
    "#If you look at the CSV there, you should see it has the headers. \n",
    "#df.to_csv('Case1.2_wille.csv', header=False)\n",
    "\n",
    "# Or you whatn to save file as HTML\n",
    "#df.to_html('Case1.2_wille.html')\n"
   ]
  },
  {
   "cell_type": "markdown",
   "metadata": {},
   "source": [
    "### Create matrix of features and matrix of target variable"
   ]
  },
  {
   "cell_type": "code",
   "execution_count": 5,
   "metadata": {},
   "outputs": [],
   "source": [
    "# Create matrix of features and matrix of target variable\n",
    "x = df.iloc[:, 0:13].values\n",
    "y = df.iloc[:, 13].values\n"
   ]
  },
  {
   "cell_type": "markdown",
   "metadata": {},
   "source": [
    "### We will make use of ScikitLearn’s ‘train_test_split’ function to divide our data "
   ]
  },
  {
   "cell_type": "code",
   "execution_count": 6,
   "metadata": {},
   "outputs": [],
   "source": [
    "# Splitting the dataset into the Training set and Test set\n",
    "from sklearn.model_selection import train_test_split\n",
    "x_train, x_test, y_train, y_test = train_test_split(x, y, test_size = 0.2)"
   ]
  },
  {
   "cell_type": "code",
   "execution_count": 7,
   "metadata": {},
   "outputs": [
    {
     "name": "stderr",
     "output_type": "stream",
     "text": [
      "C:\\Users\\wille\\Anaconda3\\envs\\py36\\lib\\site-packages\\sklearn\\utils\\validation.py:595: DataConversionWarning: Data with input dtype object was converted to float64 by StandardScaler.\n",
      "  warnings.warn(msg, DataConversionWarning)\n",
      "C:\\Users\\wille\\Anaconda3\\envs\\py36\\lib\\site-packages\\sklearn\\utils\\validation.py:595: DataConversionWarning: Data with input dtype object was converted to float64 by StandardScaler.\n",
      "  warnings.warn(msg, DataConversionWarning)\n",
      "C:\\Users\\wille\\Anaconda3\\envs\\py36\\lib\\site-packages\\sklearn\\utils\\validation.py:595: DataConversionWarning: Data with input dtype object was converted to float64 by StandardScaler.\n",
      "  warnings.warn(msg, DataConversionWarning)\n"
     ]
    },
    {
     "data": {
      "text/plain": [
       "array([[-0.60176494,  0.64436378, -1.22081463, ..., -1.02693326,\n",
       "        -0.72922136, -0.90481968],\n",
       "       [ 0.79642745,  0.64436378, -0.17686714, ...,  0.60805259,\n",
       "         2.46002388,  1.10866411],\n",
       "       [-1.03197798, -1.55191839, -1.22081463, ...,  0.60805259,\n",
       "        -0.72922136, -0.90481968],\n",
       "       ...,\n",
       "       [ 0.58132093,  0.64436378,  0.86708036, ...,  0.60805259,\n",
       "         1.39694213,  1.10866411],\n",
       "       [ 1.65685354,  0.64436378,  0.86708036, ...,  2.24303845,\n",
       "        -0.72922136,  1.10866411],\n",
       "       [ 0.25866115,  0.64436378, -1.22081463, ..., -1.02693326,\n",
       "        -0.72922136,  1.10866411]])"
      ]
     },
     "execution_count": 7,
     "metadata": {},
     "output_type": "execute_result"
    }
   ],
   "source": [
    "# Feature Scaling\n",
    "from sklearn.preprocessing import StandardScaler\n",
    "sc = StandardScaler()\n",
    "x_train = sc.fit_transform(x_train)\n",
    "x_test = sc.transform(x_test)\n",
    "x_train"
   ]
  },
  {
   "cell_type": "markdown",
   "metadata": {},
   "source": [
    "## Starting to built NN\n",
    "### Initializing Neural Network\n",
    "\n",
    "Our first parameter is output_dim. It is simply the number of nodes you want to add to this layer. \n",
    "init is the initialization of Stochastic Gradient Decent. In Neural Network we need to assign weights to each mode which is nothing but importance of that node. \n",
    "\n",
    "At the time of initialization, weights should be close to 0 and we will randomly initialize weights using uniform function. input_dim parameter is needed only for first layer as model doesn’t know the number of our input variables. \n",
    "As we knove the total number of input variables are 13. In the second layer model automatically knows the number of input variable from the first hidden layer.\n",
    "\n",
    "In upcoming code we recognize that syntax has changed during last few years. for example \"init\" is nowdays replaced with \"kernel_initializer\". There wasnt big problems with old syntax. while deployng code, it gave warnings, that the code is updated and replaced with....blaa blaa blaa,"
   ]
  },
  {
   "cell_type": "code",
   "execution_count": 8,
   "metadata": {},
   "outputs": [],
   "source": [
    "# Adding the input layer and the first hidden layer\n",
    "#clasifier.add(Dense(output_dim = 6, init = 'uniform', activation = 'relu', input_dim = 13))            THESE ARE GIVING ERRORS\n",
    "clasifier.add(Dense(units = 6, kernel_initializer = 'uniform', activation = 'relu', input_dim = 13))\n",
    "\n",
    "# Adding the second hidden layer\n",
    "#clasifier.add(Dense(output_dim = 6, init = 'uniform', activation = 'relu'))                             THESE ARE GIVING ERRORS\n",
    "clasifier.add(Dense(units = 6, kernel_initializer = 'uniform', activation = 'relu'))\n",
    "\n",
    "# Adding the output layer\n",
    "#clasifier.add(Dense(output_dim = 1, init = 'uniform', activation = 'sigmoid'))                           THESE ARE GIVING ERRORS\n",
    "clasifier.add(Dense(units = 1, kernel_initializer = 'uniform', activation = 'sigmoid' ))\n"
   ]
  },
  {
   "cell_type": "markdown",
   "metadata": {},
   "source": [
    "### Compiling Neural Network\n",
    "\n",
    "First argument is Optimizer, this is nothing but the algorithm you wanna use to find optimal set of weights"
   ]
  },
  {
   "cell_type": "code",
   "execution_count": 9,
   "metadata": {},
   "outputs": [
    {
     "name": "stdout",
     "output_type": "stream",
     "text": [
      "_________________________________________________________________\n",
      "Layer (type)                 Output Shape              Param #   \n",
      "=================================================================\n",
      "dense_1 (Dense)              (None, 6)                 84        \n",
      "_________________________________________________________________\n",
      "dense_2 (Dense)              (None, 6)                 42        \n",
      "_________________________________________________________________\n",
      "dense_3 (Dense)              (None, 1)                 7         \n",
      "=================================================================\n",
      "Total params: 133\n",
      "Trainable params: 133\n",
      "Non-trainable params: 0\n",
      "_________________________________________________________________\n"
     ]
    }
   ],
   "source": [
    "# Now here's the Deep Learning Neural Network model.\n",
    "clasifier.compile(optimizer = 'rmsprop', loss = 'binary_crossentropy', metrics = ['accuracy'])\n",
    "clasifier.summary()"
   ]
  },
  {
   "cell_type": "markdown",
   "metadata": {},
   "source": [
    "### Fitting our model\n",
    "Here we train our model\"classifier(typoed\"clasifier :D\")\" on training data but still one thing is remaining.\n",
    "Here we use fit method to the fit our model.\n",
    "Batch size is used to specify the number of observation after which you want to update weight. \n",
    "Epoch is nothing but the total number of iterations."
   ]
  },
  {
   "cell_type": "code",
   "execution_count": 10,
   "metadata": {},
   "outputs": [
    {
     "name": "stdout",
     "output_type": "stream",
     "text": [
      "Epoch 1/100\n",
      "242/242 [==============================] - 0s 873us/step - loss: 0.6701 - acc: 0.5372\n",
      "Epoch 2/100\n",
      "242/242 [==============================] - 0s 128us/step - loss: 0.6205 - acc: 0.5496\n",
      "Epoch 3/100\n",
      "242/242 [==============================] - 0s 124us/step - loss: 0.5528 - acc: 0.5496\n",
      "Epoch 4/100\n",
      "242/242 [==============================] - 0s 111us/step - loss: 0.4622 - acc: 0.5496\n",
      "Epoch 5/100\n",
      "242/242 [==============================] - 0s 177us/step - loss: 0.3397 - acc: 0.5496\n",
      "Epoch 6/100\n",
      "242/242 [==============================] - 0s 111us/step - loss: 0.1873 - acc: 0.5496\n",
      "Epoch 7/100\n",
      "242/242 [==============================] - 0s 136us/step - loss: 0.0066 - acc: 0.5496\n",
      "Epoch 8/100\n",
      "242/242 [==============================] - 0s 128us/step - loss: -0.1970 - acc: 0.5496\n",
      "Epoch 9/100\n",
      "242/242 [==============================] - 0s 144us/step - loss: -0.4327 - acc: 0.5496\n",
      "Epoch 10/100\n",
      "242/242 [==============================] - 0s 148us/step - loss: -0.6928 - acc: 0.5496\n",
      "Epoch 11/100\n",
      "242/242 [==============================] - 0s 140us/step - loss: -0.9895 - acc: 0.5496\n",
      "Epoch 12/100\n",
      "242/242 [==============================] - 0s 128us/step - loss: -1.3233 - acc: 0.5496\n",
      "Epoch 13/100\n",
      "242/242 [==============================] - 0s 132us/step - loss: -1.7017 - acc: 0.5496\n",
      "Epoch 14/100\n",
      "242/242 [==============================] - 0s 132us/step - loss: -2.1223 - acc: 0.5496\n",
      "Epoch 15/100\n",
      "242/242 [==============================] - 0s 128us/step - loss: -2.5949 - acc: 0.5496\n",
      "Epoch 16/100\n",
      "242/242 [==============================] - 0s 120us/step - loss: -3.0797 - acc: 0.5496\n",
      "Epoch 17/100\n",
      "242/242 [==============================] - 0s 161us/step - loss: -3.6365 - acc: 0.5496\n",
      "Epoch 18/100\n",
      "242/242 [==============================] - 0s 128us/step - loss: -4.1930 - acc: 0.5496\n",
      "Epoch 19/100\n",
      "242/242 [==============================] - 0s 152us/step - loss: -4.6646 - acc: 0.5496\n",
      "Epoch 20/100\n",
      "242/242 [==============================] - 0s 140us/step - loss: -5.0742 - acc: 0.5496\n",
      "Epoch 21/100\n",
      "242/242 [==============================] - 0s 120us/step - loss: -5.3729 - acc: 0.5496\n",
      "Epoch 22/100\n",
      "242/242 [==============================] - 0s 177us/step - loss: -5.5943 - acc: 0.5496\n",
      "Epoch 23/100\n",
      "242/242 [==============================] - 0s 132us/step - loss: -5.7942 - acc: 0.5496\n",
      "Epoch 24/100\n",
      "242/242 [==============================] - 0s 136us/step - loss: -5.9412 - acc: 0.5496\n",
      "Epoch 25/100\n",
      "242/242 [==============================] - 0s 144us/step - loss: -6.0442 - acc: 0.5496\n",
      "Epoch 26/100\n",
      "242/242 [==============================] - 0s 124us/step - loss: -6.1420 - acc: 0.5496\n",
      "Epoch 27/100\n",
      "242/242 [==============================] - 0s 132us/step - loss: -6.2275 - acc: 0.5496\n",
      "Epoch 28/100\n",
      "242/242 [==============================] - 0s 103us/step - loss: -6.3088 - acc: 0.5496\n",
      "Epoch 29/100\n",
      "242/242 [==============================] - 0s 111us/step - loss: -6.3748 - acc: 0.5496\n",
      "Epoch 30/100\n",
      "242/242 [==============================] - 0s 136us/step - loss: -6.4308 - acc: 0.5496\n",
      "Epoch 31/100\n",
      "242/242 [==============================] - 0s 136us/step - loss: -6.4825 - acc: 0.5496\n",
      "Epoch 32/100\n",
      "242/242 [==============================] - 0s 124us/step - loss: -6.5264 - acc: 0.5496\n",
      "Epoch 33/100\n",
      "242/242 [==============================] - 0s 140us/step - loss: -6.5768 - acc: 0.5496\n",
      "Epoch 34/100\n",
      "242/242 [==============================] - 0s 132us/step - loss: -6.6214 - acc: 0.5496\n",
      "Epoch 35/100\n",
      "242/242 [==============================] - 0s 124us/step - loss: -6.6737 - acc: 0.5496\n",
      "Epoch 36/100\n",
      "242/242 [==============================] - 0s 111us/step - loss: -6.7266 - acc: 0.5496\n",
      "Epoch 37/100\n",
      "242/242 [==============================] - 0s 120us/step - loss: -6.7678 - acc: 0.5496\n",
      "Epoch 38/100\n",
      "242/242 [==============================] - 0s 124us/step - loss: -6.8036 - acc: 0.5496\n",
      "Epoch 39/100\n",
      "242/242 [==============================] - 0s 115us/step - loss: -6.8461 - acc: 0.5496\n",
      "Epoch 40/100\n",
      "242/242 [==============================] - 0s 148us/step - loss: -6.8802 - acc: 0.5496\n",
      "Epoch 41/100\n",
      "242/242 [==============================] - 0s 124us/step - loss: -6.9195 - acc: 0.5496\n",
      "Epoch 42/100\n",
      "242/242 [==============================] - 0s 152us/step - loss: -6.9532 - acc: 0.5496\n",
      "Epoch 43/100\n",
      "242/242 [==============================] - 0s 115us/step - loss: -6.9861 - acc: 0.5496\n",
      "Epoch 44/100\n",
      "242/242 [==============================] - 0s 120us/step - loss: -7.0120 - acc: 0.5496\n",
      "Epoch 45/100\n",
      "242/242 [==============================] - 0s 120us/step - loss: -7.0365 - acc: 0.5496\n",
      "Epoch 46/100\n",
      "242/242 [==============================] - 0s 128us/step - loss: -7.0510 - acc: 0.5496\n",
      "Epoch 47/100\n",
      "242/242 [==============================] - 0s 99us/step - loss: -7.0637 - acc: 0.5496\n",
      "Epoch 48/100\n",
      "242/242 [==============================] - 0s 128us/step - loss: -7.0776 - acc: 0.5496\n",
      "Epoch 49/100\n",
      "242/242 [==============================] - 0s 120us/step - loss: -7.0868 - acc: 0.5496\n",
      "Epoch 50/100\n",
      "242/242 [==============================] - 0s 107us/step - loss: -7.0969 - acc: 0.5496\n",
      "Epoch 51/100\n",
      "242/242 [==============================] - 0s 120us/step - loss: -7.1062 - acc: 0.5496\n",
      "Epoch 52/100\n",
      "242/242 [==============================] - 0s 115us/step - loss: -7.1182 - acc: 0.5496\n",
      "Epoch 53/100\n",
      "242/242 [==============================] - ETA: 0s - loss: -6.3770 - acc: 0.60 - 0s 99us/step - loss: -7.1281 - acc: 0.5496\n",
      "Epoch 54/100\n",
      "242/242 [==============================] - 0s 115us/step - loss: -7.1377 - acc: 0.5496\n",
      "Epoch 55/100\n",
      "242/242 [==============================] - 0s 95us/step - loss: -7.1411 - acc: 0.5496\n",
      "Epoch 56/100\n",
      "242/242 [==============================] - 0s 120us/step - loss: -7.1466 - acc: 0.5496\n",
      "Epoch 57/100\n",
      "242/242 [==============================] - 0s 124us/step - loss: -7.1498 - acc: 0.5496\n",
      "Epoch 58/100\n",
      "242/242 [==============================] - 0s 120us/step - loss: -7.1526 - acc: 0.5496\n",
      "Epoch 59/100\n",
      "242/242 [==============================] - 0s 111us/step - loss: -7.1541 - acc: 0.5496\n",
      "Epoch 60/100\n",
      "242/242 [==============================] - 0s 120us/step - loss: -7.1567 - acc: 0.5496\n",
      "Epoch 61/100\n",
      "242/242 [==============================] - 0s 128us/step - loss: -7.1590 - acc: 0.5496\n",
      "Epoch 62/100\n",
      "242/242 [==============================] - 0s 103us/step - loss: -7.1615 - acc: 0.5496\n",
      "Epoch 63/100\n",
      "242/242 [==============================] - 0s 115us/step - loss: -7.1650 - acc: 0.5496\n",
      "Epoch 64/100\n",
      "242/242 [==============================] - 0s 140us/step - loss: -7.1658 - acc: 0.5496\n",
      "Epoch 65/100\n",
      "242/242 [==============================] - 0s 132us/step - loss: -7.1701 - acc: 0.5496\n",
      "Epoch 66/100\n",
      "242/242 [==============================] - 0s 124us/step - loss: -7.1711 - acc: 0.5496\n",
      "Epoch 67/100\n",
      "242/242 [==============================] - 0s 124us/step - loss: -7.1721 - acc: 0.5496\n",
      "Epoch 68/100\n",
      "242/242 [==============================] - 0s 144us/step - loss: -7.1733 - acc: 0.5496\n",
      "Epoch 69/100\n",
      "242/242 [==============================] - 0s 132us/step - loss: -7.1749 - acc: 0.5496\n",
      "Epoch 70/100\n",
      "242/242 [==============================] - 0s 132us/step - loss: -7.1761 - acc: 0.5496\n",
      "Epoch 71/100\n",
      "242/242 [==============================] - 0s 136us/step - loss: -7.1778 - acc: 0.5496\n",
      "Epoch 72/100\n",
      "242/242 [==============================] - 0s 124us/step - loss: -7.1778 - acc: 0.5496\n",
      "Epoch 73/100\n",
      "242/242 [==============================] - 0s 124us/step - loss: -7.1807 - acc: 0.5496\n",
      "Epoch 74/100\n",
      "242/242 [==============================] - 0s 136us/step - loss: -7.1807 - acc: 0.5496\n",
      "Epoch 75/100\n",
      "242/242 [==============================] - 0s 128us/step - loss: -7.1807 - acc: 0.5496\n",
      "Epoch 76/100\n",
      "242/242 [==============================] - 0s 152us/step - loss: -7.1807 - acc: 0.5496\n",
      "Epoch 77/100\n",
      "242/242 [==============================] - 0s 181us/step - loss: -7.1807 - acc: 0.5496\n",
      "Epoch 78/100\n",
      "242/242 [==============================] - 0s 136us/step - loss: -7.1807 - acc: 0.5496\n",
      "Epoch 79/100\n",
      "242/242 [==============================] - 0s 124us/step - loss: -7.1807 - acc: 0.5496\n",
      "Epoch 80/100\n",
      "242/242 [==============================] - 0s 128us/step - loss: -7.1807 - acc: 0.5496\n",
      "Epoch 81/100\n",
      "242/242 [==============================] - 0s 107us/step - loss: -7.1807 - acc: 0.5496\n",
      "Epoch 82/100\n"
     ]
    },
    {
     "name": "stdout",
     "output_type": "stream",
     "text": [
      "242/242 [==============================] - 0s 124us/step - loss: -7.1807 - acc: 0.5496\n",
      "Epoch 83/100\n",
      "242/242 [==============================] - 0s 99us/step - loss: -7.1807 - acc: 0.5496\n",
      "Epoch 84/100\n",
      "242/242 [==============================] - 0s 87us/step - loss: -7.1807 - acc: 0.5496\n",
      "Epoch 85/100\n",
      "242/242 [==============================] - 0s 107us/step - loss: -7.1807 - acc: 0.5496\n",
      "Epoch 86/100\n",
      "242/242 [==============================] - 0s 95us/step - loss: -7.1807 - acc: 0.5496\n",
      "Epoch 87/100\n",
      "242/242 [==============================] - 0s 115us/step - loss: -7.1807 - acc: 0.5496\n",
      "Epoch 88/100\n",
      "242/242 [==============================] - 0s 136us/step - loss: -7.1807 - acc: 0.5496\n",
      "Epoch 89/100\n",
      "242/242 [==============================] - 0s 103us/step - loss: -7.1807 - acc: 0.5496\n",
      "Epoch 90/100\n",
      "242/242 [==============================] - 0s 115us/step - loss: -7.1807 - acc: 0.5496\n",
      "Epoch 91/100\n",
      "242/242 [==============================] - 0s 128us/step - loss: -7.1807 - acc: 0.5496\n",
      "Epoch 92/100\n",
      "242/242 [==============================] - 0s 124us/step - loss: -7.1807 - acc: 0.5496\n",
      "Epoch 93/100\n",
      "242/242 [==============================] - 0s 107us/step - loss: -7.1807 - acc: 0.5496\n",
      "Epoch 94/100\n",
      "242/242 [==============================] - 0s 120us/step - loss: -7.1807 - acc: 0.5496\n",
      "Epoch 95/100\n",
      "242/242 [==============================] - 0s 111us/step - loss: -7.1807 - acc: 0.5496\n",
      "Epoch 96/100\n",
      "242/242 [==============================] - 0s 120us/step - loss: -7.1807 - acc: 0.5496\n",
      "Epoch 97/100\n",
      "242/242 [==============================] - 0s 103us/step - loss: -7.1807 - acc: 0.5496\n",
      "Epoch 98/100\n",
      "242/242 [==============================] - 0s 115us/step - loss: -7.1807 - acc: 0.5496\n",
      "Epoch 99/100\n",
      "242/242 [==============================] - 0s 124us/step - loss: -7.1807 - acc: 0.5496\n",
      "Epoch 100/100\n",
      "242/242 [==============================] - 0s 124us/step - loss: -7.1807 - acc: 0.5496\n",
      " \n",
      "Elapsed time: 3.63 seconds\n"
     ]
    }
   ],
   "source": [
    "# Fitting our model\n",
    "trainStart = time.time()\n",
    "clasifier.fit(x_train, y_train, epochs=100, batch_size=10)\n",
    "\n",
    "trainEnd = time.time()\n",
    "print(\" \")\n",
    "print('Elapsed time: {:.2f} seconds'.format(trainEnd - trainStart))"
   ]
  },
  {
   "cell_type": "markdown",
   "metadata": {},
   "source": [
    "### Predicting the test set result. \n"
   ]
  },
  {
   "cell_type": "code",
   "execution_count": 11,
   "metadata": {},
   "outputs": [],
   "source": [
    "# Predicting the Test set results\n",
    "y_pred = clasifier.predict(x_test)\n",
    "#y_pred = 1.0*(y_pred > 0.0)"
   ]
  },
  {
   "cell_type": "markdown",
   "metadata": {},
   "source": [
    "# This is the final step where we are evaluating our model performance. \n",
    "We have original results and thus we can build confusion matrix to check the accuracy of model."
   ]
  },
  {
   "cell_type": "code",
   "execution_count": 13,
   "metadata": {},
   "outputs": [
    {
     "data": {
      "text/plain": [
       "array([[31,  0],\n",
       "       [30,  0]], dtype=int64)"
      ]
     },
     "execution_count": 13,
     "metadata": {},
     "output_type": "execute_result"
    }
   ],
   "source": [
    "# Creating the Confusion Matrix\n",
    "\n",
    "cm = confusion_matrix(y_test, y_pred)\n",
    "df.to_csv('Case1.2_confusion_matrix.csv')\n",
    "cm"
   ]
  },
  {
   "cell_type": "markdown",
   "metadata": {},
   "source": [
    "#### So the Accuracy of our model can be calculated as:\n",
    "\n",
    "Accuracy= x + y / z =\n",
    "\n",
    "We'vv got % accuracy."
   ]
  }
 ],
 "metadata": {
  "kernelspec": {
   "display_name": "Python 3",
   "language": "python",
   "name": "python3"
  },
  "language_info": {
   "codemirror_mode": {
    "name": "ipython",
    "version": 3
   },
   "file_extension": ".py",
   "mimetype": "text/x-python",
   "name": "python",
   "nbconvert_exporter": "python",
   "pygments_lexer": "ipython3",
   "version": "3.6.8"
  }
 },
 "nbformat": 4,
 "nbformat_minor": 2
}
