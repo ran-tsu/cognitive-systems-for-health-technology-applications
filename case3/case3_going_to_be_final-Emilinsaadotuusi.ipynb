{
 "cells": [
  {
   "cell_type": "markdown",
   "metadata": {},
   "source": [
    "# Case 3. Heart Disease Classification \n",
    "    Cognitive Systems for Health Technology Applications\n",
    "    19.3.2019, Emil Rantanen ja Wille Tuovinen\n",
    "    Metropolia University of Applied Sciences"
   ]
  },
  {
   "cell_type": "markdown",
   "metadata": {},
   "source": [
    "## 1. Objectives\n",
    "\n",
    "This is the code made for the Case 3 exercise of the Cognitive Systems for Health Technology applications.\n",
    "\n",
    "The goal of this assignment were to use recurrent and neural networks to process text data and predict ratings from a review text.\n",
    "\n",
    "Links to codes used to complete this assignment: \n",
    "\n",
    "Case 3. Data analysis and first classification experiments\n",
    "https://github.com/sakluk/cognitive-systems-for-health-technology/blob/master/Week%206.%20Case%203%20-%20First%20classification%20experiments.ipynb\n",
    "\n",
    "Embedding, LSTM, GRU and Conv1D\n",
    "https://github.com/sakluk/cognitive-systems-for-health-technology/blob/master/Week%207.%20embedding-lstm-gru-and-conv1d.ipynb\n",
    "\n",
    "There were also pieces of code based on the previous cases."
   ]
  },
  {
   "cell_type": "code",
   "execution_count": 1,
   "metadata": {},
   "outputs": [
    {
     "name": "stderr",
     "output_type": "stream",
     "text": [
      "Using TensorFlow backend.\n"
     ]
    },
    {
     "ename": "FileNotFoundError",
     "evalue": "[WinError 3] The system cannot find the path specified: 'A:/Downloads/Case3/'",
     "output_type": "error",
     "traceback": [
      "\u001b[1;31m---------------------------------------------------------------------------\u001b[0m",
      "\u001b[1;31mFileNotFoundError\u001b[0m                         Traceback (most recent call last)",
      "\u001b[1;32m<ipython-input-1-b21bf27da4cc>\u001b[0m in \u001b[0;36m<module>\u001b[1;34m\u001b[0m\n\u001b[0;32m     18\u001b[0m \u001b[1;33m\u001b[0m\u001b[0m\n\u001b[0;32m     19\u001b[0m \u001b[1;32mimport\u001b[0m \u001b[0mos\u001b[0m\u001b[1;33m\u001b[0m\u001b[1;33m\u001b[0m\u001b[0m\n\u001b[1;32m---> 20\u001b[1;33m \u001b[0mprint\u001b[0m\u001b[1;33m(\u001b[0m\u001b[0mos\u001b[0m\u001b[1;33m.\u001b[0m\u001b[0mlistdir\u001b[0m\u001b[1;33m(\u001b[0m\u001b[1;34m\"A:/Downloads/Case3/\"\u001b[0m\u001b[1;33m)\u001b[0m\u001b[1;33m)\u001b[0m\u001b[1;33m\u001b[0m\u001b[1;33m\u001b[0m\u001b[0m\n\u001b[0m",
      "\u001b[1;31mFileNotFoundError\u001b[0m: [WinError 3] The system cannot find the path specified: 'A:/Downloads/Case3/'"
     ]
    }
   ],
   "source": [
    "# Import libraries that are needed in this assignment\n",
    "from __future__ import print_function\n",
    "import numpy as np # linear algebra\n",
    "import pandas as pd # data processing\n",
    "\n",
    "from keras.preprocessing.text import Tokenizer\n",
    "from keras.preprocessing.sequence import pad_sequences\n",
    "from keras.utils import to_categorical\n",
    "from keras.models import Sequential\n",
    "from keras.layers import Embedding, Flatten, Dense, Embedding, LSTM, Bidirectional, Dropout\n",
    "\n",
    "from keras.preprocessing import sequence\n",
    "from keras.models import Sequential\n",
    "\n",
    "#For CNN\n",
    "from keras.layers import Conv1D, Activation, MaxPooling1D, Dropout, Flatten, Dense\n",
    "from keras import optimizers\n",
    "\n",
    "import os\n",
    "print(os.listdir(\"A:/Downloads/Case3/\"))\n"
   ]
  },
  {
   "cell_type": "code",
   "execution_count": null,
   "metadata": {},
   "outputs": [],
   "source": [
    "# Create dataframes train and test from the data\n",
    "train = pd.read_csv('A:/Downloads/Case3/drugsComTrain_raw.csv')\n",
    "test = pd.read_csv('A:/Downloads/Case3/drugsComTest_raw.csv')\n",
    "train.head(10)"
   ]
  },
  {
   "cell_type": "code",
   "execution_count": 83,
   "metadata": {},
   "outputs": [
    {
     "data": {
      "text/html": [
       "<div>\n",
       "<style scoped>\n",
       "    .dataframe tbody tr th:only-of-type {\n",
       "        vertical-align: middle;\n",
       "    }\n",
       "\n",
       "    .dataframe tbody tr th {\n",
       "        vertical-align: top;\n",
       "    }\n",
       "\n",
       "    .dataframe thead th {\n",
       "        text-align: right;\n",
       "    }\n",
       "</style>\n",
       "<table border=\"1\" class=\"dataframe\">\n",
       "  <thead>\n",
       "    <tr style=\"text-align: right;\">\n",
       "      <th></th>\n",
       "      <th>uniqueID</th>\n",
       "      <th>drugName</th>\n",
       "      <th>condition</th>\n",
       "      <th>review</th>\n",
       "      <th>rating</th>\n",
       "      <th>date</th>\n",
       "      <th>usefulCount</th>\n",
       "    </tr>\n",
       "  </thead>\n",
       "  <tbody>\n",
       "    <tr>\n",
       "      <th>0</th>\n",
       "      <td>163740</td>\n",
       "      <td>Mirtazapine</td>\n",
       "      <td>Depression</td>\n",
       "      <td>\"I&amp;#039;ve tried a few antidepressants over th...</td>\n",
       "      <td>10</td>\n",
       "      <td>28-Feb-12</td>\n",
       "      <td>22</td>\n",
       "    </tr>\n",
       "    <tr>\n",
       "      <th>1</th>\n",
       "      <td>206473</td>\n",
       "      <td>Mesalamine</td>\n",
       "      <td>Crohn's Disease, Maintenance</td>\n",
       "      <td>\"My son has Crohn&amp;#039;s disease and has done ...</td>\n",
       "      <td>8</td>\n",
       "      <td>17-May-09</td>\n",
       "      <td>17</td>\n",
       "    </tr>\n",
       "    <tr>\n",
       "      <th>2</th>\n",
       "      <td>159672</td>\n",
       "      <td>Bactrim</td>\n",
       "      <td>Urinary Tract Infection</td>\n",
       "      <td>\"Quick reduction of symptoms\"</td>\n",
       "      <td>9</td>\n",
       "      <td>29-Sep-17</td>\n",
       "      <td>3</td>\n",
       "    </tr>\n",
       "    <tr>\n",
       "      <th>3</th>\n",
       "      <td>39293</td>\n",
       "      <td>Contrave</td>\n",
       "      <td>Weight Loss</td>\n",
       "      <td>\"Contrave combines drugs that were used for al...</td>\n",
       "      <td>9</td>\n",
       "      <td>5-Mar-17</td>\n",
       "      <td>35</td>\n",
       "    </tr>\n",
       "    <tr>\n",
       "      <th>4</th>\n",
       "      <td>97768</td>\n",
       "      <td>Cyclafem 1 / 35</td>\n",
       "      <td>Birth Control</td>\n",
       "      <td>\"I have been on this birth control for one cyc...</td>\n",
       "      <td>9</td>\n",
       "      <td>22-Oct-15</td>\n",
       "      <td>4</td>\n",
       "    </tr>\n",
       "    <tr>\n",
       "      <th>5</th>\n",
       "      <td>208087</td>\n",
       "      <td>Zyclara</td>\n",
       "      <td>Keratosis</td>\n",
       "      <td>\"4 days in on first 2 weeks.  Using on arms an...</td>\n",
       "      <td>4</td>\n",
       "      <td>3-Jul-14</td>\n",
       "      <td>13</td>\n",
       "    </tr>\n",
       "    <tr>\n",
       "      <th>6</th>\n",
       "      <td>215892</td>\n",
       "      <td>Copper</td>\n",
       "      <td>Birth Control</td>\n",
       "      <td>\"I&amp;#039;ve had the copper coil for about 3 mon...</td>\n",
       "      <td>6</td>\n",
       "      <td>6-Jun-16</td>\n",
       "      <td>1</td>\n",
       "    </tr>\n",
       "    <tr>\n",
       "      <th>7</th>\n",
       "      <td>169852</td>\n",
       "      <td>Amitriptyline</td>\n",
       "      <td>Migraine Prevention</td>\n",
       "      <td>\"This has been great for me. I&amp;#039;ve been on...</td>\n",
       "      <td>9</td>\n",
       "      <td>21-Apr-09</td>\n",
       "      <td>32</td>\n",
       "    </tr>\n",
       "    <tr>\n",
       "      <th>8</th>\n",
       "      <td>23295</td>\n",
       "      <td>Methadone</td>\n",
       "      <td>Opiate Withdrawal</td>\n",
       "      <td>\"Ive been on Methadone for over ten years and ...</td>\n",
       "      <td>7</td>\n",
       "      <td>18-Oct-16</td>\n",
       "      <td>21</td>\n",
       "    </tr>\n",
       "    <tr>\n",
       "      <th>9</th>\n",
       "      <td>71428</td>\n",
       "      <td>Levora</td>\n",
       "      <td>Birth Control</td>\n",
       "      <td>\"I was on this pill for almost two years. It d...</td>\n",
       "      <td>2</td>\n",
       "      <td>16-Apr-11</td>\n",
       "      <td>3</td>\n",
       "    </tr>\n",
       "  </tbody>\n",
       "</table>\n",
       "</div>"
      ],
      "text/plain": [
       "   uniqueID         drugName                     condition  \\\n",
       "0    163740      Mirtazapine                    Depression   \n",
       "1    206473       Mesalamine  Crohn's Disease, Maintenance   \n",
       "2    159672          Bactrim       Urinary Tract Infection   \n",
       "3     39293         Contrave                   Weight Loss   \n",
       "4     97768  Cyclafem 1 / 35                 Birth Control   \n",
       "5    208087          Zyclara                     Keratosis   \n",
       "6    215892           Copper                 Birth Control   \n",
       "7    169852    Amitriptyline           Migraine Prevention   \n",
       "8     23295        Methadone             Opiate Withdrawal   \n",
       "9     71428           Levora                 Birth Control   \n",
       "\n",
       "                                              review  rating       date  \\\n",
       "0  \"I&#039;ve tried a few antidepressants over th...      10  28-Feb-12   \n",
       "1  \"My son has Crohn&#039;s disease and has done ...       8  17-May-09   \n",
       "2                      \"Quick reduction of symptoms\"       9  29-Sep-17   \n",
       "3  \"Contrave combines drugs that were used for al...       9   5-Mar-17   \n",
       "4  \"I have been on this birth control for one cyc...       9  22-Oct-15   \n",
       "5  \"4 days in on first 2 weeks.  Using on arms an...       4   3-Jul-14   \n",
       "6  \"I&#039;ve had the copper coil for about 3 mon...       6   6-Jun-16   \n",
       "7  \"This has been great for me. I&#039;ve been on...       9  21-Apr-09   \n",
       "8  \"Ive been on Methadone for over ten years and ...       7  18-Oct-16   \n",
       "9  \"I was on this pill for almost two years. It d...       2  16-Apr-11   \n",
       "\n",
       "   usefulCount  \n",
       "0           22  \n",
       "1           17  \n",
       "2            3  \n",
       "3           35  \n",
       "4            4  \n",
       "5           13  \n",
       "6            1  \n",
       "7           32  \n",
       "8           21  \n",
       "9            3  "
      ]
     },
     "execution_count": 83,
     "metadata": {},
     "output_type": "execute_result"
    }
   ],
   "source": [
    "test.head(10)"
   ]
  },
  {
   "cell_type": "code",
   "execution_count": 84,
   "metadata": {},
   "outputs": [
    {
     "name": "stdout",
     "output_type": "stream",
     "text": [
      "Training data shape: (161297, 7)\n",
      "Test data shape: (53766, 7)\n"
     ]
    }
   ],
   "source": [
    "print(\"Training data shape:\", train.shape)\n",
    "print(\"Test data shape:\", test.shape)"
   ]
  },
  {
   "cell_type": "markdown",
   "metadata": {},
   "source": [
    "### Create labels based on the original article: Grässer et al. (2018)\n",
    "Labels between 1 - 5"
   ]
  },
  {
   "cell_type": "code",
   "execution_count": 6,
   "metadata": {},
   "outputs": [
    {
     "ename": "NameError",
     "evalue": "name 'train' is not defined",
     "output_type": "error",
     "traceback": [
      "\u001b[1;31m---------------------------------------------------------------------------\u001b[0m",
      "\u001b[1;31mNameError\u001b[0m                                 Traceback (most recent call last)",
      "\u001b[1;32m<ipython-input-6-49baf21b4d29>\u001b[0m in \u001b[0;36m<module>\u001b[1;34m\u001b[0m\n\u001b[0;32m      1\u001b[0m \u001b[1;31m# Create labels based on the original article: Grässer et al. (2018)\u001b[0m\u001b[1;33m\u001b[0m\u001b[1;33m\u001b[0m\u001b[1;33m\u001b[0m\u001b[0m\n\u001b[1;32m----> 2\u001b[1;33m \u001b[0mr\u001b[0m \u001b[1;33m=\u001b[0m \u001b[0mtrain\u001b[0m\u001b[1;33m[\u001b[0m\u001b[1;34m'rating'\u001b[0m\u001b[1;33m]\u001b[0m\u001b[1;33m\u001b[0m\u001b[1;33m\u001b[0m\u001b[0m\n\u001b[0m\u001b[0;32m      3\u001b[0m \u001b[0mlabels\u001b[0m \u001b[1;33m=\u001b[0m \u001b[1;33m-\u001b[0m\u001b[1;36m1\u001b[0m\u001b[1;33m*\u001b[0m\u001b[1;33m(\u001b[0m\u001b[0mr\u001b[0m \u001b[1;33m<=\u001b[0m \u001b[1;36m4\u001b[0m\u001b[1;33m)\u001b[0m \u001b[1;33m+\u001b[0m \u001b[1;36m1\u001b[0m\u001b[1;33m*\u001b[0m\u001b[1;33m(\u001b[0m\u001b[0mr\u001b[0m \u001b[1;33m>=\u001b[0m \u001b[1;36m7\u001b[0m\u001b[1;33m)\u001b[0m\u001b[1;33m\u001b[0m\u001b[1;33m\u001b[0m\u001b[0m\n\u001b[0;32m      4\u001b[0m \u001b[1;31m# Add the label column to the data\u001b[0m\u001b[1;33m\u001b[0m\u001b[1;33m\u001b[0m\u001b[1;33m\u001b[0m\u001b[0m\n\u001b[0;32m      5\u001b[0m \u001b[0mtrain\u001b[0m\u001b[1;33m[\u001b[0m\u001b[1;34m'label'\u001b[0m\u001b[1;33m]\u001b[0m \u001b[1;33m=\u001b[0m \u001b[0mlabels\u001b[0m\u001b[1;33m\u001b[0m\u001b[1;33m\u001b[0m\u001b[0m\n",
      "\u001b[1;31mNameError\u001b[0m: name 'train' is not defined"
     ]
    }
   ],
   "source": [
    "r = train['rating']\n",
    "labels =   1*(( 1 <= r ) & ( r <= 2 )) + 2*(( 3 <= r ) & ( r <= 4 )) \\\n",
    "        +  3*(( 5 <= r ) & ( r <= 6 )) + 4*(( 7 <= r ) & ( r <= 8 )) \\\n",
    "        +  5*(( 9 <= r ) & ( r <= 10)) \n",
    "# Add the label column to the data\n",
    "train['label'] = labels\n",
    "# Check the new data\n",
    "train.head(10)"
   ]
  },
  {
   "cell_type": "code",
   "execution_count": 86,
   "metadata": {},
   "outputs": [
    {
     "data": {
      "image/png": "[encoded data removed]",
      "text/plain": [
       "<Figure size 432x288 with 1 Axes>"
      ]
     },
     "metadata": {
      "needs_background": "light"
     },
     "output_type": "display_data"
    }
   ],
   "source": [
    "# Check ratings to labels conversion\n",
    "import matplotlib.pyplot as plt\n",
    "train.plot(x = 'rating', y = 'label', kind = 'scatter')\n",
    "plt.show()\n"
   ]
  },
  {
   "cell_type": "code",
   "execution_count": 87,
   "metadata": {},
   "outputs": [
    {
     "data": {
      "image/png": "[encoded data removed]",
      "text/plain": [
       "<Figure size 432x288 with 1 Axes>"
      ]
     },
     "metadata": {
      "needs_background": "light"
     },
     "output_type": "display_data"
    }
   ],
   "source": [
    "\n",
    "# Plot distribution of labels\n",
    "train.hist(column = 'label', bins = np.arange(1, 7), align = 'left');"
   ]
  },
  {
   "cell_type": "markdown",
   "metadata": {},
   "source": [
    "# Convert reviews to padded sequences"
   ]
  },
  {
   "cell_type": "code",
   "execution_count": 88,
   "metadata": {},
   "outputs": [],
   "source": [
    "\n",
    "# Read a part of the reviews and create training sequences (x_train)\n",
    "samples = train['review'].iloc[:10000]\n",
    "tokenizer = Tokenizer(num_words = 1000)\n",
    "tokenizer.fit_on_texts(samples)\n",
    "sequences = tokenizer.texts_to_sequences(samples)\n",
    "x_train = pad_sequences(sequences, maxlen = 500)\n",
    "\n",
    "\n",
    "# Read a part of the reviews and create testing sequences (x_test)\n",
    "test_samples = test['review'].iloc[:10000]\n",
    "test_tokenizer = Tokenizer(num_words = 1000)\n",
    "test_tokenizer.fit_on_texts(test_samples)\n",
    "test_sequences = tokenizer.texts_to_sequences(test_samples)\n",
    "x_test = pad_sequences(test_sequences, maxlen = 500)"
   ]
  },
  {
   "cell_type": "markdown",
   "metadata": {},
   "source": [
    "# Convert labels to one-hot-categories"
   ]
  },
  {
   "cell_type": "code",
   "execution_count": 89,
   "metadata": {},
   "outputs": [],
   "source": [
    "\n",
    "# Convert the labels to one_hot_category values\n",
    "one_hot_labels = to_categorical(labels[:10000], num_classes = 7)"
   ]
  },
  {
   "cell_type": "markdown",
   "metadata": {},
   "source": [
    "# Check the shapes"
   ]
  },
  {
   "cell_type": "code",
   "execution_count": 90,
   "metadata": {},
   "outputs": [
    {
     "data": {
      "text/plain": [
       "((10000, 500), (10000, 3))"
      ]
     },
     "execution_count": 90,
     "metadata": {},
     "output_type": "execute_result"
    }
   ],
   "source": [
    "# Check the training and label sets\n",
    "x_train.shape, one_hot_labels.shape"
   ]
  },
  {
   "cell_type": "code",
   "execution_count": 91,
   "metadata": {},
   "outputs": [
    {
     "name": "stdout",
     "output_type": "stream",
     "text": [
      "[[0. 1. 0.]\n",
      " [0. 1. 0.]\n",
      " [1. 0. 0.]\n",
      " ...\n",
      " [0. 0. 1.]\n",
      " [0. 0. 1.]\n",
      " [0. 1. 0.]]\n",
      " \n",
      "[[  0   0   0 ...  97 148   2]\n",
      " [  0   0   0 ...   3 202 332]\n",
      " [  0   0   0 ... 371  10  24]\n",
      " ...\n",
      " [  0   0   0 ... 152   4   7]\n",
      " [  0   0   0 ...  11 107 661]\n",
      " [  0   0   0 ...  88 220 462]]\n"
     ]
    }
   ],
   "source": [
    "print(one_hot_labels)\n",
    "print(\" \")\n",
    "print(x_train)"
   ]
  },
  {
   "cell_type": "code",
   "execution_count": 92,
   "metadata": {},
   "outputs": [],
   "source": [
    "# We use the same plotting commands several times, so create a function for that purpose\n",
    "def plot_history(history):\n",
    "    \n",
    "    f, ax = plt.subplots(1, 2, figsize = (16, 7))\n",
    "    \n",
    "    acc = history.history['acc']\n",
    "    val_acc = history.history['val_acc']\n",
    "    loss = history.history['loss']\n",
    "    val_loss = history.history['val_loss']\n",
    "\n",
    "    epochs = range(1, len(acc) + 1)\n",
    "\n",
    "    plt.sca(ax[0])\n",
    "    plt.plot(epochs, acc, 'bo', label='Training acc')\n",
    "    plt.plot(epochs, val_acc, 'b', label='Validation acc')\n",
    "    plt.title('Training and validation accuracy')\n",
    "    plt.legend()\n",
    "\n",
    "    plt.sca(ax[1])\n",
    "    plt.plot(epochs, loss, 'bo', label='Training loss')\n",
    "    plt.plot(epochs, val_loss, 'b', label='Validation loss')\n",
    "    plt.title('Training and validation loss')\n",
    "    plt.legend()\n",
    "\n",
    "    plt.show()"
   ]
  },
  {
   "cell_type": "code",
   "execution_count": 113,
   "metadata": {},
   "outputs": [],
   "source": [
    "# Similarly create a function for model training, for demonstration purposes we use constant values\n",
    "def train_model(model, x, y, e = 10, bs = 32, v = 1, vs = 0.25):\n",
    "    h = model.fit(x, y, epochs = e, batch_size = bs, verbose = v, validation_split = vs)\n",
    "    return h"
   ]
  },
  {
   "cell_type": "code",
   "execution_count": 114,
   "metadata": {},
   "outputs": [
    {
     "name": "stdout",
     "output_type": "stream",
     "text": [
      "_________________________________________________________________\n",
      "Layer (type)                 Output Shape              Param #   \n",
      "=================================================================\n",
      "embedding_16 (Embedding)     (None, 500, 64)           64000     \n",
      "_________________________________________________________________\n",
      "flatten_16 (Flatten)         (None, 32000)             0         \n",
      "_________________________________________________________________\n",
      "dense_31 (Dense)             (None, 32)                1024032   \n",
      "_________________________________________________________________\n",
      "dense_32 (Dense)             (None, 3)                 99        \n",
      "=================================================================\n",
      "Total params: 1,088,131\n",
      "Trainable params: 1,088,131\n",
      "Non-trainable params: 0\n",
      "_________________________________________________________________\n"
     ]
    }
   ],
   "source": [
    "\n",
    "# First model: Embedding layer -> Flatten -> Dense classifier\n",
    "m0 = Sequential()\n",
    "m0.add(Embedding(1000, 64, input_length = 500)) # 1000 = num_words, 64 = Embedding layers, 500 = sequence length\n",
    "m0.add(Flatten())\n",
    "m0.add(Dense(32, activation = 'relu'))\n",
    "m0.add(Dense(7, activation = 'softmax'))\n",
    "m0.compile(optimizer = 'rmsprop', loss = 'categorical_crossentropy', metrics = ['acc'])\n",
    "m0.summary()"
   ]
  },
  {
   "cell_type": "code",
   "execution_count": 115,
   "metadata": {},
   "outputs": [
    {
     "name": "stdout",
     "output_type": "stream",
     "text": [
      "Train on 7500 samples, validate on 2500 samples\n",
      "Epoch 1/10\n",
      "7500/7500 [==============================] - 3s 351us/step - loss: 0.8376 - acc: 0.6629 - val_loss: 0.7720 - val_acc: 0.6664\n",
      "Epoch 2/10\n",
      "7500/7500 [==============================] - 2s 254us/step - loss: 0.5941 - acc: 0.7760 - val_loss: 0.6888 - val_acc: 0.7436\n",
      "Epoch 3/10\n",
      "7500/7500 [==============================] - 2s 249us/step - loss: 0.4054 - acc: 0.8496 - val_loss: 0.8014 - val_acc: 0.6724\n",
      "Epoch 4/10\n",
      "7500/7500 [==============================] - 2s 252us/step - loss: 0.2240 - acc: 0.9259 - val_loss: 0.9369 - val_acc: 0.7140\n",
      "Epoch 5/10\n",
      "7500/7500 [==============================] - 2s 247us/step - loss: 0.1078 - acc: 0.9693 - val_loss: 1.1679 - val_acc: 0.7096\n",
      "Epoch 6/10\n",
      "7500/7500 [==============================] - 2s 249us/step - loss: 0.0498 - acc: 0.9879 - val_loss: 1.4092 - val_acc: 0.6860\n",
      "Epoch 7/10\n",
      "7500/7500 [==============================] - 2s 252us/step - loss: 0.0248 - acc: 0.9931 - val_loss: 1.6195 - val_acc: 0.6976\n",
      "Epoch 8/10\n",
      "7500/7500 [==============================] - 2s 251us/step - loss: 0.0136 - acc: 0.9963 - val_loss: 1.9483 - val_acc: 0.7028\n",
      "Epoch 9/10\n",
      "7500/7500 [==============================] - 2s 254us/step - loss: 0.0091 - acc: 0.9973 - val_loss: 2.2918 - val_acc: 0.7096\n",
      "Epoch 10/10\n",
      "7500/7500 [==============================] - 2s 251us/step - loss: 0.0074 - acc: 0.9973 - val_loss: 2.6184 - val_acc: 0.7100\n"
     ]
    },
    {
     "data": {
      "image/png": "[encoded data removed]",
      "text/plain": [
       "<Figure size 1152x504 with 2 Axes>"
      ]
     },
     "metadata": {
      "needs_background": "light"
     },
     "output_type": "display_data"
    }
   ],
   "source": [
    "#Train the first model and plot the history\n",
    "h0 = train_model(m0, x_train, one_hot_labels)\n",
    "plot_history(h0)"
   ]
  },
  {
   "cell_type": "markdown",
   "metadata": {},
   "source": [
    "# New model using CNN"
   ]
  },
  {
   "cell_type": "code",
   "execution_count": 117,
   "metadata": {},
   "outputs": [
    {
     "name": "stdout",
     "output_type": "stream",
     "text": [
      "_________________________________________________________________\n",
      "Layer (type)                 Output Shape              Param #   \n",
      "=================================================================\n",
      "embedding_17 (Embedding)     (None, 500, 64)           64000     \n",
      "_________________________________________________________________\n",
      "conv1d_33 (Conv1D)           (None, 498, 32)           6176      \n",
      "_________________________________________________________________\n",
      "conv1d_34 (Conv1D)           (None, 496, 32)           3104      \n",
      "_________________________________________________________________\n",
      "max_pooling1d_17 (MaxPooling (None, 248, 32)           0         \n",
      "_________________________________________________________________\n",
      "dropout_25 (Dropout)         (None, 248, 32)           0         \n",
      "_________________________________________________________________\n",
      "conv1d_35 (Conv1D)           (None, 246, 64)           6208      \n",
      "_________________________________________________________________\n",
      "conv1d_36 (Conv1D)           (None, 244, 64)           12352     \n",
      "_________________________________________________________________\n",
      "max_pooling1d_18 (MaxPooling (None, 122, 64)           0         \n",
      "_________________________________________________________________\n",
      "dropout_26 (Dropout)         (None, 122, 64)           0         \n",
      "_________________________________________________________________\n",
      "flatten_17 (Flatten)         (None, 7808)              0         \n",
      "_________________________________________________________________\n",
      "dense_33 (Dense)             (None, 32)                249888    \n",
      "_________________________________________________________________\n",
      "dropout_27 (Dropout)         (None, 32)                0         \n",
      "_________________________________________________________________\n",
      "dense_34 (Dense)             (None, 3)                 99        \n",
      "=================================================================\n",
      "Total params: 341,827\n",
      "Trainable params: 341,827\n",
      "Non-trainable params: 0\n",
      "_________________________________________________________________\n"
     ]
    }
   ],
   "source": [
    "# Lets Create a basic Sequential model with several Conv1D layers\n",
    "model = Sequential()\n",
    "\n",
    "model.add(Embedding(1000, 64, input_length = 500))\n",
    "model.add(Conv1D(32, (3), activation = 'relu', input_shape = (161297, 7)))\n",
    "model.add(Conv1D(32, (3), activation = 'relu'))\n",
    "model.add(MaxPooling1D(pool_size = (2)))\n",
    "model.add(Dropout(0.25))\n",
    "\n",
    "model.add(Conv1D(64, (3), activation = 'relu'))\n",
    "model.add(Conv1D(64, (3), activation = 'relu'))\n",
    "model.add(MaxPooling1D(pool_size = (2)))\n",
    "model.add(Dropout(0.25))\n",
    "\n",
    "model.add(Flatten())\n",
    "model.add(Dense(32, activation = 'relu'))\n",
    "model.add(Dropout(0.5))\n",
    "model.add(Dense(7, activation = 'softmax'))\n",
    "\n",
    "# Try a custom metrics, needs to be calculated in backend (Tensorflow)  \n",
    "from keras import backend\n",
    "def rmse(y_true, y_pred):\n",
    "    return backend.sqrt(backend.mean(backend.square(y_pred - y_true), axis=-1))\n",
    "\n",
    "sgd = optimizers.SGD(lr=0.01, decay=1e-6, momentum=0.9, nesterov=True)\n",
    "model.compile(optimizer = sgd,\n",
    "             loss='categorical_crossentropy', \n",
    "              metrics = [\"accuracy\", \"mse\", rmse])\n",
    "model.summary()"
   ]
  },
  {
   "cell_type": "code",
   "execution_count": 118,
   "metadata": {},
   "outputs": [
    {
     "name": "stdout",
     "output_type": "stream",
     "text": [
      "Train on 7500 samples, validate on 2500 samples\n",
      "Epoch 1/10\n",
      "7500/7500 [==============================] - 4s 586us/step - loss: 0.8589 - acc: 0.6567 - mean_squared_error: 0.1690 - rmse: 0.3785 - val_loss: 0.8516 - val_acc: 0.6560 - val_mean_squared_error: 0.1674 - val_rmse: 0.3589\n",
      "Epoch 2/10\n",
      "7500/7500 [==============================] - 3s 427us/step - loss: 0.8411 - acc: 0.6588 - mean_squared_error: 0.1653 - rmse: 0.3701 - val_loss: 0.8472 - val_acc: 0.6560 - val_mean_squared_error: 0.1663 - val_rmse: 0.3703\n",
      "Epoch 3/10\n",
      "7500/7500 [==============================] - 3s 428us/step - loss: 0.8420 - acc: 0.6588 - mean_squared_error: 0.1655 - rmse: 0.3708 - val_loss: 0.8467 - val_acc: 0.6560 - val_mean_squared_error: 0.1663 - val_rmse: 0.3735\n",
      "Epoch 4/10\n",
      "7500/7500 [==============================] - 3s 434us/step - loss: 0.8417 - acc: 0.6588 - mean_squared_error: 0.1654 - rmse: 0.3708 - val_loss: 0.8475 - val_acc: 0.6560 - val_mean_squared_error: 0.1664 - val_rmse: 0.3670\n",
      "Epoch 5/10\n",
      "7500/7500 [==============================] - 3s 434us/step - loss: 0.8408 - acc: 0.6588 - mean_squared_error: 0.1652 - rmse: 0.3695 - val_loss: 0.8468 - val_acc: 0.6560 - val_mean_squared_error: 0.1663 - val_rmse: 0.3732\n",
      "Epoch 6/10\n",
      "7500/7500 [==============================] - 3s 437us/step - loss: 0.8400 - acc: 0.6588 - mean_squared_error: 0.1651 - rmse: 0.3701 - val_loss: 0.8469 - val_acc: 0.6560 - val_mean_squared_error: 0.1663 - val_rmse: 0.3729\n",
      "Epoch 7/10\n",
      "7500/7500 [==============================] - 3s 431us/step - loss: 0.8403 - acc: 0.6588 - mean_squared_error: 0.1651 - rmse: 0.3706 - val_loss: 0.8475 - val_acc: 0.6560 - val_mean_squared_error: 0.1664 - val_rmse: 0.3672\n",
      "Epoch 8/10\n",
      "7500/7500 [==============================] - 3s 457us/step - loss: 0.8404 - acc: 0.6588 - mean_squared_error: 0.1651 - rmse: 0.3693 - val_loss: 0.8468 - val_acc: 0.6560 - val_mean_squared_error: 0.1663 - val_rmse: 0.3689\n",
      "Epoch 9/10\n",
      "7500/7500 [==============================] - 4s 495us/step - loss: 0.8402 - acc: 0.6588 - mean_squared_error: 0.1652 - rmse: 0.3702 - val_loss: 0.8471 - val_acc: 0.6560 - val_mean_squared_error: 0.1663 - val_rmse: 0.3699\n",
      "Epoch 10/10\n",
      "7500/7500 [==============================] - 3s 444us/step - loss: 0.8402 - acc: 0.6588 - mean_squared_error: 0.1651 - rmse: 0.3699 - val_loss: 0.8466 - val_acc: 0.6560 - val_mean_squared_error: 0.1662 - val_rmse: 0.3710\n"
     ]
    }
   ],
   "source": [
    "h1 = train_model(model, x_train, one_hot_labels)"
   ]
  },
  {
   "cell_type": "code",
   "execution_count": 119,
   "metadata": {},
   "outputs": [
    {
     "data": {
      "image/png": "[encoded data removed]",
      "text/plain": [
       "<Figure size 1152x504 with 2 Axes>"
      ]
     },
     "metadata": {
      "needs_background": "light"
     },
     "output_type": "display_data"
    }
   ],
   "source": [
    "plot_history(h1)"
   ]
  },
  {
   "cell_type": "code",
   "execution_count": null,
   "metadata": {},
   "outputs": [],
   "source": []
  },
  {
   "cell_type": "code",
   "execution_count": 120,
   "metadata": {},
   "outputs": [],
   "source": [
    "# Train the first model and plot the history\n",
    "#h1 = train_model(model2, x_train, one_hot_labels)\n",
    "#plot_history(h1)"
   ]
  }
 ],
 "metadata": {
  "kernelspec": {
   "display_name": "Python 3",
   "language": "python",
   "name": "python3"
  },
  "language_info": {
   "codemirror_mode": {
    "name": "ipython",
    "version": 3
   },
   "file_extension": ".py",
   "mimetype": "text/x-python",
   "name": "python",
   "nbconvert_exporter": "python",
   "pygments_lexer": "ipython3",
   "version": "3.6.7"
  }
 },
 "nbformat": 4,
 "nbformat_minor": 2
}
