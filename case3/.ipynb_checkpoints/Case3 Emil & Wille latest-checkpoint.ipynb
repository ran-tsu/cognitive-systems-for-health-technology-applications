{
 "cells": [
  {
   "cell_type": "markdown",
   "metadata": {},
   "source": [
    "# Case 3. Heart Disease Classification \n",
    "    Cognitive Systems for Health Technology Applications\n",
    "    19.3.2019, Emil Rantanen ja Wille Tuovinen\n",
    "    Metropolia University of Applied Sciences"
   ]
  },
  {
   "cell_type": "markdown",
   "metadata": {},
   "source": [
    "## 1. Objectives\n",
    "\n",
    "This is the code made for the Case 3 exercise of the Cognitive Systems for Health Technology applications.\n",
    "\n",
    "The goal of this assignment were to use recurrent and neural networks to process text data and predict ratings from a review text.\n",
    "\n",
    "Links to codes used to complete this assignment: \n",
    "\n",
    "Case 3. Data analysis and first classification experiments\n",
    "https://github.com/sakluk/cognitive-systems-for-health-technology/blob/master/Week%206.%20Case%203%20-%20First%20classification%20experiments.ipynb\n",
    "\n",
    "Embedding, LSTM, GRU and Conv1D\n",
    "https://github.com/sakluk/cognitive-systems-for-health-technology/blob/master/Week%207.%20embedding-lstm-gru-and-conv1d.ipynb\n",
    "\n",
    "There were also pieces of code based on the previous cases."
   ]
  },
  {
   "cell_type": "markdown",
   "metadata": {},
   "source": [
    "# Importing libraries \n",
    "Firstly we need to import all the librarys what we a re going to use in this case3."
   ]
  },
  {
   "cell_type": "code",
   "execution_count": 168,
   "metadata": {},
   "outputs": [
    {
     "name": "stdout",
     "output_type": "stream",
     "text": [
      "['drugsComTest_raw.csv', 'drugsComTrain_raw.csv']\n"
     ]
    }
   ],
   "source": [
    "\n",
    "from __future__ import print_function\n",
    "import numpy as np # linear algebra\n",
    "import pandas as pd # data processing\n",
    "\n",
    "from keras.preprocessing.text import Tokenizer\n",
    "from keras.preprocessing.sequence import pad_sequences\n",
    "from keras.utils import to_categorical\n",
    "from keras.models import Sequential\n",
    "from keras.layers import Embedding, Flatten, Dense, Embedding, LSTM, Bidirectional, Dropout\n",
    "\n",
    "from keras.preprocessing import sequence\n",
    "from keras.models import Sequential\n",
    "\n",
    "#For CNN\n",
    "from keras.layers import Conv1D, Activation, MaxPooling1D, GlobalAveragePooling1D\n",
    "from keras import optimizers\n",
    "\n",
    "import os\n",
    "print(os.listdir(\"../../case3_datas\"))\n"
   ]
  },
  {
   "cell_type": "markdown",
   "metadata": {},
   "source": [
    "# Create dataframes train and test\n",
    "Here we create needed dataframes and test-print that the file locations are correct."
   ]
  },
  {
   "cell_type": "code",
   "execution_count": 103,
   "metadata": {},
   "outputs": [
    {
     "data": {
      "text/html": [
       "<div>\n",
       "<style scoped>\n",
       "    .dataframe tbody tr th:only-of-type {\n",
       "        vertical-align: middle;\n",
       "    }\n",
       "\n",
       "    .dataframe tbody tr th {\n",
       "        vertical-align: top;\n",
       "    }\n",
       "\n",
       "    .dataframe thead th {\n",
       "        text-align: right;\n",
       "    }\n",
       "</style>\n",
       "<table border=\"1\" class=\"dataframe\">\n",
       "  <thead>\n",
       "    <tr style=\"text-align: right;\">\n",
       "      <th></th>\n",
       "      <th>uniqueID</th>\n",
       "      <th>drugName</th>\n",
       "      <th>condition</th>\n",
       "      <th>review</th>\n",
       "      <th>rating</th>\n",
       "      <th>date</th>\n",
       "      <th>usefulCount</th>\n",
       "    </tr>\n",
       "  </thead>\n",
       "  <tbody>\n",
       "    <tr>\n",
       "      <th>0</th>\n",
       "      <td>206461</td>\n",
       "      <td>Valsartan</td>\n",
       "      <td>Left Ventricular Dysfunction</td>\n",
       "      <td>\"It has no side effect, I take it in combinati...</td>\n",
       "      <td>9</td>\n",
       "      <td>20-May-12</td>\n",
       "      <td>27</td>\n",
       "    </tr>\n",
       "    <tr>\n",
       "      <th>1</th>\n",
       "      <td>95260</td>\n",
       "      <td>Guanfacine</td>\n",
       "      <td>ADHD</td>\n",
       "      <td>\"My son is halfway through his fourth week of ...</td>\n",
       "      <td>8</td>\n",
       "      <td>27-Apr-10</td>\n",
       "      <td>192</td>\n",
       "    </tr>\n",
       "    <tr>\n",
       "      <th>2</th>\n",
       "      <td>92703</td>\n",
       "      <td>Lybrel</td>\n",
       "      <td>Birth Control</td>\n",
       "      <td>\"I used to take another oral contraceptive, wh...</td>\n",
       "      <td>5</td>\n",
       "      <td>14-Dec-09</td>\n",
       "      <td>17</td>\n",
       "    </tr>\n",
       "    <tr>\n",
       "      <th>3</th>\n",
       "      <td>138000</td>\n",
       "      <td>Ortho Evra</td>\n",
       "      <td>Birth Control</td>\n",
       "      <td>\"This is my first time using any form of birth...</td>\n",
       "      <td>8</td>\n",
       "      <td>3-Nov-15</td>\n",
       "      <td>10</td>\n",
       "    </tr>\n",
       "    <tr>\n",
       "      <th>4</th>\n",
       "      <td>35696</td>\n",
       "      <td>Buprenorphine / naloxone</td>\n",
       "      <td>Opiate Dependence</td>\n",
       "      <td>\"Suboxone has completely turned my life around...</td>\n",
       "      <td>9</td>\n",
       "      <td>27-Nov-16</td>\n",
       "      <td>37</td>\n",
       "    </tr>\n",
       "    <tr>\n",
       "      <th>5</th>\n",
       "      <td>155963</td>\n",
       "      <td>Cialis</td>\n",
       "      <td>Benign Prostatic Hyperplasia</td>\n",
       "      <td>\"2nd day on 5mg started to work with rock hard...</td>\n",
       "      <td>2</td>\n",
       "      <td>28-Nov-15</td>\n",
       "      <td>43</td>\n",
       "    </tr>\n",
       "    <tr>\n",
       "      <th>6</th>\n",
       "      <td>165907</td>\n",
       "      <td>Levonorgestrel</td>\n",
       "      <td>Emergency Contraception</td>\n",
       "      <td>\"He pulled out, but he cummed a bit in me. I t...</td>\n",
       "      <td>1</td>\n",
       "      <td>7-Mar-17</td>\n",
       "      <td>5</td>\n",
       "    </tr>\n",
       "    <tr>\n",
       "      <th>7</th>\n",
       "      <td>102654</td>\n",
       "      <td>Aripiprazole</td>\n",
       "      <td>Bipolar Disorde</td>\n",
       "      <td>\"Abilify changed my life. There is hope. I was...</td>\n",
       "      <td>10</td>\n",
       "      <td>14-Mar-15</td>\n",
       "      <td>32</td>\n",
       "    </tr>\n",
       "    <tr>\n",
       "      <th>8</th>\n",
       "      <td>74811</td>\n",
       "      <td>Keppra</td>\n",
       "      <td>Epilepsy</td>\n",
       "      <td>\" I Ve had  nothing but problems with the Kepp...</td>\n",
       "      <td>1</td>\n",
       "      <td>9-Aug-16</td>\n",
       "      <td>11</td>\n",
       "    </tr>\n",
       "    <tr>\n",
       "      <th>9</th>\n",
       "      <td>48928</td>\n",
       "      <td>Ethinyl estradiol / levonorgestrel</td>\n",
       "      <td>Birth Control</td>\n",
       "      <td>\"I had been on the pill for many years. When m...</td>\n",
       "      <td>8</td>\n",
       "      <td>8-Dec-16</td>\n",
       "      <td>1</td>\n",
       "    </tr>\n",
       "  </tbody>\n",
       "</table>\n",
       "</div>"
      ],
      "text/plain": [
       "   uniqueID                            drugName                     condition  \\\n",
       "0    206461                           Valsartan  Left Ventricular Dysfunction   \n",
       "1     95260                          Guanfacine                          ADHD   \n",
       "2     92703                              Lybrel                 Birth Control   \n",
       "3    138000                          Ortho Evra                 Birth Control   \n",
       "4     35696            Buprenorphine / naloxone             Opiate Dependence   \n",
       "5    155963                              Cialis  Benign Prostatic Hyperplasia   \n",
       "6    165907                      Levonorgestrel       Emergency Contraception   \n",
       "7    102654                        Aripiprazole               Bipolar Disorde   \n",
       "8     74811                              Keppra                      Epilepsy   \n",
       "9     48928  Ethinyl estradiol / levonorgestrel                 Birth Control   \n",
       "\n",
       "                                              review  rating       date  \\\n",
       "0  \"It has no side effect, I take it in combinati...       9  20-May-12   \n",
       "1  \"My son is halfway through his fourth week of ...       8  27-Apr-10   \n",
       "2  \"I used to take another oral contraceptive, wh...       5  14-Dec-09   \n",
       "3  \"This is my first time using any form of birth...       8   3-Nov-15   \n",
       "4  \"Suboxone has completely turned my life around...       9  27-Nov-16   \n",
       "5  \"2nd day on 5mg started to work with rock hard...       2  28-Nov-15   \n",
       "6  \"He pulled out, but he cummed a bit in me. I t...       1   7-Mar-17   \n",
       "7  \"Abilify changed my life. There is hope. I was...      10  14-Mar-15   \n",
       "8  \" I Ve had  nothing but problems with the Kepp...       1   9-Aug-16   \n",
       "9  \"I had been on the pill for many years. When m...       8   8-Dec-16   \n",
       "\n",
       "   usefulCount  \n",
       "0           27  \n",
       "1          192  \n",
       "2           17  \n",
       "3           10  \n",
       "4           37  \n",
       "5           43  \n",
       "6            5  \n",
       "7           32  \n",
       "8           11  \n",
       "9            1  "
      ]
     },
     "execution_count": 103,
     "metadata": {},
     "output_type": "execute_result"
    }
   ],
   "source": [
    "test = pd.read_csv(r\"../../case3_datas/drugsComTest_raw.csv\")\n",
    "train = pd.read_csv(r\"../../case3_datas/drugsComTrain_raw.csv\")\n",
    "train.head(10)"
   ]
  },
  {
   "cell_type": "code",
   "execution_count": 104,
   "metadata": {},
   "outputs": [
    {
     "data": {
      "text/html": [
       "<div>\n",
       "<style scoped>\n",
       "    .dataframe tbody tr th:only-of-type {\n",
       "        vertical-align: middle;\n",
       "    }\n",
       "\n",
       "    .dataframe tbody tr th {\n",
       "        vertical-align: top;\n",
       "    }\n",
       "\n",
       "    .dataframe thead th {\n",
       "        text-align: right;\n",
       "    }\n",
       "</style>\n",
       "<table border=\"1\" class=\"dataframe\">\n",
       "  <thead>\n",
       "    <tr style=\"text-align: right;\">\n",
       "      <th></th>\n",
       "      <th>uniqueID</th>\n",
       "      <th>drugName</th>\n",
       "      <th>condition</th>\n",
       "      <th>review</th>\n",
       "      <th>rating</th>\n",
       "      <th>date</th>\n",
       "      <th>usefulCount</th>\n",
       "    </tr>\n",
       "  </thead>\n",
       "  <tbody>\n",
       "    <tr>\n",
       "      <th>0</th>\n",
       "      <td>163740</td>\n",
       "      <td>Mirtazapine</td>\n",
       "      <td>Depression</td>\n",
       "      <td>\"I&amp;#039;ve tried a few antidepressants over th...</td>\n",
       "      <td>10</td>\n",
       "      <td>28-Feb-12</td>\n",
       "      <td>22</td>\n",
       "    </tr>\n",
       "    <tr>\n",
       "      <th>1</th>\n",
       "      <td>206473</td>\n",
       "      <td>Mesalamine</td>\n",
       "      <td>Crohn's Disease, Maintenance</td>\n",
       "      <td>\"My son has Crohn&amp;#039;s disease and has done ...</td>\n",
       "      <td>8</td>\n",
       "      <td>17-May-09</td>\n",
       "      <td>17</td>\n",
       "    </tr>\n",
       "    <tr>\n",
       "      <th>2</th>\n",
       "      <td>159672</td>\n",
       "      <td>Bactrim</td>\n",
       "      <td>Urinary Tract Infection</td>\n",
       "      <td>\"Quick reduction of symptoms\"</td>\n",
       "      <td>9</td>\n",
       "      <td>29-Sep-17</td>\n",
       "      <td>3</td>\n",
       "    </tr>\n",
       "    <tr>\n",
       "      <th>3</th>\n",
       "      <td>39293</td>\n",
       "      <td>Contrave</td>\n",
       "      <td>Weight Loss</td>\n",
       "      <td>\"Contrave combines drugs that were used for al...</td>\n",
       "      <td>9</td>\n",
       "      <td>5-Mar-17</td>\n",
       "      <td>35</td>\n",
       "    </tr>\n",
       "    <tr>\n",
       "      <th>4</th>\n",
       "      <td>97768</td>\n",
       "      <td>Cyclafem 1 / 35</td>\n",
       "      <td>Birth Control</td>\n",
       "      <td>\"I have been on this birth control for one cyc...</td>\n",
       "      <td>9</td>\n",
       "      <td>22-Oct-15</td>\n",
       "      <td>4</td>\n",
       "    </tr>\n",
       "    <tr>\n",
       "      <th>5</th>\n",
       "      <td>208087</td>\n",
       "      <td>Zyclara</td>\n",
       "      <td>Keratosis</td>\n",
       "      <td>\"4 days in on first 2 weeks.  Using on arms an...</td>\n",
       "      <td>4</td>\n",
       "      <td>3-Jul-14</td>\n",
       "      <td>13</td>\n",
       "    </tr>\n",
       "    <tr>\n",
       "      <th>6</th>\n",
       "      <td>215892</td>\n",
       "      <td>Copper</td>\n",
       "      <td>Birth Control</td>\n",
       "      <td>\"I&amp;#039;ve had the copper coil for about 3 mon...</td>\n",
       "      <td>6</td>\n",
       "      <td>6-Jun-16</td>\n",
       "      <td>1</td>\n",
       "    </tr>\n",
       "    <tr>\n",
       "      <th>7</th>\n",
       "      <td>169852</td>\n",
       "      <td>Amitriptyline</td>\n",
       "      <td>Migraine Prevention</td>\n",
       "      <td>\"This has been great for me. I&amp;#039;ve been on...</td>\n",
       "      <td>9</td>\n",
       "      <td>21-Apr-09</td>\n",
       "      <td>32</td>\n",
       "    </tr>\n",
       "    <tr>\n",
       "      <th>8</th>\n",
       "      <td>23295</td>\n",
       "      <td>Methadone</td>\n",
       "      <td>Opiate Withdrawal</td>\n",
       "      <td>\"Ive been on Methadone for over ten years and ...</td>\n",
       "      <td>7</td>\n",
       "      <td>18-Oct-16</td>\n",
       "      <td>21</td>\n",
       "    </tr>\n",
       "    <tr>\n",
       "      <th>9</th>\n",
       "      <td>71428</td>\n",
       "      <td>Levora</td>\n",
       "      <td>Birth Control</td>\n",
       "      <td>\"I was on this pill for almost two years. It d...</td>\n",
       "      <td>2</td>\n",
       "      <td>16-Apr-11</td>\n",
       "      <td>3</td>\n",
       "    </tr>\n",
       "  </tbody>\n",
       "</table>\n",
       "</div>"
      ],
      "text/plain": [
       "   uniqueID         drugName                     condition  \\\n",
       "0    163740      Mirtazapine                    Depression   \n",
       "1    206473       Mesalamine  Crohn's Disease, Maintenance   \n",
       "2    159672          Bactrim       Urinary Tract Infection   \n",
       "3     39293         Contrave                   Weight Loss   \n",
       "4     97768  Cyclafem 1 / 35                 Birth Control   \n",
       "5    208087          Zyclara                     Keratosis   \n",
       "6    215892           Copper                 Birth Control   \n",
       "7    169852    Amitriptyline           Migraine Prevention   \n",
       "8     23295        Methadone             Opiate Withdrawal   \n",
       "9     71428           Levora                 Birth Control   \n",
       "\n",
       "                                              review  rating       date  \\\n",
       "0  \"I&#039;ve tried a few antidepressants over th...      10  28-Feb-12   \n",
       "1  \"My son has Crohn&#039;s disease and has done ...       8  17-May-09   \n",
       "2                      \"Quick reduction of symptoms\"       9  29-Sep-17   \n",
       "3  \"Contrave combines drugs that were used for al...       9   5-Mar-17   \n",
       "4  \"I have been on this birth control for one cyc...       9  22-Oct-15   \n",
       "5  \"4 days in on first 2 weeks.  Using on arms an...       4   3-Jul-14   \n",
       "6  \"I&#039;ve had the copper coil for about 3 mon...       6   6-Jun-16   \n",
       "7  \"This has been great for me. I&#039;ve been on...       9  21-Apr-09   \n",
       "8  \"Ive been on Methadone for over ten years and ...       7  18-Oct-16   \n",
       "9  \"I was on this pill for almost two years. It d...       2  16-Apr-11   \n",
       "\n",
       "   usefulCount  \n",
       "0           22  \n",
       "1           17  \n",
       "2            3  \n",
       "3           35  \n",
       "4            4  \n",
       "5           13  \n",
       "6            1  \n",
       "7           32  \n",
       "8           21  \n",
       "9            3  "
      ]
     },
     "execution_count": 104,
     "metadata": {},
     "output_type": "execute_result"
    }
   ],
   "source": [
    "test.head(10)"
   ]
  },
  {
   "cell_type": "markdown",
   "metadata": {},
   "source": [
    "Lets print the sahpes on both dataframes to see rwa shapes and size's."
   ]
  },
  {
   "cell_type": "code",
   "execution_count": 156,
   "metadata": {},
   "outputs": [
    {
     "name": "stdout",
     "output_type": "stream",
     "text": [
      "Training data shape: (161297, 8)\n",
      "Test data shape: (53766, 7)\n",
      "(161297, 8)\n"
     ]
    }
   ],
   "source": [
    "print(\"Training data shape:\", train.shape)\n",
    "print(\"Test data shape:\", test.shape)\n",
    "train_shape = train.shape\n",
    "print(train_shape)"
   ]
  },
  {
   "cell_type": "markdown",
   "metadata": {},
   "source": [
    "# Create labels based on the original article: Grässer et al. (2018)\n",
    "### ...Littlebit modified.\n",
    "firstly Lets create new column where Rating's are categorised into 5 labels, and print to see that it works. And print just the head(20) of data so we can see that the categorization has been success."
   ]
  },
  {
   "cell_type": "code",
   "execution_count": 106,
   "metadata": {},
   "outputs": [
    {
     "data": {
      "text/html": [
       "<div>\n",
       "<style scoped>\n",
       "    .dataframe tbody tr th:only-of-type {\n",
       "        vertical-align: middle;\n",
       "    }\n",
       "\n",
       "    .dataframe tbody tr th {\n",
       "        vertical-align: top;\n",
       "    }\n",
       "\n",
       "    .dataframe thead th {\n",
       "        text-align: right;\n",
       "    }\n",
       "</style>\n",
       "<table border=\"1\" class=\"dataframe\">\n",
       "  <thead>\n",
       "    <tr style=\"text-align: right;\">\n",
       "      <th></th>\n",
       "      <th>uniqueID</th>\n",
       "      <th>drugName</th>\n",
       "      <th>condition</th>\n",
       "      <th>review</th>\n",
       "      <th>rating</th>\n",
       "      <th>date</th>\n",
       "      <th>usefulCount</th>\n",
       "      <th>label</th>\n",
       "    </tr>\n",
       "  </thead>\n",
       "  <tbody>\n",
       "    <tr>\n",
       "      <th>0</th>\n",
       "      <td>206461</td>\n",
       "      <td>Valsartan</td>\n",
       "      <td>Left Ventricular Dysfunction</td>\n",
       "      <td>\"It has no side effect, I take it in combinati...</td>\n",
       "      <td>9</td>\n",
       "      <td>20-May-12</td>\n",
       "      <td>27</td>\n",
       "      <td>5</td>\n",
       "    </tr>\n",
       "    <tr>\n",
       "      <th>1</th>\n",
       "      <td>95260</td>\n",
       "      <td>Guanfacine</td>\n",
       "      <td>ADHD</td>\n",
       "      <td>\"My son is halfway through his fourth week of ...</td>\n",
       "      <td>8</td>\n",
       "      <td>27-Apr-10</td>\n",
       "      <td>192</td>\n",
       "      <td>4</td>\n",
       "    </tr>\n",
       "    <tr>\n",
       "      <th>2</th>\n",
       "      <td>92703</td>\n",
       "      <td>Lybrel</td>\n",
       "      <td>Birth Control</td>\n",
       "      <td>\"I used to take another oral contraceptive, wh...</td>\n",
       "      <td>5</td>\n",
       "      <td>14-Dec-09</td>\n",
       "      <td>17</td>\n",
       "      <td>3</td>\n",
       "    </tr>\n",
       "    <tr>\n",
       "      <th>3</th>\n",
       "      <td>138000</td>\n",
       "      <td>Ortho Evra</td>\n",
       "      <td>Birth Control</td>\n",
       "      <td>\"This is my first time using any form of birth...</td>\n",
       "      <td>8</td>\n",
       "      <td>3-Nov-15</td>\n",
       "      <td>10</td>\n",
       "      <td>4</td>\n",
       "    </tr>\n",
       "    <tr>\n",
       "      <th>4</th>\n",
       "      <td>35696</td>\n",
       "      <td>Buprenorphine / naloxone</td>\n",
       "      <td>Opiate Dependence</td>\n",
       "      <td>\"Suboxone has completely turned my life around...</td>\n",
       "      <td>9</td>\n",
       "      <td>27-Nov-16</td>\n",
       "      <td>37</td>\n",
       "      <td>5</td>\n",
       "    </tr>\n",
       "    <tr>\n",
       "      <th>5</th>\n",
       "      <td>155963</td>\n",
       "      <td>Cialis</td>\n",
       "      <td>Benign Prostatic Hyperplasia</td>\n",
       "      <td>\"2nd day on 5mg started to work with rock hard...</td>\n",
       "      <td>2</td>\n",
       "      <td>28-Nov-15</td>\n",
       "      <td>43</td>\n",
       "      <td>1</td>\n",
       "    </tr>\n",
       "    <tr>\n",
       "      <th>6</th>\n",
       "      <td>165907</td>\n",
       "      <td>Levonorgestrel</td>\n",
       "      <td>Emergency Contraception</td>\n",
       "      <td>\"He pulled out, but he cummed a bit in me. I t...</td>\n",
       "      <td>1</td>\n",
       "      <td>7-Mar-17</td>\n",
       "      <td>5</td>\n",
       "      <td>1</td>\n",
       "    </tr>\n",
       "    <tr>\n",
       "      <th>7</th>\n",
       "      <td>102654</td>\n",
       "      <td>Aripiprazole</td>\n",
       "      <td>Bipolar Disorde</td>\n",
       "      <td>\"Abilify changed my life. There is hope. I was...</td>\n",
       "      <td>10</td>\n",
       "      <td>14-Mar-15</td>\n",
       "      <td>32</td>\n",
       "      <td>5</td>\n",
       "    </tr>\n",
       "    <tr>\n",
       "      <th>8</th>\n",
       "      <td>74811</td>\n",
       "      <td>Keppra</td>\n",
       "      <td>Epilepsy</td>\n",
       "      <td>\" I Ve had  nothing but problems with the Kepp...</td>\n",
       "      <td>1</td>\n",
       "      <td>9-Aug-16</td>\n",
       "      <td>11</td>\n",
       "      <td>1</td>\n",
       "    </tr>\n",
       "    <tr>\n",
       "      <th>9</th>\n",
       "      <td>48928</td>\n",
       "      <td>Ethinyl estradiol / levonorgestrel</td>\n",
       "      <td>Birth Control</td>\n",
       "      <td>\"I had been on the pill for many years. When m...</td>\n",
       "      <td>8</td>\n",
       "      <td>8-Dec-16</td>\n",
       "      <td>1</td>\n",
       "      <td>4</td>\n",
       "    </tr>\n",
       "    <tr>\n",
       "      <th>10</th>\n",
       "      <td>29607</td>\n",
       "      <td>Topiramate</td>\n",
       "      <td>Migraine Prevention</td>\n",
       "      <td>\"I have been on this medication almost two wee...</td>\n",
       "      <td>9</td>\n",
       "      <td>1-Jan-15</td>\n",
       "      <td>19</td>\n",
       "      <td>5</td>\n",
       "    </tr>\n",
       "    <tr>\n",
       "      <th>11</th>\n",
       "      <td>75612</td>\n",
       "      <td>L-methylfolate</td>\n",
       "      <td>Depression</td>\n",
       "      <td>\"I have taken anti-depressants for years, with...</td>\n",
       "      <td>10</td>\n",
       "      <td>9-Mar-17</td>\n",
       "      <td>54</td>\n",
       "      <td>5</td>\n",
       "    </tr>\n",
       "    <tr>\n",
       "      <th>12</th>\n",
       "      <td>191290</td>\n",
       "      <td>Pentasa</td>\n",
       "      <td>Crohn's Disease</td>\n",
       "      <td>\"I had Crohn&amp;#039;s with a resection 30 years ...</td>\n",
       "      <td>4</td>\n",
       "      <td>6-Jul-13</td>\n",
       "      <td>8</td>\n",
       "      <td>2</td>\n",
       "    </tr>\n",
       "    <tr>\n",
       "      <th>13</th>\n",
       "      <td>221320</td>\n",
       "      <td>Dextromethorphan</td>\n",
       "      <td>Cough</td>\n",
       "      <td>\"Have a little bit of a lingering cough from a...</td>\n",
       "      <td>4</td>\n",
       "      <td>7-Sep-17</td>\n",
       "      <td>1</td>\n",
       "      <td>2</td>\n",
       "    </tr>\n",
       "    <tr>\n",
       "      <th>14</th>\n",
       "      <td>98494</td>\n",
       "      <td>Nexplanon</td>\n",
       "      <td>Birth Control</td>\n",
       "      <td>\"Started Nexplanon 2 months ago because I have...</td>\n",
       "      <td>3</td>\n",
       "      <td>7-Aug-14</td>\n",
       "      <td>10</td>\n",
       "      <td>2</td>\n",
       "    </tr>\n",
       "    <tr>\n",
       "      <th>15</th>\n",
       "      <td>81890</td>\n",
       "      <td>Liraglutide</td>\n",
       "      <td>Obesity</td>\n",
       "      <td>\"I have been taking Saxenda since July 2016.  ...</td>\n",
       "      <td>9</td>\n",
       "      <td>19-Jan-17</td>\n",
       "      <td>20</td>\n",
       "      <td>5</td>\n",
       "    </tr>\n",
       "    <tr>\n",
       "      <th>16</th>\n",
       "      <td>48188</td>\n",
       "      <td>Trimethoprim</td>\n",
       "      <td>Urinary Tract Infection</td>\n",
       "      <td>\"This drug worked very well for me and cleared...</td>\n",
       "      <td>9</td>\n",
       "      <td>22-Sep-17</td>\n",
       "      <td>0</td>\n",
       "      <td>5</td>\n",
       "    </tr>\n",
       "    <tr>\n",
       "      <th>17</th>\n",
       "      <td>219869</td>\n",
       "      <td>Amitriptyline</td>\n",
       "      <td>ibromyalgia</td>\n",
       "      <td>\"I&amp;#039;ve been taking amitriptyline since Jan...</td>\n",
       "      <td>9</td>\n",
       "      <td>15-Mar-17</td>\n",
       "      <td>39</td>\n",
       "      <td>5</td>\n",
       "    </tr>\n",
       "    <tr>\n",
       "      <th>18</th>\n",
       "      <td>212077</td>\n",
       "      <td>Lamotrigine</td>\n",
       "      <td>Bipolar Disorde</td>\n",
       "      <td>\"I&amp;#039;ve been on every medicine under the su...</td>\n",
       "      <td>10</td>\n",
       "      <td>9-Nov-14</td>\n",
       "      <td>18</td>\n",
       "      <td>5</td>\n",
       "    </tr>\n",
       "    <tr>\n",
       "      <th>19</th>\n",
       "      <td>119705</td>\n",
       "      <td>Nilotinib</td>\n",
       "      <td>Chronic Myelogenous Leukemia</td>\n",
       "      <td>\"I have been on Tasigna for just over 3 years ...</td>\n",
       "      <td>10</td>\n",
       "      <td>1-Sep-15</td>\n",
       "      <td>11</td>\n",
       "      <td>5</td>\n",
       "    </tr>\n",
       "  </tbody>\n",
       "</table>\n",
       "</div>"
      ],
      "text/plain": [
       "    uniqueID                            drugName  \\\n",
       "0     206461                           Valsartan   \n",
       "1      95260                          Guanfacine   \n",
       "2      92703                              Lybrel   \n",
       "3     138000                          Ortho Evra   \n",
       "4      35696            Buprenorphine / naloxone   \n",
       "5     155963                              Cialis   \n",
       "6     165907                      Levonorgestrel   \n",
       "7     102654                        Aripiprazole   \n",
       "8      74811                              Keppra   \n",
       "9      48928  Ethinyl estradiol / levonorgestrel   \n",
       "10     29607                          Topiramate   \n",
       "11     75612                      L-methylfolate   \n",
       "12    191290                             Pentasa   \n",
       "13    221320                    Dextromethorphan   \n",
       "14     98494                           Nexplanon   \n",
       "15     81890                         Liraglutide   \n",
       "16     48188                        Trimethoprim   \n",
       "17    219869                       Amitriptyline   \n",
       "18    212077                         Lamotrigine   \n",
       "19    119705                           Nilotinib   \n",
       "\n",
       "                       condition  \\\n",
       "0   Left Ventricular Dysfunction   \n",
       "1                           ADHD   \n",
       "2                  Birth Control   \n",
       "3                  Birth Control   \n",
       "4              Opiate Dependence   \n",
       "5   Benign Prostatic Hyperplasia   \n",
       "6        Emergency Contraception   \n",
       "7                Bipolar Disorde   \n",
       "8                       Epilepsy   \n",
       "9                  Birth Control   \n",
       "10           Migraine Prevention   \n",
       "11                    Depression   \n",
       "12               Crohn's Disease   \n",
       "13                         Cough   \n",
       "14                 Birth Control   \n",
       "15                       Obesity   \n",
       "16       Urinary Tract Infection   \n",
       "17                   ibromyalgia   \n",
       "18               Bipolar Disorde   \n",
       "19  Chronic Myelogenous Leukemia   \n",
       "\n",
       "                                               review  rating       date  \\\n",
       "0   \"It has no side effect, I take it in combinati...       9  20-May-12   \n",
       "1   \"My son is halfway through his fourth week of ...       8  27-Apr-10   \n",
       "2   \"I used to take another oral contraceptive, wh...       5  14-Dec-09   \n",
       "3   \"This is my first time using any form of birth...       8   3-Nov-15   \n",
       "4   \"Suboxone has completely turned my life around...       9  27-Nov-16   \n",
       "5   \"2nd day on 5mg started to work with rock hard...       2  28-Nov-15   \n",
       "6   \"He pulled out, but he cummed a bit in me. I t...       1   7-Mar-17   \n",
       "7   \"Abilify changed my life. There is hope. I was...      10  14-Mar-15   \n",
       "8   \" I Ve had  nothing but problems with the Kepp...       1   9-Aug-16   \n",
       "9   \"I had been on the pill for many years. When m...       8   8-Dec-16   \n",
       "10  \"I have been on this medication almost two wee...       9   1-Jan-15   \n",
       "11  \"I have taken anti-depressants for years, with...      10   9-Mar-17   \n",
       "12  \"I had Crohn&#039;s with a resection 30 years ...       4   6-Jul-13   \n",
       "13  \"Have a little bit of a lingering cough from a...       4   7-Sep-17   \n",
       "14  \"Started Nexplanon 2 months ago because I have...       3   7-Aug-14   \n",
       "15  \"I have been taking Saxenda since July 2016.  ...       9  19-Jan-17   \n",
       "16  \"This drug worked very well for me and cleared...       9  22-Sep-17   \n",
       "17  \"I&#039;ve been taking amitriptyline since Jan...       9  15-Mar-17   \n",
       "18  \"I&#039;ve been on every medicine under the su...      10   9-Nov-14   \n",
       "19  \"I have been on Tasigna for just over 3 years ...      10   1-Sep-15   \n",
       "\n",
       "    usefulCount  label  \n",
       "0            27      5  \n",
       "1           192      4  \n",
       "2            17      3  \n",
       "3            10      4  \n",
       "4            37      5  \n",
       "5            43      1  \n",
       "6             5      1  \n",
       "7            32      5  \n",
       "8            11      1  \n",
       "9             1      4  \n",
       "10           19      5  \n",
       "11           54      5  \n",
       "12            8      2  \n",
       "13            1      2  \n",
       "14           10      2  \n",
       "15           20      5  \n",
       "16            0      5  \n",
       "17           39      5  \n",
       "18           18      5  \n",
       "19           11      5  "
      ]
     },
     "execution_count": 106,
     "metadata": {},
     "output_type": "execute_result"
    }
   ],
   "source": [
    "\n",
    "r = train['rating']\n",
    "labels =   1*(( 1 <= r ) & ( r <= 2 )) + 2*(( 3 <= r ) & ( r <= 4 )) \\\n",
    "        +  3*(( 5 <= r ) & ( r <= 6 )) + 4*(( 7 <= r ) & ( r <= 8 )) \\\n",
    "        +  5*(( 9 <= r ) & ( r <= 10)) \n",
    "# Add the label column to the data\n",
    "train['label'] = labels\n",
    "# Check the new data\n",
    "train.head(20)"
   ]
  },
  {
   "cell_type": "markdown",
   "metadata": {},
   "source": [
    "# Let us check ratings to labels conversion"
   ]
  },
  {
   "cell_type": "code",
   "execution_count": 107,
   "metadata": {},
   "outputs": [
    {
     "data": {
      "image/png": "[encoded data removed]",
      "text/plain": [
       "<Figure size 432x288 with 1 Axes>"
      ]
     },
     "metadata": {
      "needs_background": "light"
     },
     "output_type": "display_data"
    }
   ],
   "source": [
    "import matplotlib.pyplot as plt\n",
    "train.plot(x = 'rating', y = 'label', kind = 'scatter')\n",
    "plt.show()\n"
   ]
  },
  {
   "cell_type": "markdown",
   "metadata": {},
   "source": [
    "# Plotting \n",
    "Here we plot the distribution of labels"
   ]
  },
  {
   "cell_type": "code",
   "execution_count": 108,
   "metadata": {},
   "outputs": [
    {
     "data": {
      "image/png": "[encoded data removed]",
      "text/plain": [
       "<Figure size 432x288 with 1 Axes>"
      ]
     },
     "metadata": {
      "needs_background": "light"
     },
     "output_type": "display_data"
    }
   ],
   "source": [
    "train.hist(column = 'label', bins = np.arange(1, 7), align = 'left');"
   ]
  },
  {
   "cell_type": "markdown",
   "metadata": {},
   "source": [
    "# Convert reviews to padded sequences\n",
    "Here we tokenize the training data's \"review\" column text's into more prosessable form.\n",
    "Tokenizer class allows to vectorize a text corpus, by turning each text into either a sequence of integers. Later we print the outcome, where we can see how thoe code below changed the text's."
   ]
  },
  {
   "cell_type": "code",
   "execution_count": 109,
   "metadata": {},
   "outputs": [],
   "source": [
    "\n",
    "# Read a part of the reviews and create training sequences (x_train)\n",
    "samples = train['review'].iloc[:10000]\n",
    "tokenizer = Tokenizer(num_words = 1000)\n",
    "tokenizer.fit_on_texts(samples)\n",
    "sequences = tokenizer.texts_to_sequences(samples)\n",
    "x_train = pad_sequences(sequences, maxlen = 500)\n",
    "\n",
    "\n",
    "# Read a part of the reviews and create testing sequences (x_test)\n",
    "test_samples = test['review'].iloc[:10000]\n",
    "test_tokenizer = Tokenizer(num_words = 1000)\n",
    "test_tokenizer.fit_on_texts(test_samples)\n",
    "test_sequences = tokenizer.texts_to_sequences(test_samples)\n",
    "x_test = pad_sequences(test_sequences, maxlen = 500)"
   ]
  },
  {
   "cell_type": "markdown",
   "metadata": {},
   "source": [
    "# Convert labels to one-hot-categories\n",
    "In particular, many machine learning algorithms require that their input is numerical and therefore categorical features must be transformed into numerical features before we can use any of these algorithms. One of the most common ways to make this transformation is to one-hot encode the categorical features, what we a re using in this case."
   ]
  },
  {
   "cell_type": "code",
   "execution_count": 110,
   "metadata": {},
   "outputs": [],
   "source": [
    "\n",
    "# Convert the labels to one_hot_category values\n",
    "one_hot_labels = to_categorical(labels[:10000], num_classes = 7)"
   ]
  },
  {
   "cell_type": "markdown",
   "metadata": {},
   "source": [
    "# Check the shapes\n",
    "Now we can check how our data-shapes looks like. Se we can see there is 10000x500 review and 10000x7 of labels."
   ]
  },
  {
   "cell_type": "code",
   "execution_count": 111,
   "metadata": {},
   "outputs": [
    {
     "data": {
      "text/plain": [
       "((10000, 500), (10000, 7))"
      ]
     },
     "execution_count": 111,
     "metadata": {},
     "output_type": "execute_result"
    }
   ],
   "source": [
    "# Check the training and label sets\n",
    "x_train.shape, one_hot_labels.shape"
   ]
  },
  {
   "cell_type": "markdown",
   "metadata": {},
   "source": [
    "# Train-data Matrix \n",
    "Here it is demostrated how Tokenizer has modified \"review\" and \"label\" column's datas to matrixes."
   ]
  },
  {
   "cell_type": "code",
   "execution_count": 112,
   "metadata": {},
   "outputs": [
    {
     "name": "stdout",
     "output_type": "stream",
     "text": [
      "[[0. 0. 0. ... 0. 1. 0.]\n",
      " [0. 0. 0. ... 1. 0. 0.]\n",
      " [0. 0. 0. ... 0. 0. 0.]\n",
      " ...\n",
      " [0. 1. 0. ... 0. 0. 0.]\n",
      " [0. 0. 1. ... 0. 0. 0.]\n",
      " [0. 0. 0. ... 0. 1. 0.]]\n",
      " \n",
      "[[  0   0   0 ...  97 148   2]\n",
      " [  0   0   0 ...   3 202 332]\n",
      " [  0   0   0 ... 371  10  24]\n",
      " ...\n",
      " [  0   0   0 ... 152   4   7]\n",
      " [  0   0   0 ...  11 107 661]\n",
      " [  0   0   0 ...  88 220 462]]\n"
     ]
    }
   ],
   "source": [
    "print(one_hot_labels)\n",
    "print(\" \")\n",
    "print(x_train)"
   ]
  },
  {
   "cell_type": "markdown",
   "metadata": {},
   "source": [
    "# As you can see here has been made a great example\n",
    "how you can make life easier with functions. In here we use the same plotting commands several times, so create a function for that purpose - Thanks to Sakke  "
   ]
  },
  {
   "cell_type": "code",
   "execution_count": 258,
   "metadata": {},
   "outputs": [],
   "source": [
    "def plot_history(history):\n",
    "    \n",
    "    f, ax = plt.subplots(1, 2, figsize = (16, 7))\n",
    "    \n",
    "    acc = history.history['acc']\n",
    "    val_acc = history.history['val_acc']\n",
    "    loss = history.history['loss']\n",
    "    val_loss = history.history['val_loss']\n",
    "\n",
    "    epochs = range(1, len(acc) + 1)\n",
    "\n",
    "    plt.sca(ax[0])\n",
    "    plt.plot(epochs, acc, 'bo', label='Training acc')\n",
    "    plt.plot(epochs, val_acc, 'b', label='Validation acc')\n",
    "    plt.title('Training and validation accuracy')\n",
    "    plt.legend()\n",
    "\n",
    "    plt.sca(ax[1])\n",
    "    plt.plot(epochs, loss, 'bo', label='Training loss')\n",
    "    plt.plot(epochs, val_loss, 'b', label='Validation loss')\n",
    "    plt.title('Training and validation loss')\n",
    "    plt.legend()\n",
    "\n",
    "    plt.show()"
   ]
  },
  {
   "cell_type": "markdown",
   "metadata": {},
   "source": [
    "Similarly create a function for model training, for demonstration purposes we use constant values"
   ]
  },
  {
   "cell_type": "code",
   "execution_count": 182,
   "metadata": {},
   "outputs": [],
   "source": [
    "def train_model(m0, x, y, e = 10, bs = 32, v = 1, vs = 0.25):\n",
    "    h1 = m0.fit(x, y, epochs = e, batch_size = bs, verbose = v, validation_split = vs)\n",
    "    return h1\n"
   ]
  },
  {
   "cell_type": "markdown",
   "metadata": {},
   "source": [
    "# First model\n",
    "- Embedding layer \n",
    "- Flatten \n",
    "- Dense classifier\n",
    "##### 1000 = num_words, 64 = Embedding layers, 500 = sequence length"
   ]
  },
  {
   "cell_type": "code",
   "execution_count": 115,
   "metadata": {},
   "outputs": [
    {
     "name": "stdout",
     "output_type": "stream",
     "text": [
      "_________________________________________________________________\n",
      "Layer (type)                 Output Shape              Param #   \n",
      "=================================================================\n",
      "embedding_37 (Embedding)     (None, 500, 64)           64000     \n",
      "_________________________________________________________________\n",
      "flatten_12 (Flatten)         (None, 32000)             0         \n",
      "_________________________________________________________________\n",
      "dense_73 (Dense)             (None, 32)                1024032   \n",
      "_________________________________________________________________\n",
      "dense_74 (Dense)             (None, 7)                 231       \n",
      "=================================================================\n",
      "Total params: 1,088,263\n",
      "Trainable params: 1,088,263\n",
      "Non-trainable params: 0\n",
      "_________________________________________________________________\n"
     ]
    }
   ],
   "source": [
    "m0 = Sequential()\n",
    "m0.add(Embedding(1000, 64, input_length = 500)) \n",
    "m0.add(Flatten())\n",
    "m0.add(Dense(32, activation = 'relu'))\n",
    "m0.add(Dense(7, activation = 'softmax'))\n",
    "m0.compile(optimizer = 'rmsprop', loss = 'categorical_crossentropy', metrics = ['acc'])\n",
    "m0.summary()\n"
   ]
  },
  {
   "cell_type": "markdown",
   "metadata": {},
   "source": [
    "# Train the first model and plot the history"
   ]
  },
  {
   "cell_type": "code",
   "execution_count": 116,
   "metadata": {},
   "outputs": [
    {
     "name": "stdout",
     "output_type": "stream",
     "text": [
      "Train on 7500 samples, validate on 2500 samples\n",
      "Epoch 1/10\n",
      "7500/7500 [==============================] - 5s 727us/step - loss: 1.4055 - acc: 0.4791 - val_loss: 1.3857 - val_acc: 0.4844\n",
      "Epoch 2/10\n",
      "7500/7500 [==============================] - 4s 535us/step - loss: 1.1666 - acc: 0.5473 - val_loss: 1.2387 - val_acc: 0.5160\n",
      "Epoch 3/10\n",
      "7500/7500 [==============================] - 4s 542us/step - loss: 0.8281 - acc: 0.7105 - val_loss: 1.3163 - val_acc: 0.4652\n",
      "Epoch 4/10\n",
      "7500/7500 [==============================] - 4s 529us/step - loss: 0.5421 - acc: 0.8261 - val_loss: 1.4346 - val_acc: 0.5444\n",
      "Epoch 5/10\n",
      "7500/7500 [==============================] - 4s 528us/step - loss: 0.3246 - acc: 0.9053 - val_loss: 1.5701 - val_acc: 0.5252\n",
      "Epoch 6/10\n",
      "7500/7500 [==============================] - 4s 497us/step - loss: 0.1782 - acc: 0.9527 - val_loss: 1.9345 - val_acc: 0.4704\n",
      "Epoch 7/10\n",
      "7500/7500 [==============================] - 4s 509us/step - loss: 0.0970 - acc: 0.9765 - val_loss: 2.3303 - val_acc: 0.5252\n",
      "Epoch 8/10\n",
      "7500/7500 [==============================] - 4s 490us/step - loss: 0.0526 - acc: 0.9883 - val_loss: 2.6546 - val_acc: 0.5084\n",
      "Epoch 9/10\n",
      "7500/7500 [==============================] - 4s 494us/step - loss: 0.0309 - acc: 0.9924 - val_loss: 3.0181 - val_acc: 0.4808\n",
      "Epoch 10/10\n",
      "7500/7500 [==============================] - 4s 485us/step - loss: 0.0204 - acc: 0.9948 - val_loss: 3.3899 - val_acc: 0.4896\n"
     ]
    },
    {
     "data": {
      "image/png": "[encoded data removed]",
      "text/plain": [
       "<Figure size 1152x504 with 2 Axes>"
      ]
     },
     "metadata": {
      "needs_background": "light"
     },
     "output_type": "display_data"
    }
   ],
   "source": [
    "h0 = train_model(m0, x_train, one_hot_labels)\n",
    "plot_history(h0)"
   ]
  },
  {
   "cell_type": "markdown",
   "metadata": {},
   "source": [
    "# Model nro.2 using CNN + Conv1D"
   ]
  },
  {
   "cell_type": "markdown",
   "metadata": {},
   "source": [
    "And here we can use that function what was made earlier for training and demostrations."
   ]
  },
  {
   "cell_type": "code",
   "execution_count": 191,
   "metadata": {},
   "outputs": [],
   "source": [
    "def train_model(model, x, y, e = 10, bs = 32, v = 1, vs = 0.25):\n",
    "    h = model.fit(x, y, epochs = e, batch_size = bs, verbose = v, validation_split = vs)\n",
    "    return h\n"
   ]
  },
  {
   "cell_type": "markdown",
   "metadata": {},
   "source": [
    "\n",
    "\n",
    "# Lets Create a basic Sequential model with several Conv1D layers\n",
    "This model was hard to make, so i doesen't get good acc.\n",
    "\n",
    "prosses of training and models and layers that are used.\n",
    "\n",
    "- Embending (Turns positive integers (indexes) into dense vectors of fixed size.)\n",
    "- 1D convolution layer (This layer creates a convolution kernel that is convolved with the layer input over a single spatial (or temporal) dimension to produce a tensor of outputs.)\n",
    "- pooling (MaxPooling1D temporal data takes the max vector over the steps dimension and constrains to a pool_size for each stride.)\n",
    "- dropout (Dropout is a technique where randomly selected neurons are ignored during training.)\n",
    "- Dence (Dense is just a regular layer of neurons in a neural network.)\n",
    "- Flatten (Flattening a tensor is to remove all of the dimensions except for one)"
   ]
  },
  {
   "cell_type": "code",
   "execution_count": 192,
   "metadata": {},
   "outputs": [
    {
     "name": "stdout",
     "output_type": "stream",
     "text": [
      "_________________________________________________________________\n",
      "Layer (type)                 Output Shape              Param #   \n",
      "=================================================================\n",
      "embedding_74 (Embedding)     (None, 500, 3)            4800      \n",
      "_________________________________________________________________\n",
      "conv1d_131 (Conv1D)          (None, 491, 50)           1550      \n",
      "_________________________________________________________________\n",
      "conv1d_132 (Conv1D)          (None, 482, 50)           25050     \n",
      "_________________________________________________________________\n",
      "max_pooling1d_47 (MaxPooling (None, 241, 50)           0         \n",
      "_________________________________________________________________\n",
      "dropout_124 (Dropout)        (None, 241, 50)           0         \n",
      "_________________________________________________________________\n",
      "conv1d_133 (Conv1D)          (None, 232, 50)           25050     \n",
      "_________________________________________________________________\n",
      "conv1d_134 (Conv1D)          (None, 223, 50)           25050     \n",
      "_________________________________________________________________\n",
      "max_pooling1d_48 (MaxPooling (None, 111, 50)           0         \n",
      "_________________________________________________________________\n",
      "dense_151 (Dense)            (None, 111, 32)           1632      \n",
      "_________________________________________________________________\n",
      "dropout_125 (Dropout)        (None, 111, 32)           0         \n",
      "_________________________________________________________________\n",
      "flatten_28 (Flatten)         (None, 3552)              0         \n",
      "_________________________________________________________________\n",
      "dense_152 (Dense)            (None, 64)                227392    \n",
      "_________________________________________________________________\n",
      "dropout_126 (Dropout)        (None, 64)                0         \n",
      "_________________________________________________________________\n",
      "dense_153 (Dense)            (None, 7)                 455       \n",
      "=================================================================\n",
      "Total params: 310,979\n",
      "Trainable params: 310,979\n",
      "Non-trainable params: 0\n",
      "_________________________________________________________________\n"
     ]
    }
   ],
   "source": [
    "model = Sequential()\n",
    "\n",
    "model.add(Embedding(1600, 3, input_length = 500))\n",
    "model.add(Conv1D(50, 10, activation = 'relu', input_shape = (161297, 7)))\n",
    "model.add(Conv1D(50, 10, activation = 'relu'))\n",
    "model.add(MaxPooling1D(pool_size = (2)))\n",
    "model.add(Dropout(0.25))\n",
    "\n",
    "model.add(Conv1D(50, 10, activation = 'relu'))\n",
    "model.add(Conv1D(50, 10, activation = 'relu'))\n",
    "model.add(MaxPooling1D(pool_size = (2)))\n",
    "model.add(Dense(32, activation = 'softmax'))\n",
    "model.add(Dropout(0.25))\n",
    "\n",
    "model.add(Flatten())\n",
    "model.add(Dense(64, activation = 'softmax'))\n",
    "model.add(Dropout(0.25))\n",
    "model.add(Dense(7, activation = 'softmax'))\n",
    "\n",
    "from keras import backend\n",
    "#def rmse(y_true, y_pred):\n",
    "#    return backend.sqrt(backend.mean(backend.square(y_pred - y_true), axis=-1))\n",
    "\n",
    "sgd = optimizers.SGD(lr=0.1, decay=1e-6, momentum=0.9, nesterov=True)\n",
    "model.compile(optimizer = sgd,\n",
    "             loss='categorical_crossentropy', \n",
    "              metrics = [\"accuracy\", \"mse\", rmse])\n",
    "\n",
    "vinkki_info = \"\"\" All possible options for model.compile\n",
    "For more details, see: https://keras.io/models/model/\n",
    "model.compile( \n",
    "    optimizer, \n",
    "    loss = None, \n",
    "    metrics = None, \n",
    "    loss_weights = None, \n",
    "    sample_weight_mode = None, \n",
    "    weighted_metrics = None,\n",
    "    target_tensors = None)\n",
    "\"\"\"\n",
    "model.summary()\n"
   ]
  },
  {
   "cell_type": "markdown",
   "metadata": {},
   "source": [
    "# Here we TRAIN the firs CNN model\n"
   ]
  },
  {
   "cell_type": "code",
   "execution_count": 193,
   "metadata": {},
   "outputs": [
    {
     "name": "stdout",
     "output_type": "stream",
     "text": [
      "Train on 7500 samples, validate on 2500 samples\n",
      "Epoch 1/10\n",
      "7500/7500 [==============================] - 28s 4ms/step - loss: 1.4061 - acc: 0.4860 - mean_squared_error: 0.0993 - rmse: 0.3038 - val_loss: 1.3958 - val_acc: 0.4808 - val_mean_squared_error: 0.0994 - val_rmse: 0.3061\n",
      "Epoch 2/10\n",
      "7500/7500 [==============================] - 26s 3ms/step - loss: 1.3766 - acc: 0.4887 - mean_squared_error: 0.0985 - rmse: 0.3028 - val_loss: 1.3968 - val_acc: 0.4808 - val_mean_squared_error: 0.0998 - val_rmse: 0.3008\n",
      "Epoch 3/10\n",
      "7500/7500 [==============================] - 26s 4ms/step - loss: 1.3779 - acc: 0.4887 - mean_squared_error: 0.0987 - rmse: 0.3027 - val_loss: 1.3923 - val_acc: 0.4808 - val_mean_squared_error: 0.0996 - val_rmse: 0.3074\n",
      "Epoch 4/10\n",
      "7500/7500 [==============================] - 27s 4ms/step - loss: 1.3749 - acc: 0.4887 - mean_squared_error: 0.0985 - rmse: 0.3026 - val_loss: 1.3900 - val_acc: 0.4808 - val_mean_squared_error: 0.0994 - val_rmse: 0.3064\n",
      "Epoch 5/10\n",
      "7500/7500 [==============================] - 26s 3ms/step - loss: 1.3751 - acc: 0.4887 - mean_squared_error: 0.0986 - rmse: 0.3028 - val_loss: 1.3923 - val_acc: 0.4808 - val_mean_squared_error: 0.0996 - val_rmse: 0.3015\n",
      "Epoch 6/10\n",
      "7500/7500 [==============================] - 27s 4ms/step - loss: 1.3734 - acc: 0.4887 - mean_squared_error: 0.0985 - rmse: 0.3026 - val_loss: 1.3961 - val_acc: 0.4808 - val_mean_squared_error: 0.0997 - val_rmse: 0.3035\n",
      "Epoch 7/10\n",
      "7500/7500 [==============================] - 26s 4ms/step - loss: 1.3730 - acc: 0.4887 - mean_squared_error: 0.0985 - rmse: 0.3025 - val_loss: 1.3912 - val_acc: 0.4808 - val_mean_squared_error: 0.0994 - val_rmse: 0.3060\n",
      "Epoch 8/10\n",
      "7500/7500 [==============================] - 26s 4ms/step - loss: 1.3752 - acc: 0.4887 - mean_squared_error: 0.0986 - rmse: 0.3029 - val_loss: 1.3892 - val_acc: 0.4808 - val_mean_squared_error: 0.0993 - val_rmse: 0.3036\n",
      "Epoch 9/10\n",
      "7500/7500 [==============================] - 26s 4ms/step - loss: 1.3723 - acc: 0.4887 - mean_squared_error: 0.0984 - rmse: 0.3025 - val_loss: 1.3897 - val_acc: 0.4808 - val_mean_squared_error: 0.0993 - val_rmse: 0.3058\n",
      "Epoch 10/10\n",
      "7500/7500 [==============================] - 26s 4ms/step - loss: 1.3746 - acc: 0.4887 - mean_squared_error: 0.0986 - rmse: 0.3028 - val_loss: 1.3891 - val_acc: 0.4808 - val_mean_squared_error: 0.0994 - val_rmse: 0.3064\n"
     ]
    }
   ],
   "source": [
    "h10 = train_model(model, x_train, one_hot_labels)\n"
   ]
  },
  {
   "cell_type": "markdown",
   "metadata": {},
   "source": [
    "# Lets plot the train"
   ]
  },
  {
   "cell_type": "code",
   "execution_count": 121,
   "metadata": {},
   "outputs": [
    {
     "data": {
      "image/png": "[encoded data removed]",
      "text/plain": [
       "<Figure size 1152x504 with 2 Axes>"
      ]
     },
     "metadata": {
      "needs_background": "light"
     },
     "output_type": "display_data"
    }
   ],
   "source": [
    "plot_history(h1)\n"
   ]
  },
  {
   "cell_type": "markdown",
   "metadata": {},
   "source": [
    "# ....................................................................................................."
   ]
  },
  {
   "cell_type": "markdown",
   "metadata": {},
   "source": [
    "# Model nro.3  LSTM / RNN\n",
    "prosses of training and here's 1 new layer in use.\n",
    "\n",
    "- A LSTM (Long Short-Term Memory layer - Hochreiter 1997.)\n",
    "LSTM network is a kind of recurrent neural network. A recurrent neural network is a neural network that attempts to model time or sequence dependent behaviour – such as language, stock prices, electricity demand and so on.\n",
    "\n"
   ]
  },
  {
   "cell_type": "code",
   "execution_count": null,
   "metadata": {},
   "outputs": [],
   "source": [
    "def train_model(model2, x, y, e = 10, bs = 32, v = 1, vs = 0.25):\n",
    "    h2 = model2.fit(x, y, epochs = e, batch_size = bs, verbose = v, validation_split = vs)\n",
    "    return h2"
   ]
  },
  {
   "cell_type": "code",
   "execution_count": 194,
   "metadata": {},
   "outputs": [
    {
     "name": "stdout",
     "output_type": "stream",
     "text": [
      "Loading data...\n",
      "10000 train sequences\n",
      "10000 test sequences\n",
      "Pad sequences (samples x time)\n",
      "_________________________________________________________________\n",
      "Layer (type)                 Output Shape              Param #   \n",
      "=================================================================\n",
      "embedding_75 (Embedding)     (None, 500, 64)           64000     \n",
      "_________________________________________________________________\n",
      "lstm_41 (LSTM)               (None, 32)                12416     \n",
      "_________________________________________________________________\n",
      "dropout_127 (Dropout)        (None, 32)                0         \n",
      "_________________________________________________________________\n",
      "dense_154 (Dense)            (None, 16)                528       \n",
      "_________________________________________________________________\n",
      "dense_155 (Dense)            (None, 32)                544       \n",
      "_________________________________________________________________\n",
      "dropout_128 (Dropout)        (None, 32)                0         \n",
      "_________________________________________________________________\n",
      "dense_156 (Dense)            (None, 7)                 231       \n",
      "=================================================================\n",
      "Total params: 77,719\n",
      "Trainable params: 77,719\n",
      "Non-trainable params: 0\n",
      "_________________________________________________________________\n"
     ]
    }
   ],
   "source": [
    "\n",
    "max_features = 1000 # Cut texts after this number of words. Thougs in this case, it is not needed...\n",
    "maxlen = 500\n",
    "batch_size = 64\n",
    "\n",
    "print('Loading data...')\n",
    "\n",
    "print(len(x_train), \"train sequences\")\n",
    "print(len(x_test), \"test sequences\")\n",
    "\n",
    "print(\"Pad sequences (samples x time)\")\n",
    "x_train = sequence.pad_sequences(x_train, maxlen=maxlen)\n",
    "x_test = sequence.pad_sequences(x_test, maxlen=maxlen)\n",
    "\n",
    "#x_train = np.array(x_train)\n",
    "#x_test = np.array(x_test)\n",
    "\n",
    "model2 = Sequential()\n",
    "model2.add(Embedding(max_features, batch_size, input_length=maxlen))\n",
    "model2.add(LSTM(32))\n",
    "model2.add(Dropout(0.25))\n",
    "model2.add(Dense(16, activation=\"sigmoid\"))\n",
    "\n",
    "model2.add(Dense(32, activation = \"relu\"))\n",
    "model2.add(Dropout(0.5))\n",
    "model2.add(Dense(7, activation = \"relu\"))\n",
    "model2.summary()\n",
    "\n",
    "# try using different optimizers and different optimizer configs\n",
    "model2.compile(\"adam\", \"binary_crossentropy\", metrics=[\"acc\"])\n"
   ]
  },
  {
   "cell_type": "markdown",
   "metadata": {},
   "source": [
    "# Training of the model\n",
    "Train the third model and plot the history"
   ]
  },
  {
   "cell_type": "code",
   "execution_count": 195,
   "metadata": {},
   "outputs": [
    {
     "name": "stdout",
     "output_type": "stream",
     "text": [
      " \n",
      "Train...\n",
      "Train on 7500 samples, validate on 2500 samples\n",
      "Epoch 1/10\n",
      "7500/7500 [==============================] - 33s 4ms/step - loss: 1.0261 - acc: 0.8537 - val_loss: 0.7696 - val_acc: 0.8571\n",
      "Epoch 2/10\n",
      "7500/7500 [==============================] - 31s 4ms/step - loss: 0.4669 - acc: 0.8571 - val_loss: 0.3236 - val_acc: 0.8571\n",
      "Epoch 3/10\n",
      "7500/7500 [==============================] - 31s 4ms/step - loss: 0.3231 - acc: 0.8597 - val_loss: 0.3198 - val_acc: 0.8571\n",
      "Epoch 4/10\n",
      "7500/7500 [==============================] - 31s 4ms/step - loss: 0.3197 - acc: 0.8611 - val_loss: 0.3100 - val_acc: 0.8659\n",
      "Epoch 5/10\n",
      "7500/7500 [==============================] - 31s 4ms/step - loss: 0.3072 - acc: 0.8700 - val_loss: 0.3054 - val_acc: 0.8682\n",
      "Epoch 6/10\n",
      "7500/7500 [==============================] - 30s 4ms/step - loss: 0.2993 - acc: 0.8759 - val_loss: 0.2953 - val_acc: 0.8811\n",
      "Epoch 7/10\n",
      "7500/7500 [==============================] - 31s 4ms/step - loss: 0.3089 - acc: 0.8658 - val_loss: 0.3092 - val_acc: 0.8608\n",
      "Epoch 8/10\n",
      "7500/7500 [==============================] - 31s 4ms/step - loss: 0.3012 - acc: 0.8716 - val_loss: 0.3007 - val_acc: 0.8728\n",
      "Epoch 9/10\n",
      "7500/7500 [==============================] - 31s 4ms/step - loss: 0.2975 - acc: 0.8752 - val_loss: 0.2953 - val_acc: 0.8781\n",
      "Epoch 10/10\n",
      "7500/7500 [==============================] - 31s 4ms/step - loss: 0.3031 - acc: 0.8641 - val_loss: 0.2995 - val_acc: 0.8751\n"
     ]
    },
    {
     "data": {
      "image/png": "[encoded data removed]",
      "text/plain": [
       "<Figure size 1152x504 with 2 Axes>"
      ]
     },
     "metadata": {
      "needs_background": "light"
     },
     "output_type": "display_data"
    }
   ],
   "source": [
    "\n",
    "print(\" \")\n",
    "print(\"Train...\")\n",
    "h1 = train_model(model2, x_train, one_hot_labels)\n",
    "plot_history(h1)"
   ]
  },
  {
   "cell_type": "markdown",
   "metadata": {},
   "source": [
    "Running the train data reveals an accuracy of 85%."
   ]
  },
  {
   "cell_type": "markdown",
   "metadata": {},
   "source": [
    " # .....................................................................................................\n"
   ]
  },
  {
   "cell_type": "markdown",
   "metadata": {},
   "source": [
    "# Model nro.4 CNN + Conv1D and MaxPooling with a bit of spices\n"
   ]
  },
  {
   "cell_type": "code",
   "execution_count": 245,
   "metadata": {},
   "outputs": [],
   "source": [
    "def train_model(model3, x, y, e = 5, bs = 64, v = 1, vs = 0.25):\n",
    "    h3 = model3.fit(x, y, epochs = e, batch_size = bs, verbose = v, validation_split = vs)\n",
    "    return h3\n"
   ]
  },
  {
   "cell_type": "code",
   "execution_count": 256,
   "metadata": {},
   "outputs": [
    {
     "name": "stdout",
     "output_type": "stream",
     "text": [
      "_________________________________________________________________\n",
      "Layer (type)                 Output Shape              Param #   \n",
      "=================================================================\n",
      "embedding_100 (Embedding)    (None, 500, 64)           64000     \n",
      "_________________________________________________________________\n",
      "conv1d_227 (Conv1D)          (None, 496, 128)          41088     \n",
      "_________________________________________________________________\n",
      "max_pooling1d_84 (MaxPooling (None, 99, 128)           0         \n",
      "_________________________________________________________________\n",
      "conv1d_228 (Conv1D)          (None, 95, 128)           82048     \n",
      "_________________________________________________________________\n",
      "max_pooling1d_85 (MaxPooling (None, 19, 128)           0         \n",
      "_________________________________________________________________\n",
      "conv1d_229 (Conv1D)          (None, 15, 128)           82048     \n",
      "_________________________________________________________________\n",
      "max_pooling1d_86 (MaxPooling (None, 1, 128)            0         \n",
      "_________________________________________________________________\n",
      "flatten_41 (Flatten)         (None, 128)               0         \n",
      "_________________________________________________________________\n",
      "dense_199 (Dense)            (None, 128)               16512     \n",
      "_________________________________________________________________\n",
      "dense_200 (Dense)            (None, 7)                 903       \n",
      "=================================================================\n",
      "Total params: 286,599\n",
      "Trainable params: 286,599\n",
      "Non-trainable params: 0\n",
      "_________________________________________________________________\n",
      "None\n"
     ]
    }
   ],
   "source": [
    "model3 = Sequential()\n",
    "#model3.add(Embedding(1000, 64, input_length = 500))\n",
    "\n",
    "#model3.add(Conv1D(100, 10, activation='relu', input_shape=(train_shape,)))\n",
    "#model3.add(Conv1D(100, 10, activation='relu'))\n",
    "#model3.add(MaxPooling1D(3))\n",
    "#model3.add(Dense(32, activation='relu'))\n",
    "#model3.add(Conv1D(160, 10, activation='relu'))\n",
    "#model3.add(Conv1D(160, 10, activation='relu'))\n",
    "#model3.add(Flatten())\n",
    "#model3.add(Dropout(0.5))\n",
    "#model3.add(Dense(7, activation='softmax'))\n",
    "\n",
    "\n",
    "\n",
    "model3 = Sequential()\n",
    "model3.add(Embedding(1000, 64, input_length = 500))\n",
    "model3.add(Conv1D(128, 5, activation='relu'))\n",
    "model3.add(MaxPooling1D(5))\n",
    "model3.add(Conv1D(128, 5, activation='relu'))\n",
    "model3.add(MaxPooling1D(5))\n",
    "model3.add(Conv1D(128, 5, activation='relu'))\n",
    "model3.add(MaxPooling1D(10))               # Global max pooling\n",
    "model3.add(Flatten())\n",
    "model3.add(Dense(128, activation='relu'))\n",
    "model3.add(Dense(7, activation='softmax'))\n",
    "\n",
    "sgd = optimizers.SGD(lr=0.01, decay=1e-6, momentum=0.9, nesterov=True)\n",
    "model3.compile(optimizer = sgd,\n",
    "             loss='categorical_crossentropy', \n",
    "              metrics = [\"accuracy\", \"mse\", rmse])\n",
    "\n",
    "print(model3.summary())"
   ]
  },
  {
   "cell_type": "code",
   "execution_count": 257,
   "metadata": {},
   "outputs": [
    {
     "name": "stdout",
     "output_type": "stream",
     "text": [
      "Train on 7500 samples, validate on 2500 samples\n",
      "Epoch 1/5\n",
      "7500/7500 [==============================] - 21s 3ms/step - loss: 1.4907 - acc: 0.4852 - mean_squared_error: 0.1023 - rmse: 0.3104 - val_loss: 1.3953 - val_acc: 0.4808 - val_mean_squared_error: 0.0997 - val_rmse: 0.3012\n",
      "Epoch 2/5\n",
      "7500/7500 [==============================] - 19s 3ms/step - loss: 1.3756 - acc: 0.4887 - mean_squared_error: 0.0985 - rmse: 0.3027 - val_loss: 1.3931 - val_acc: 0.4808 - val_mean_squared_error: 0.0995 - val_rmse: 0.3019\n",
      "Epoch 3/5\n",
      "7500/7500 [==============================] - 19s 2ms/step - loss: 1.3759 - acc: 0.4887 - mean_squared_error: 0.0986 - rmse: 0.3026 - val_loss: 1.3960 - val_acc: 0.4808 - val_mean_squared_error: 0.0998 - val_rmse: 0.3083\n",
      "Epoch 4/5\n",
      "7500/7500 [==============================] - 20s 3ms/step - loss: 1.3755 - acc: 0.4887 - mean_squared_error: 0.0986 - rmse: 0.3027 - val_loss: 1.3928 - val_acc: 0.4808 - val_mean_squared_error: 0.0995 - val_rmse: 0.3060\n",
      "Epoch 5/5\n",
      "7500/7500 [==============================] - 20s 3ms/step - loss: 1.3747 - acc: 0.4887 - mean_squared_error: 0.0985 - rmse: 0.3023 - val_loss: 1.3916 - val_acc: 0.4808 - val_mean_squared_error: 0.0994 - val_rmse: 0.3059\n"
     ]
    },
    {
     "data": {
      "image/png": "[encoded data removed]",
      "text/plain": [
       "<Figure size 1152x504 with 2 Axes>"
      ]
     },
     "metadata": {
      "needs_background": "light"
     },
     "output_type": "display_data"
    }
   ],
   "source": [
    "h1 = train_model(model3, x_train, one_hot_labels)\n",
    "plot_history(h1)"
   ]
  },
  {
   "cell_type": "markdown",
   "metadata": {},
   "source": [
    "------------------------------------------------------------------------------------------------------------------------------"
   ]
  },
  {
   "cell_type": "markdown",
   "metadata": {},
   "source": [
    "For final comments and summary, i can note that "
   ]
  }
 ],
 "metadata": {
  "kernelspec": {
   "display_name": "Python 3",
   "language": "python",
   "name": "python3"
  },
  "language_info": {
   "codemirror_mode": {
    "name": "ipython",
    "version": 3
   },
   "file_extension": ".py",
   "mimetype": "text/x-python",
   "name": "python",
   "nbconvert_exporter": "python",
   "pygments_lexer": "ipython3",
   "version": "3.6.7"
  }
 },
 "nbformat": 4,
 "nbformat_minor": 2
}
