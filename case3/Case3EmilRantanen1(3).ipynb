{
 "cells": [
  {
   "cell_type": "markdown",
   "metadata": {},
   "source": [
    "# Case 3. Heart Disease Classification \n",
    "    Cognitive Systems for Health Technology Applications\n",
    "    19.3.2019, Emil Rantanen ja Wille Tuovinen\n",
    "    Metropolia University of Applied Sciences"
   ]
  },
  {
   "cell_type": "markdown",
   "metadata": {},
   "source": [
    "This is the code made for the Case 3 Exercise of the Cognitive Systems for Health Technology applications. "
   ]
  },
  {
   "cell_type": "code",
   "execution_count": 1,
   "metadata": {},
   "outputs": [
    {
     "data": {
      "text/html": [
       "<div>\n",
       "<style scoped>\n",
       "    .dataframe tbody tr th:only-of-type {\n",
       "        vertical-align: middle;\n",
       "    }\n",
       "\n",
       "    .dataframe tbody tr th {\n",
       "        vertical-align: top;\n",
       "    }\n",
       "\n",
       "    .dataframe thead th {\n",
       "        text-align: right;\n",
       "    }\n",
       "</style>\n",
       "<table border=\"1\" class=\"dataframe\">\n",
       "  <thead>\n",
       "    <tr style=\"text-align: right;\">\n",
       "      <th></th>\n",
       "      <th>uniqueID</th>\n",
       "      <th>drugName</th>\n",
       "      <th>condition</th>\n",
       "      <th>review</th>\n",
       "      <th>rating</th>\n",
       "      <th>date</th>\n",
       "      <th>usefulCount</th>\n",
       "    </tr>\n",
       "  </thead>\n",
       "  <tbody>\n",
       "    <tr>\n",
       "      <th>0</th>\n",
       "      <td>206461</td>\n",
       "      <td>Valsartan</td>\n",
       "      <td>Left Ventricular Dysfunction</td>\n",
       "      <td>\"It has no side effect, I take it in combinati...</td>\n",
       "      <td>9</td>\n",
       "      <td>20-May-12</td>\n",
       "      <td>27</td>\n",
       "    </tr>\n",
       "    <tr>\n",
       "      <th>1</th>\n",
       "      <td>95260</td>\n",
       "      <td>Guanfacine</td>\n",
       "      <td>ADHD</td>\n",
       "      <td>\"My son is halfway through his fourth week of ...</td>\n",
       "      <td>8</td>\n",
       "      <td>27-Apr-10</td>\n",
       "      <td>192</td>\n",
       "    </tr>\n",
       "    <tr>\n",
       "      <th>2</th>\n",
       "      <td>92703</td>\n",
       "      <td>Lybrel</td>\n",
       "      <td>Birth Control</td>\n",
       "      <td>\"I used to take another oral contraceptive, wh...</td>\n",
       "      <td>5</td>\n",
       "      <td>14-Dec-09</td>\n",
       "      <td>17</td>\n",
       "    </tr>\n",
       "    <tr>\n",
       "      <th>3</th>\n",
       "      <td>138000</td>\n",
       "      <td>Ortho Evra</td>\n",
       "      <td>Birth Control</td>\n",
       "      <td>\"This is my first time using any form of birth...</td>\n",
       "      <td>8</td>\n",
       "      <td>3-Nov-15</td>\n",
       "      <td>10</td>\n",
       "    </tr>\n",
       "    <tr>\n",
       "      <th>4</th>\n",
       "      <td>35696</td>\n",
       "      <td>Buprenorphine / naloxone</td>\n",
       "      <td>Opiate Dependence</td>\n",
       "      <td>\"Suboxone has completely turned my life around...</td>\n",
       "      <td>9</td>\n",
       "      <td>27-Nov-16</td>\n",
       "      <td>37</td>\n",
       "    </tr>\n",
       "    <tr>\n",
       "      <th>5</th>\n",
       "      <td>155963</td>\n",
       "      <td>Cialis</td>\n",
       "      <td>Benign Prostatic Hyperplasia</td>\n",
       "      <td>\"2nd day on 5mg started to work with rock hard...</td>\n",
       "      <td>2</td>\n",
       "      <td>28-Nov-15</td>\n",
       "      <td>43</td>\n",
       "    </tr>\n",
       "    <tr>\n",
       "      <th>6</th>\n",
       "      <td>165907</td>\n",
       "      <td>Levonorgestrel</td>\n",
       "      <td>Emergency Contraception</td>\n",
       "      <td>\"He pulled out, but he cummed a bit in me. I t...</td>\n",
       "      <td>1</td>\n",
       "      <td>7-Mar-17</td>\n",
       "      <td>5</td>\n",
       "    </tr>\n",
       "    <tr>\n",
       "      <th>7</th>\n",
       "      <td>102654</td>\n",
       "      <td>Aripiprazole</td>\n",
       "      <td>Bipolar Disorde</td>\n",
       "      <td>\"Abilify changed my life. There is hope. I was...</td>\n",
       "      <td>10</td>\n",
       "      <td>14-Mar-15</td>\n",
       "      <td>32</td>\n",
       "    </tr>\n",
       "    <tr>\n",
       "      <th>8</th>\n",
       "      <td>74811</td>\n",
       "      <td>Keppra</td>\n",
       "      <td>Epilepsy</td>\n",
       "      <td>\" I Ve had  nothing but problems with the Kepp...</td>\n",
       "      <td>1</td>\n",
       "      <td>9-Aug-16</td>\n",
       "      <td>11</td>\n",
       "    </tr>\n",
       "    <tr>\n",
       "      <th>9</th>\n",
       "      <td>48928</td>\n",
       "      <td>Ethinyl estradiol / levonorgestrel</td>\n",
       "      <td>Birth Control</td>\n",
       "      <td>\"I had been on the pill for many years. When m...</td>\n",
       "      <td>8</td>\n",
       "      <td>8-Dec-16</td>\n",
       "      <td>1</td>\n",
       "    </tr>\n",
       "  </tbody>\n",
       "</table>\n",
       "</div>"
      ],
      "text/plain": [
       "   uniqueID                            drugName                     condition  \\\n",
       "0    206461                           Valsartan  Left Ventricular Dysfunction   \n",
       "1     95260                          Guanfacine                          ADHD   \n",
       "2     92703                              Lybrel                 Birth Control   \n",
       "3    138000                          Ortho Evra                 Birth Control   \n",
       "4     35696            Buprenorphine / naloxone             Opiate Dependence   \n",
       "5    155963                              Cialis  Benign Prostatic Hyperplasia   \n",
       "6    165907                      Levonorgestrel       Emergency Contraception   \n",
       "7    102654                        Aripiprazole               Bipolar Disorde   \n",
       "8     74811                              Keppra                      Epilepsy   \n",
       "9     48928  Ethinyl estradiol / levonorgestrel                 Birth Control   \n",
       "\n",
       "                                              review  rating       date  \\\n",
       "0  \"It has no side effect, I take it in combinati...       9  20-May-12   \n",
       "1  \"My son is halfway through his fourth week of ...       8  27-Apr-10   \n",
       "2  \"I used to take another oral contraceptive, wh...       5  14-Dec-09   \n",
       "3  \"This is my first time using any form of birth...       8   3-Nov-15   \n",
       "4  \"Suboxone has completely turned my life around...       9  27-Nov-16   \n",
       "5  \"2nd day on 5mg started to work with rock hard...       2  28-Nov-15   \n",
       "6  \"He pulled out, but he cummed a bit in me. I t...       1   7-Mar-17   \n",
       "7  \"Abilify changed my life. There is hope. I was...      10  14-Mar-15   \n",
       "8  \" I Ve had  nothing but problems with the Kepp...       1   9-Aug-16   \n",
       "9  \"I had been on the pill for many years. When m...       8   8-Dec-16   \n",
       "\n",
       "   usefulCount  \n",
       "0           27  \n",
       "1          192  \n",
       "2           17  \n",
       "3           10  \n",
       "4           37  \n",
       "5           43  \n",
       "6            5  \n",
       "7           32  \n",
       "8           11  \n",
       "9            1  "
      ]
     },
     "execution_count": 1,
     "metadata": {},
     "output_type": "execute_result"
    }
   ],
   "source": [
    "import numpy as np\n",
    "import pandas as pd\n",
    "from sklearn import linear_model\n",
    "from sklearn.metrics import mean_squared_error, r2_score\n",
    "from sklearn.preprocessing import StandardScaler\n",
    "import matplotlib.pyplot as plt\n",
    "from matplotlib import pyplot, pylab\n",
    "plt = pyplot\n",
    "%matplotlib inline\n",
    "\n",
    "df = pd.read_csv('A:/Downloads/Case3/drugsComTrain_raw.csv')\n",
    "dfTest = pd.read_csv('A:/Downloads/Case3/drugsComTest_raw.csv')\n",
    "df.head(10)"
   ]
  },
  {
   "cell_type": "code",
   "execution_count": 2,
   "metadata": {},
   "outputs": [
    {
     "data": {
      "text/html": [
       "<div>\n",
       "<style scoped>\n",
       "    .dataframe tbody tr th:only-of-type {\n",
       "        vertical-align: middle;\n",
       "    }\n",
       "\n",
       "    .dataframe tbody tr th {\n",
       "        vertical-align: top;\n",
       "    }\n",
       "\n",
       "    .dataframe thead th {\n",
       "        text-align: right;\n",
       "    }\n",
       "</style>\n",
       "<table border=\"1\" class=\"dataframe\">\n",
       "  <thead>\n",
       "    <tr style=\"text-align: right;\">\n",
       "      <th></th>\n",
       "      <th>uniqueID</th>\n",
       "      <th>drugName</th>\n",
       "      <th>condition</th>\n",
       "      <th>review</th>\n",
       "      <th>rating</th>\n",
       "      <th>date</th>\n",
       "      <th>usefulCount</th>\n",
       "    </tr>\n",
       "  </thead>\n",
       "  <tbody>\n",
       "    <tr>\n",
       "      <th>0</th>\n",
       "      <td>163740</td>\n",
       "      <td>Mirtazapine</td>\n",
       "      <td>Depression</td>\n",
       "      <td>\"I&amp;#039;ve tried a few antidepressants over th...</td>\n",
       "      <td>10</td>\n",
       "      <td>28-Feb-12</td>\n",
       "      <td>22</td>\n",
       "    </tr>\n",
       "    <tr>\n",
       "      <th>1</th>\n",
       "      <td>206473</td>\n",
       "      <td>Mesalamine</td>\n",
       "      <td>Crohn's Disease, Maintenance</td>\n",
       "      <td>\"My son has Crohn&amp;#039;s disease and has done ...</td>\n",
       "      <td>8</td>\n",
       "      <td>17-May-09</td>\n",
       "      <td>17</td>\n",
       "    </tr>\n",
       "    <tr>\n",
       "      <th>2</th>\n",
       "      <td>159672</td>\n",
       "      <td>Bactrim</td>\n",
       "      <td>Urinary Tract Infection</td>\n",
       "      <td>\"Quick reduction of symptoms\"</td>\n",
       "      <td>9</td>\n",
       "      <td>29-Sep-17</td>\n",
       "      <td>3</td>\n",
       "    </tr>\n",
       "    <tr>\n",
       "      <th>3</th>\n",
       "      <td>39293</td>\n",
       "      <td>Contrave</td>\n",
       "      <td>Weight Loss</td>\n",
       "      <td>\"Contrave combines drugs that were used for al...</td>\n",
       "      <td>9</td>\n",
       "      <td>5-Mar-17</td>\n",
       "      <td>35</td>\n",
       "    </tr>\n",
       "    <tr>\n",
       "      <th>4</th>\n",
       "      <td>97768</td>\n",
       "      <td>Cyclafem 1 / 35</td>\n",
       "      <td>Birth Control</td>\n",
       "      <td>\"I have been on this birth control for one cyc...</td>\n",
       "      <td>9</td>\n",
       "      <td>22-Oct-15</td>\n",
       "      <td>4</td>\n",
       "    </tr>\n",
       "    <tr>\n",
       "      <th>5</th>\n",
       "      <td>208087</td>\n",
       "      <td>Zyclara</td>\n",
       "      <td>Keratosis</td>\n",
       "      <td>\"4 days in on first 2 weeks.  Using on arms an...</td>\n",
       "      <td>4</td>\n",
       "      <td>3-Jul-14</td>\n",
       "      <td>13</td>\n",
       "    </tr>\n",
       "    <tr>\n",
       "      <th>6</th>\n",
       "      <td>215892</td>\n",
       "      <td>Copper</td>\n",
       "      <td>Birth Control</td>\n",
       "      <td>\"I&amp;#039;ve had the copper coil for about 3 mon...</td>\n",
       "      <td>6</td>\n",
       "      <td>6-Jun-16</td>\n",
       "      <td>1</td>\n",
       "    </tr>\n",
       "    <tr>\n",
       "      <th>7</th>\n",
       "      <td>169852</td>\n",
       "      <td>Amitriptyline</td>\n",
       "      <td>Migraine Prevention</td>\n",
       "      <td>\"This has been great for me. I&amp;#039;ve been on...</td>\n",
       "      <td>9</td>\n",
       "      <td>21-Apr-09</td>\n",
       "      <td>32</td>\n",
       "    </tr>\n",
       "    <tr>\n",
       "      <th>8</th>\n",
       "      <td>23295</td>\n",
       "      <td>Methadone</td>\n",
       "      <td>Opiate Withdrawal</td>\n",
       "      <td>\"Ive been on Methadone for over ten years and ...</td>\n",
       "      <td>7</td>\n",
       "      <td>18-Oct-16</td>\n",
       "      <td>21</td>\n",
       "    </tr>\n",
       "    <tr>\n",
       "      <th>9</th>\n",
       "      <td>71428</td>\n",
       "      <td>Levora</td>\n",
       "      <td>Birth Control</td>\n",
       "      <td>\"I was on this pill for almost two years. It d...</td>\n",
       "      <td>2</td>\n",
       "      <td>16-Apr-11</td>\n",
       "      <td>3</td>\n",
       "    </tr>\n",
       "  </tbody>\n",
       "</table>\n",
       "</div>"
      ],
      "text/plain": [
       "   uniqueID         drugName                     condition  \\\n",
       "0    163740      Mirtazapine                    Depression   \n",
       "1    206473       Mesalamine  Crohn's Disease, Maintenance   \n",
       "2    159672          Bactrim       Urinary Tract Infection   \n",
       "3     39293         Contrave                   Weight Loss   \n",
       "4     97768  Cyclafem 1 / 35                 Birth Control   \n",
       "5    208087          Zyclara                     Keratosis   \n",
       "6    215892           Copper                 Birth Control   \n",
       "7    169852    Amitriptyline           Migraine Prevention   \n",
       "8     23295        Methadone             Opiate Withdrawal   \n",
       "9     71428           Levora                 Birth Control   \n",
       "\n",
       "                                              review  rating       date  \\\n",
       "0  \"I&#039;ve tried a few antidepressants over th...      10  28-Feb-12   \n",
       "1  \"My son has Crohn&#039;s disease and has done ...       8  17-May-09   \n",
       "2                      \"Quick reduction of symptoms\"       9  29-Sep-17   \n",
       "3  \"Contrave combines drugs that were used for al...       9   5-Mar-17   \n",
       "4  \"I have been on this birth control for one cyc...       9  22-Oct-15   \n",
       "5  \"4 days in on first 2 weeks.  Using on arms an...       4   3-Jul-14   \n",
       "6  \"I&#039;ve had the copper coil for about 3 mon...       6   6-Jun-16   \n",
       "7  \"This has been great for me. I&#039;ve been on...       9  21-Apr-09   \n",
       "8  \"Ive been on Methadone for over ten years and ...       7  18-Oct-16   \n",
       "9  \"I was on this pill for almost two years. It d...       2  16-Apr-11   \n",
       "\n",
       "   usefulCount  \n",
       "0           22  \n",
       "1           17  \n",
       "2            3  \n",
       "3           35  \n",
       "4            4  \n",
       "5           13  \n",
       "6            1  \n",
       "7           32  \n",
       "8           21  \n",
       "9            3  "
      ]
     },
     "execution_count": 2,
     "metadata": {},
     "output_type": "execute_result"
    }
   ],
   "source": [
    "dfTest.head(10)"
   ]
  },
  {
   "cell_type": "code",
   "execution_count": 3,
   "metadata": {},
   "outputs": [
    {
     "data": {
      "text/plain": [
       "True"
      ]
     },
     "execution_count": 3,
     "metadata": {},
     "output_type": "execute_result"
    }
   ],
   "source": [
    "# Are the columns same in train and test sets?\n",
    "list(df) == list(dfTest)"
   ]
  },
  {
   "cell_type": "code",
   "execution_count": 4,
   "metadata": {},
   "outputs": [
    {
     "name": "stdout",
     "output_type": "stream",
     "text": [
      "Rows in train set: 161297\n",
      "Rows in test set: 53766\n",
      "Ratio (train:test) = 3.000\n"
     ]
    }
   ],
   "source": [
    "# How many rows are there in train and test sets?\n",
    "rows_train = df.values.shape[0]\n",
    "rows_test = dfTest.values.shape[0]\n",
    "print('Rows in train set:', rows_train)\n",
    "print('Rows in test set:', rows_test)\n",
    "\n",
    "# What is the ratio of the train and test set sizes?\n",
    "ratio = rows_train/rows_test\n",
    "print('Ratio (train:test) = {:.3f}'.format(ratio))"
   ]
  },
  {
   "cell_type": "code",
   "execution_count": 5,
   "metadata": {},
   "outputs": [
    {
     "data": {
      "image/png": "[encoded data removed]",
      "text/plain": [
       "<Figure size 432x288 with 1 Axes>"
      ]
     },
     "metadata": {
      "needs_background": "light"
     },
     "output_type": "display_data"
    }
   ],
   "source": [
    "df['condition'].value_counts().sort_values(ascending=False)[:10].plot(kind='bar', rot = 30)\n",
    "plt.title('Most common medical conditions')\n",
    "plt.xlabel('Condition')\n",
    "plt.ylabel('Count')\n",
    "plt.grid()\n",
    "plt.show()"
   ]
  },
  {
   "cell_type": "code",
   "execution_count": 6,
   "metadata": {},
   "outputs": [
    {
     "data": {
      "image/png": "[encoded data removed]",
      "text/plain": [
       "<Figure size 432x288 with 1 Axes>"
      ]
     },
     "metadata": {
      "needs_background": "light"
     },
     "output_type": "display_data"
    }
   ],
   "source": [
    "# How are the ratings distributed?\n",
    "df['rating'].hist(color='skyblue', bins = range(1, 12), align = 'left')\n",
    "plt.title('Distribution of ratings')\n",
    "plt.xlabel('Rating')\n",
    "plt.ylabel('Count')\n",
    "plt.xticks(range(1, 11))\n",
    "plt.show()"
   ]
  },
  {
   "cell_type": "code",
   "execution_count": 7,
   "metadata": {},
   "outputs": [
    {
     "name": "stderr",
     "output_type": "stream",
     "text": [
      "[nltk_data] Downloading package vader_lexicon to C:\\Users\\Milin\n",
      "[nltk_data]     Pelipaja\\AppData\\Roaming\\nltk_data...\n",
      "[nltk_data]   Package vader_lexicon is already up-to-date!\n"
     ]
    }
   ],
   "source": [
    "# Import natural language processing toolkit\n",
    "import nltk\n",
    "nltk.download('vader_lexicon')\n",
    "# Use the VADER sentiment analysis tools.\n",
    "# Ref. Hutto, C.J. & Gilbert, E.E. (2014). VADER: A Parsimonious Rule-based Model for Sentiment Analysis of Social Media Text. \n",
    "# Eighth International Conference on Weblogs and Social Media (ICWSM-14). Ann Arbor, MI, June 2014.\n",
    "# http://www.nltk.org/api/nltk.sentiment.html\n",
    "from nltk.sentiment.vader import SentimentIntensityAnalyzer"
   ]
  },
  {
   "cell_type": "code",
   "execution_count": 8,
   "metadata": {},
   "outputs": [
    {
     "data": {
      "text/plain": [
       "array([-0.296 ,  0.8603,  0.7645,  0.7184,  0.9403, -0.4342,  0.    ,\n",
       "       -0.9468, -0.5593, -0.901 ])"
      ]
     },
     "execution_count": 8,
     "metadata": {},
     "output_type": "execute_result"
    }
   ],
   "source": [
    "# Analyze the sentiment polarity of each review with scale -1.0 ... +1.0\n",
    "# Takes a long time...\n",
    "sid = SentimentIntensityAnalyzer()\n",
    "sentiments = []\n",
    "for r in df['review']:\n",
    "    sentiments.append(sid.polarity_scores(r).get('compound')) \n",
    "sentiments = np.asarray(sentiments)\n",
    "# Check the first 10 values\n",
    "sentiments[:10]"
   ]
  },
  {
   "cell_type": "code",
   "execution_count": 9,
   "metadata": {},
   "outputs": [
    {
     "data": {
      "text/html": [
       "<div>\n",
       "<style scoped>\n",
       "    .dataframe tbody tr th:only-of-type {\n",
       "        vertical-align: middle;\n",
       "    }\n",
       "\n",
       "    .dataframe tbody tr th {\n",
       "        vertical-align: top;\n",
       "    }\n",
       "\n",
       "    .dataframe thead th {\n",
       "        text-align: right;\n",
       "    }\n",
       "</style>\n",
       "<table border=\"1\" class=\"dataframe\">\n",
       "  <thead>\n",
       "    <tr style=\"text-align: right;\">\n",
       "      <th></th>\n",
       "      <th>uniqueID</th>\n",
       "      <th>drugName</th>\n",
       "      <th>condition</th>\n",
       "      <th>review</th>\n",
       "      <th>rating</th>\n",
       "      <th>date</th>\n",
       "      <th>usefulCount</th>\n",
       "      <th>sentiment</th>\n",
       "    </tr>\n",
       "  </thead>\n",
       "  <tbody>\n",
       "    <tr>\n",
       "      <th>0</th>\n",
       "      <td>96616</td>\n",
       "      <td>Sertraline</td>\n",
       "      <td>Depression</td>\n",
       "      <td>\"I remember reading people&amp;#039;s opinions, on...</td>\n",
       "      <td>10</td>\n",
       "      <td>31-Jul-08</td>\n",
       "      <td>1291</td>\n",
       "      <td>0.9772</td>\n",
       "    </tr>\n",
       "    <tr>\n",
       "      <th>1</th>\n",
       "      <td>119152</td>\n",
       "      <td>Zoloft</td>\n",
       "      <td>Depression</td>\n",
       "      <td>\"I remember reading people&amp;#039;s opinions, on...</td>\n",
       "      <td>10</td>\n",
       "      <td>31-Jul-08</td>\n",
       "      <td>1291</td>\n",
       "      <td>0.9772</td>\n",
       "    </tr>\n",
       "    <tr>\n",
       "      <th>2</th>\n",
       "      <td>131116</td>\n",
       "      <td>Levonorgestrel</td>\n",
       "      <td>Birth Control</td>\n",
       "      <td>\"I have had my IUD for over a year now and I t...</td>\n",
       "      <td>10</td>\n",
       "      <td>1-Apr-09</td>\n",
       "      <td>1247</td>\n",
       "      <td>0.7739</td>\n",
       "    </tr>\n",
       "    <tr>\n",
       "      <th>3</th>\n",
       "      <td>182560</td>\n",
       "      <td>Mirena</td>\n",
       "      <td>Birth Control</td>\n",
       "      <td>\"I have had my IUD for over a year now and I t...</td>\n",
       "      <td>10</td>\n",
       "      <td>1-Apr-09</td>\n",
       "      <td>1247</td>\n",
       "      <td>0.7739</td>\n",
       "    </tr>\n",
       "    <tr>\n",
       "      <th>4</th>\n",
       "      <td>119151</td>\n",
       "      <td>Zoloft</td>\n",
       "      <td>Depression</td>\n",
       "      <td>\"I&amp;#039;ve been on Zoloft 50mg for over two ye...</td>\n",
       "      <td>9</td>\n",
       "      <td>5-Aug-08</td>\n",
       "      <td>949</td>\n",
       "      <td>-0.6815</td>\n",
       "    </tr>\n",
       "    <tr>\n",
       "      <th>5</th>\n",
       "      <td>139141</td>\n",
       "      <td>Phentermine</td>\n",
       "      <td>Weight Loss</td>\n",
       "      <td>\"I have used this pill off and on for the past...</td>\n",
       "      <td>10</td>\n",
       "      <td>19-Oct-08</td>\n",
       "      <td>796</td>\n",
       "      <td>0.7921</td>\n",
       "    </tr>\n",
       "    <tr>\n",
       "      <th>6</th>\n",
       "      <td>52305</td>\n",
       "      <td>Adipex-P</td>\n",
       "      <td>Weight Loss</td>\n",
       "      <td>\"I have used this pill off and on for the past...</td>\n",
       "      <td>10</td>\n",
       "      <td>19-Oct-08</td>\n",
       "      <td>796</td>\n",
       "      <td>0.7921</td>\n",
       "    </tr>\n",
       "    <tr>\n",
       "      <th>7</th>\n",
       "      <td>62757</td>\n",
       "      <td>Citalopram</td>\n",
       "      <td>Depression</td>\n",
       "      <td>\"I responded after one week. The side effects ...</td>\n",
       "      <td>8</td>\n",
       "      <td>25-Mar-08</td>\n",
       "      <td>771</td>\n",
       "      <td>-0.7227</td>\n",
       "    </tr>\n",
       "    <tr>\n",
       "      <th>8</th>\n",
       "      <td>89825</td>\n",
       "      <td>Celexa</td>\n",
       "      <td>Depression</td>\n",
       "      <td>\"I responded after one week. The side effects ...</td>\n",
       "      <td>8</td>\n",
       "      <td>25-Mar-08</td>\n",
       "      <td>771</td>\n",
       "      <td>-0.7227</td>\n",
       "    </tr>\n",
       "    <tr>\n",
       "      <th>9</th>\n",
       "      <td>107655</td>\n",
       "      <td>Implanon</td>\n",
       "      <td>Birth Control</td>\n",
       "      <td>\"I was very nervous about trying Implanon afte...</td>\n",
       "      <td>10</td>\n",
       "      <td>19-Jul-10</td>\n",
       "      <td>730</td>\n",
       "      <td>-0.9375</td>\n",
       "    </tr>\n",
       "  </tbody>\n",
       "</table>\n",
       "</div>"
      ],
      "text/plain": [
       "   uniqueID        drugName      condition  \\\n",
       "0     96616      Sertraline     Depression   \n",
       "1    119152          Zoloft     Depression   \n",
       "2    131116  Levonorgestrel  Birth Control   \n",
       "3    182560          Mirena  Birth Control   \n",
       "4    119151          Zoloft     Depression   \n",
       "5    139141     Phentermine    Weight Loss   \n",
       "6     52305        Adipex-P    Weight Loss   \n",
       "7     62757      Citalopram     Depression   \n",
       "8     89825          Celexa     Depression   \n",
       "9    107655        Implanon  Birth Control   \n",
       "\n",
       "                                              review  rating       date  \\\n",
       "0  \"I remember reading people&#039;s opinions, on...      10  31-Jul-08   \n",
       "1  \"I remember reading people&#039;s opinions, on...      10  31-Jul-08   \n",
       "2  \"I have had my IUD for over a year now and I t...      10   1-Apr-09   \n",
       "3  \"I have had my IUD for over a year now and I t...      10   1-Apr-09   \n",
       "4  \"I&#039;ve been on Zoloft 50mg for over two ye...       9   5-Aug-08   \n",
       "5  \"I have used this pill off and on for the past...      10  19-Oct-08   \n",
       "6  \"I have used this pill off and on for the past...      10  19-Oct-08   \n",
       "7  \"I responded after one week. The side effects ...       8  25-Mar-08   \n",
       "8  \"I responded after one week. The side effects ...       8  25-Mar-08   \n",
       "9  \"I was very nervous about trying Implanon afte...      10  19-Jul-10   \n",
       "\n",
       "   usefulCount  sentiment  \n",
       "0         1291     0.9772  \n",
       "1         1291     0.9772  \n",
       "2         1247     0.7739  \n",
       "3         1247     0.7739  \n",
       "4          949    -0.6815  \n",
       "5          796     0.7921  \n",
       "6          796     0.7921  \n",
       "7          771    -0.7227  \n",
       "8          771    -0.7227  \n",
       "9          730    -0.9375  "
      ]
     },
     "execution_count": 9,
     "metadata": {},
     "output_type": "execute_result"
    }
   ],
   "source": [
    "useful_df = df.sort_values(by='usefulCount', ascending=False)\n",
    "\n",
    "# Add the sentiment polarity analysis to dataframe\n",
    "useful_df['sentiment'] = pd.Series(data=sentiments)\n",
    "\n",
    "# Reset the indexing and display the first 10 rows\n",
    "useful_df = useful_df.reset_index(drop=True)\n",
    "useful_df.head(10)"
   ]
  },
  {
   "cell_type": "code",
   "execution_count": 10,
   "metadata": {},
   "outputs": [
    {
     "data": {
      "image/png": "[encoded data removed]",
      "text/plain": [
       "<Figure size 432x288 with 1 Axes>"
      ]
     },
     "metadata": {
      "needs_background": "light"
     },
     "output_type": "display_data"
    }
   ],
   "source": [
    "# What is the average sentiment vs. rating?\n",
    "useful_df.groupby('rating')['sentiment'].mean().plot(style = 'o:')\n",
    "plt.ylabel('Average Sentiment')\n",
    "plt.title('Average sentiment vs. rating')\n",
    "plt.grid()\n",
    "plt.show()"
   ]
  },
  {
   "cell_type": "code",
   "execution_count": 11,
   "metadata": {},
   "outputs": [],
   "source": [
    "# Import libraries\n",
    "import time\n",
    "from sklearn.feature_extraction.text import TfidfVectorizer\n",
    "from sklearn.metrics import confusion_matrix\n",
    "from sklearn.naive_bayes import MultinomialNB\n",
    "from sklearn.ensemble import RandomForestClassifier"
   ]
  },
  {
   "cell_type": "code",
   "execution_count": 12,
   "metadata": {},
   "outputs": [],
   "source": [
    "# Creates TF-IDF vectorizer and transforms the corpus\n",
    "vectorizer = TfidfVectorizer()\n",
    "X_train = vectorizer.fit_transform(df['review'].iloc[:10000])\n",
    "\n",
    "# transforms test reviews to above vectorized format\n",
    "X_test = vectorizer.transform(dfTest['review'].iloc[:5000])"
   ]
  },
  {
   "cell_type": "code",
   "execution_count": 13,
   "metadata": {},
   "outputs": [],
   "source": [
    "# Create a column with binary rating indicating the polarity of a review\n",
    "df['binary_rating'] = df['rating'] > 5\n",
    "y_train_rating = df['binary_rating'].iloc[:10000]\n",
    "\n",
    "dfTest['binary_rating'] = dfTest.rating > 5\n",
    "y_test_rating = dfTest['binary_rating'].iloc[:5000]"
   ]
  },
  {
   "cell_type": "code",
   "execution_count": 14,
   "metadata": {},
   "outputs": [
    {
     "name": "stdout",
     "output_type": "stream",
     "text": [
      "Accuracy: 0.702\n",
      "Confusion Matrix\n",
      "[[  18    1]\n",
      " [1489 3492]]\n"
     ]
    }
   ],
   "source": [
    "# Use Naive Bayes classifier\n",
    "clf = MultinomialNB().fit(X_train, y_train_rating)\n",
    "\n",
    "# Evaluate the model\n",
    "pred = clf.predict(X_test)\n",
    "\n",
    "print(\"Accuracy: {:.3f}\".format(clf.score(X_test, y_test_rating)))\n",
    "print(\"Confusion Matrix\")\n",
    "print(confusion_matrix(pred, y_test_rating))"
   ]
  },
  {
   "cell_type": "code",
   "execution_count": 15,
   "metadata": {},
   "outputs": [
    {
     "name": "stdout",
     "output_type": "stream",
     "text": [
      "Training time: 6 seconds.\n",
      "Accuracy: 0.747\n",
      "Confusion Matrix\n",
      "[[ 275   31]\n",
      " [1232 3462]]\n"
     ]
    }
   ],
   "source": [
    "# Use random forest classifier\n",
    "start = time.time()\n",
    "rfc_rating = RandomForestClassifier(n_estimators = 100, random_state = 42, max_depth = 10000, min_samples_split = 0.001)\n",
    "rfc_rating.fit(X_train, y_train_rating)\n",
    "end = time.time()\n",
    "print(\"Training time: {:.0f} seconds.\".format(end-start))\n",
    "\n",
    "# Evaluate the model\n",
    "pred = rfc_rating.predict(X_test)\n",
    "\n",
    "print(\"Accuracy: {:.3f}\".format(rfc_rating.score(X_test, y_test_rating)))\n",
    "print(\"Confusion Matrix\")\n",
    "print(confusion_matrix(pred, y_test_rating))"
   ]
  },
  {
   "cell_type": "code",
   "execution_count": 16,
   "metadata": {},
   "outputs": [
    {
     "name": "stderr",
     "output_type": "stream",
     "text": [
      "Using TensorFlow backend.\n"
     ]
    },
    {
     "name": "stdout",
     "output_type": "stream",
     "text": [
      "Found 20153 unique tokens.\n"
     ]
    }
   ],
   "source": [
    "from keras.preprocessing.text import Tokenizer\n",
    "\n",
    "samples = df['review'].iloc[:15000]\n",
    "tokenizer = Tokenizer(num_words = 5000)\n",
    "tokenizer.fit_on_texts(samples)\n",
    "\n",
    "word_index = tokenizer.word_index\n",
    "print('Found %s unique tokens.' % len(word_index))"
   ]
  },
  {
   "cell_type": "code",
   "execution_count": 17,
   "metadata": {},
   "outputs": [
    {
     "data": {
      "text/plain": [
       "(15000, 5000)"
      ]
     },
     "execution_count": 17,
     "metadata": {},
     "output_type": "execute_result"
    }
   ],
   "source": [
    "# Make one hot samples\n",
    "data = tokenizer.texts_to_matrix(samples, mode='binary')\n",
    "data.shape"
   ]
  },
  {
   "cell_type": "code",
   "execution_count": 18,
   "metadata": {},
   "outputs": [
    {
     "data": {
      "text/plain": [
       "array([[0., 1., 1., ..., 0., 0., 0.]])"
      ]
     },
     "execution_count": 18,
     "metadata": {},
     "output_type": "execute_result"
    }
   ],
   "source": [
    "# Show the first data row\n",
    "data[:1]"
   ]
  },
  {
   "cell_type": "code",
   "execution_count": 19,
   "metadata": {},
   "outputs": [
    {
     "data": {
      "text/plain": [
       "array([ True,  True, False,  True,  True, False, False,  True, False,\n",
       "        True])"
      ]
     },
     "execution_count": 19,
     "metadata": {},
     "output_type": "execute_result"
    }
   ],
   "source": [
    "# Create binary labels:\n",
    "# label = 1, when rating > 5\n",
    "# label = 0, otherwise\n",
    "labels = (df['rating'].iloc[:15000].values > 5)\n",
    "labels[:10]"
   ]
  },
  {
   "cell_type": "code",
   "execution_count": 20,
   "metadata": {},
   "outputs": [],
   "source": [
    "# Split into training and validation sets\n",
    "from sklearn.model_selection import train_test_split\n",
    "x_train, x_val, y_train, y_val = train_test_split(data, labels, test_size = 0.333, random_state = 2019)"
   ]
  },
  {
   "cell_type": "code",
   "execution_count": 21,
   "metadata": {},
   "outputs": [
    {
     "name": "stdout",
     "output_type": "stream",
     "text": [
      "_________________________________________________________________\n",
      "Layer (type)                 Output Shape              Param #   \n",
      "=================================================================\n",
      "dense_1 (Dense)              (None, 256)               1280256   \n",
      "_________________________________________________________________\n",
      "activation_1 (Activation)    (None, 256)               0         \n",
      "_________________________________________________________________\n",
      "dense_2 (Dense)              (None, 32)                8224      \n",
      "_________________________________________________________________\n",
      "activation_2 (Activation)    (None, 32)                0         \n",
      "_________________________________________________________________\n",
      "dense_3 (Dense)              (None, 1)                 33        \n",
      "_________________________________________________________________\n",
      "activation_3 (Activation)    (None, 1)                 0         \n",
      "=================================================================\n",
      "Total params: 1,288,513\n",
      "Trainable params: 1,288,513\n",
      "Non-trainable params: 0\n",
      "_________________________________________________________________\n"
     ]
    }
   ],
   "source": [
    "# Create a simple sequential model\n",
    "from keras.models import Sequential\n",
    "from keras.layers import Dense, Activation\n",
    "\n",
    "model = Sequential()\n",
    "model.add(Dense(256, input_dim = 5000))\n",
    "model.add(Activation('relu'))\n",
    "model.add(Dense(32))\n",
    "model.add(Activation('relu'))\n",
    "model.add(Dense(1))\n",
    "model.add(Activation('sigmoid'))\n",
    "model.compile(optimizer = 'rmsprop', loss = 'binary_crossentropy', metrics = ['acc'])\n",
    "model.summary()"
   ]
  },
  {
   "cell_type": "code",
   "execution_count": 22,
   "metadata": {},
   "outputs": [
    {
     "name": "stdout",
     "output_type": "stream",
     "text": [
      "Train on 10005 samples, validate on 4995 samples\n",
      "Epoch 1/10\n",
      "10005/10005 [==============================] - 12s 1ms/step - loss: 0.4629 - acc: 0.7855 - val_loss: 0.4503 - val_acc: 0.8070\n",
      "Epoch 2/10\n",
      "10005/10005 [==============================] - 2s 209us/step - loss: 0.3119 - acc: 0.8713 - val_loss: 0.5007 - val_acc: 0.8032\n",
      "Epoch 3/10\n",
      "10005/10005 [==============================] - 2s 210us/step - loss: 0.1998 - acc: 0.9252 - val_loss: 0.6182 - val_acc: 0.8064\n",
      "Epoch 4/10\n",
      "10005/10005 [==============================] - 2s 211us/step - loss: 0.1078 - acc: 0.9644 - val_loss: 0.6917 - val_acc: 0.8088\n",
      "Epoch 5/10\n",
      "10005/10005 [==============================] - 2s 213us/step - loss: 0.0499 - acc: 0.9856 - val_loss: 0.8489 - val_acc: 0.8112\n",
      "Epoch 6/10\n",
      "10005/10005 [==============================] - 2s 207us/step - loss: 0.0197 - acc: 0.9950 - val_loss: 1.0708 - val_acc: 0.8032\n",
      "Epoch 7/10\n",
      "10005/10005 [==============================] - 2s 209us/step - loss: 0.0090 - acc: 0.9982 - val_loss: 1.3199 - val_acc: 0.8058\n",
      "Epoch 8/10\n",
      "10005/10005 [==============================] - 2s 210us/step - loss: 0.0037 - acc: 0.9989 - val_loss: 1.5460 - val_acc: 0.8040\n",
      "Epoch 9/10\n",
      "10005/10005 [==============================] - 2s 208us/step - loss: 0.0020 - acc: 0.9992 - val_loss: 1.6763 - val_acc: 0.8054\n",
      "Epoch 10/10\n",
      "10005/10005 [==============================] - 2s 209us/step - loss: 9.4315e-04 - acc: 0.9996 - val_loss: 1.7921 - val_acc: 0.8036\n"
     ]
    }
   ],
   "source": [
    "history = model.fit(x_train, y_train, \n",
    "                    epochs = 10, \n",
    "                    batch_size = 32,\n",
    "                    verbose = 1,\n",
    "                    validation_data = (x_val, y_val))"
   ]
  },
  {
   "cell_type": "code",
   "execution_count": 23,
   "metadata": {},
   "outputs": [
    {
     "data": {
      "image/png": "[encoded data removed]",
      "text/plain": [
       "<Figure size 432x288 with 1 Axes>"
      ]
     },
     "metadata": {
      "needs_background": "light"
     },
     "output_type": "display_data"
    },
    {
     "data": {
      "image/png": "[encoded data removed]",
      "text/plain": [
       "<Figure size 432x288 with 1 Axes>"
      ]
     },
     "metadata": {
      "needs_background": "light"
     },
     "output_type": "display_data"
    }
   ],
   "source": [
    "# Plot the accuracy and loss\n",
    "acc = history.history['acc']\n",
    "val_acc = history.history['val_acc']\n",
    "loss = history.history['loss']\n",
    "val_loss = history.history['val_loss']\n",
    "\n",
    "plt.plot(acc, label = 'train')\n",
    "plt.plot(val_acc, label = 'validation')\n",
    "plt.title('Training and validation accuracy')\n",
    "plt.legend()\n",
    "\n",
    "plt.figure()\n",
    "\n",
    "plt.plot(loss, label = 'train')\n",
    "plt.plot(val_loss, label = 'validation')\n",
    "plt.title('Training and validation loss')\n",
    "plt.legend()\n",
    "\n",
    "plt.show()"
   ]
  }
 ],
 "metadata": {
  "kernelspec": {
   "display_name": "Python 3",
   "language": "python",
   "name": "python3"
  },
  "language_info": {
   "codemirror_mode": {
    "name": "ipython",
    "version": 3
   },
   "file_extension": ".py",
   "mimetype": "text/x-python",
   "name": "python",
   "nbconvert_exporter": "python",
   "pygments_lexer": "ipython3",
   "version": "3.6.8"
  }
 },
 "nbformat": 4,
 "nbformat_minor": 2
}
