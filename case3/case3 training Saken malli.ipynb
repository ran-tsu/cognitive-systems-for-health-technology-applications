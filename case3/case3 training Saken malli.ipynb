{
 "cells": [
  {
   "cell_type": "markdown",
   "metadata": {
    "_uuid": "85bf8fa8e2f29ecf3da543b19e786a7630942394"
   },
   "source": [
    "# Embedding, LSTM, GRU and Conv1D\n",
    "Cognitive Systems for Health Technology Applications<br>\n",
    "8.3.2019, Sakari Lukkarinen<br>\n",
    "[Helsinki Metropolia University of Applied Sciences](https://www.metropolia.fi/en)\n"
   ]
  },
  {
   "cell_type": "markdown",
   "metadata": {
    "_uuid": "8c6d04e7cf3a5898034495ad12bc0998f9126cf9"
   },
   "source": [
    "## Objectives\n",
    "The aim of this Notebook is to show how to use keras embedding layers together with LSTM, GRU and Conv1D layers to classify review converted to sequences. \n",
    "\n",
    "The examples are following the structure given in book: Chollet, Deep Learning with Python, Ch. 6. Deep learning for text and sequences. The examples are not optimized but the aim is to show how to configure the model architectures."
   ]
  },
  {
   "cell_type": "markdown",
   "metadata": {
    "_uuid": "17aa08923c774f2889c5d1b13513d039b4775092"
   },
   "source": [
    "## Data preparation"
   ]
  },
  {
   "cell_type": "code",
   "execution_count": 6,
   "metadata": {
    "_cell_guid": "b1076dfc-b9ad-4769-8c92-a6c4dae69d19",
    "_uuid": "8f2839f25d086af736a60e9eeb907d3b93b6e0e5"
   },
   "outputs": [
    {
     "name": "stdout",
     "output_type": "stream",
     "text": [
      "['drugsComTest_raw.csv', 'drugsComTrain_raw.csv']\n"
     ]
    }
   ],
   "source": [
    "# Read basic libraries\n",
    "import numpy as np # linear algebra\n",
    "import pandas as pd # data processing, CSV file I/O (e.g. pd.read_csv)\n",
    "\n",
    "import os\n",
    "print(os.listdir(\"../../case3_datas\"))\n"
   ]
  },
  {
   "cell_type": "code",
   "execution_count": 7,
   "metadata": {
    "_cell_guid": "79c7e3d0-c299-4dcb-8224-4455121ee9b0",
    "_uuid": "d629ff2d2480ee46fbb7e2d37f6b5fab8052498a"
   },
   "outputs": [
    {
     "name": "stdout",
     "output_type": "stream",
     "text": [
      "        uniqueID                            drugName  \\\n",
      "0         206461                           Valsartan   \n",
      "1          95260                          Guanfacine   \n",
      "2          92703                              Lybrel   \n",
      "3         138000                          Ortho Evra   \n",
      "4          35696            Buprenorphine / naloxone   \n",
      "5         155963                              Cialis   \n",
      "6         165907                      Levonorgestrel   \n",
      "7         102654                        Aripiprazole   \n",
      "8          74811                              Keppra   \n",
      "9          48928  Ethinyl estradiol / levonorgestrel   \n",
      "10         29607                          Topiramate   \n",
      "11         75612                      L-methylfolate   \n",
      "12        191290                             Pentasa   \n",
      "13        221320                    Dextromethorphan   \n",
      "14         98494                           Nexplanon   \n",
      "15         81890                         Liraglutide   \n",
      "16         48188                        Trimethoprim   \n",
      "17        219869                       Amitriptyline   \n",
      "18        212077                         Lamotrigine   \n",
      "19        119705                           Nilotinib   \n",
      "20         12372                             Atripla   \n",
      "21        231466                           Trazodone   \n",
      "22        227020                        Etonogestrel   \n",
      "23         41928                          Etanercept   \n",
      "24        213649                         Tioconazole   \n",
      "25         51215                        Azithromycin   \n",
      "26        206180                        Eflornithine   \n",
      "27         78563                            Daytrana   \n",
      "28        132258                              Ativan   \n",
      "29         27339                             Imitrex   \n",
      "...          ...                                 ...   \n",
      "161267    181920                             Inderal   \n",
      "161268     76151                              Portia   \n",
      "161269     73058   Ethinyl estradiol / norethindrone   \n",
      "161270    183202                            Cymbalta   \n",
      "161271    148859                              Mirena   \n",
      "161272     88991                           Singulair   \n",
      "161273    109111                           Nexplanon   \n",
      "161274    117030                         Synvisc-One   \n",
      "161275    161838                       Ciprofloxacin   \n",
      "161276    176146                           Lorazepam   \n",
      "161277     18421                            Zolpidem   \n",
      "161278     86533                            Invokana   \n",
      "161279     56907                 Roxicodone Intensol   \n",
      "161280    183962                         Hydroxyzine   \n",
      "161281     52489                      Armour Thyroid   \n",
      "161282    229036                           Tadalafil   \n",
      "161283    228492                              Geodon   \n",
      "161284    121154                         Venlafaxine   \n",
      "161285    200957                         Alcaftadine   \n",
      "161286     93069                        Vortioxetine   \n",
      "161287    132177                              Ativan   \n",
      "161288     45410                          Fluoxetine   \n",
      "161289    105263                       Carbamazepine   \n",
      "161290    103458                            Tekturna   \n",
      "161291    164345                      Junel 1.5 / 30   \n",
      "161292    191035                             Campral   \n",
      "161293    127085                      Metoclopramide   \n",
      "161294    187382                             Orencia   \n",
      "161295     47128                  Thyroid desiccated   \n",
      "161296    215220                        Lubiprostone   \n",
      "\n",
      "                           condition  \\\n",
      "0       Left Ventricular Dysfunction   \n",
      "1                               ADHD   \n",
      "2                      Birth Control   \n",
      "3                      Birth Control   \n",
      "4                  Opiate Dependence   \n",
      "5       Benign Prostatic Hyperplasia   \n",
      "6            Emergency Contraception   \n",
      "7                    Bipolar Disorde   \n",
      "8                           Epilepsy   \n",
      "9                      Birth Control   \n",
      "10               Migraine Prevention   \n",
      "11                        Depression   \n",
      "12                   Crohn's Disease   \n",
      "13                             Cough   \n",
      "14                     Birth Control   \n",
      "15                           Obesity   \n",
      "16           Urinary Tract Infection   \n",
      "17                       ibromyalgia   \n",
      "18                   Bipolar Disorde   \n",
      "19      Chronic Myelogenous Leukemia   \n",
      "20                     HIV Infection   \n",
      "21                          Insomnia   \n",
      "22                     Birth Control   \n",
      "23              Rheumatoid Arthritis   \n",
      "24           Vaginal Yeast Infection   \n",
      "25               Chlamydia Infection   \n",
      "26                         Hirsutism   \n",
      "27                              ADHD   \n",
      "28                     Panic Disorde   \n",
      "29                          Migraine   \n",
      "...                              ...   \n",
      "161267       Ventricular Tachycardia   \n",
      "161268                 Birth Control   \n",
      "161269                 Birth Control   \n",
      "161270                       Anxiety   \n",
      "161271                 Birth Control   \n",
      "161272                        Asthma   \n",
      "161273                 Birth Control   \n",
      "161274                Osteoarthritis   \n",
      "161275             Bladder Infection   \n",
      "161276                       Anxiety   \n",
      "161277                      Insomnia   \n",
      "161278              Diabetes, Type 2   \n",
      "161279                  Chronic Pain   \n",
      "161280                      Sedation   \n",
      "161281           Underactive Thyroid   \n",
      "161282          Erectile Dysfunction   \n",
      "161283               Bipolar Disorde   \n",
      "161284                 Panic Disorde   \n",
      "161285      Conjunctivitis, Allergic   \n",
      "161286                    Depression   \n",
      "161287                       Anxiety   \n",
      "161288  Obsessive Compulsive Disorde   \n",
      "161289          Trigeminal Neuralgia   \n",
      "161290           High Blood Pressure   \n",
      "161291                 Birth Control   \n",
      "161292            Alcohol Dependence   \n",
      "161293               Nausea/Vomiting   \n",
      "161294          Rheumatoid Arthritis   \n",
      "161295           Underactive Thyroid   \n",
      "161296         Constipation, Chronic   \n",
      "\n",
      "                                                   review  rating       date  \\\n",
      "0       \"It has no side effect, I take it in combinati...       9  20-May-12   \n",
      "1       \"My son is halfway through his fourth week of ...       8  27-Apr-10   \n",
      "2       \"I used to take another oral contraceptive, wh...       5  14-Dec-09   \n",
      "3       \"This is my first time using any form of birth...       8   3-Nov-15   \n",
      "4       \"Suboxone has completely turned my life around...       9  27-Nov-16   \n",
      "5       \"2nd day on 5mg started to work with rock hard...       2  28-Nov-15   \n",
      "6       \"He pulled out, but he cummed a bit in me. I t...       1   7-Mar-17   \n",
      "7       \"Abilify changed my life. There is hope. I was...      10  14-Mar-15   \n",
      "8       \" I Ve had  nothing but problems with the Kepp...       1   9-Aug-16   \n",
      "9       \"I had been on the pill for many years. When m...       8   8-Dec-16   \n",
      "10      \"I have been on this medication almost two wee...       9   1-Jan-15   \n",
      "11      \"I have taken anti-depressants for years, with...      10   9-Mar-17   \n",
      "12      \"I had Crohn&#039;s with a resection 30 years ...       4   6-Jul-13   \n",
      "13      \"Have a little bit of a lingering cough from a...       4   7-Sep-17   \n",
      "14      \"Started Nexplanon 2 months ago because I have...       3   7-Aug-14   \n",
      "15      \"I have been taking Saxenda since July 2016.  ...       9  19-Jan-17   \n",
      "16      \"This drug worked very well for me and cleared...       9  22-Sep-17   \n",
      "17      \"I&#039;ve been taking amitriptyline since Jan...       9  15-Mar-17   \n",
      "18      \"I&#039;ve been on every medicine under the su...      10   9-Nov-14   \n",
      "19      \"I have been on Tasigna for just over 3 years ...      10   1-Sep-15   \n",
      "20      \"Spring of 2008 I was hospitalized with pnuemo...       8   9-Jul-10   \n",
      "21      \"I have insomnia, it&#039;s horrible. My story...      10   3-Apr-16   \n",
      "22      \"Nexplanon does its job. I can have worry free...       9  11-Aug-14   \n",
      "23      \"I live in Western Australia and disturbed by ...      10  16-Sep-17   \n",
      "24      \"Do not use the cream that comes with this. It...       1  17-Apr-17   \n",
      "25      \"Was prescribed one dose over the course of on...       7  14-Dec-15   \n",
      "26      \"I&#039;m writing a second review on Vaniqa.  ...      10  11-May-14   \n",
      "27      \"Hi all, My son who is 12 was diagnosed when h...      10  12-Jan-17   \n",
      "28      \"Honestly, I have been taking ativan for 2 yea...       6   1-Jun-15   \n",
      "29      \"At first I suffered through them. This includ...       8  16-Oct-12   \n",
      "...                                                   ...     ...        ...   \n",
      "161267  \"Doc prescribed this medication to control my ...       3  23-Jan-14   \n",
      "161268  \"I switched to Portia 12 days ago when I start...       1  28-Jan-14   \n",
      "161269  \"When I first starting taking Lo Loestrin Fe, ...      10  20-Apr-15   \n",
      "161270  \"I have been taking Cymbalta for 15 months now...       9  10-Jun-13   \n",
      "161271  \"My experience: Painful insertion but I expect...      10  26-Jan-16   \n",
      "161272  \"This really did help with my allergies and as...       5  21-Sep-12   \n",
      "161273  \"I have had the Nexplanon since Dec. 27, 2016 ...       6   6-Apr-17   \n",
      "161274  \"I need bi-lateral knee replacement but due to...       2  27-Apr-17   \n",
      "161275  \"POISON....two days on this med &amp; I though...       1  28-Nov-17   \n",
      "161276  \"About 4 years ago I started having early-morn...       8  21-Nov-17   \n",
      "161277  \"I started taking this medication 10 years ago...      10  16-Nov-08   \n",
      "161278  \"I just got diagnosed with type 2. My doctor p...       9  23-Oct-15   \n",
      "161279  \"Used with my throat cancer and it helped numb...      10  16-Aug-16   \n",
      "161280  \"Honestly , This works pretty well for me. It ...      10  13-Sep-17   \n",
      "161281  \"Had taken Armour Thyroid for 20 years but sta...       1  31-Jan-16   \n",
      "161282  \"I&#039;m a 59 year old male who has experienc...       9  22-Nov-14   \n",
      "161283  \"I was in a very bad place at the time I start...       3  25-Jul-16   \n",
      "161284  \"Had panic attacks and social anxiety starting...       9  10-Nov-16   \n",
      "161285  \"Used this a month ago for allergic conjunctiv...       1  21-Sep-14   \n",
      "161286  \"This is the third med I&#039;ve tried for anx...       2  17-Jul-16   \n",
      "161287  \"I was super against taking medication. I&#039...       9  16-Aug-16   \n",
      "161288  \"I have been off Prozac for about 4 weeks now....       8  21-Jan-15   \n",
      "161289  \"Up to 800mg seems to work about once every 2n...       1  31-Jan-16   \n",
      "161290  \"I have only been on Tekturna for 9 days. The ...       7   7-Feb-10   \n",
      "161291  \"This would be my second month on Junel. I&#03...       6  27-May-15   \n",
      "161292  \"I wrote my first report in Mid-October of 201...      10  31-May-15   \n",
      "161293  \"I was given this in IV before surgey. I immed...       1   1-Nov-11   \n",
      "161294  \"Limited improvement after 4 months, developed...       2  15-Mar-14   \n",
      "161295  \"I&#039;ve been on thyroid medication 49 years...      10  19-Sep-15   \n",
      "161296  \"I&#039;ve had chronic constipation all my adu...       9  13-Dec-14   \n",
      "\n",
      "        usefulCount  \n",
      "0                27  \n",
      "1               192  \n",
      "2                17  \n",
      "3                10  \n",
      "4                37  \n",
      "5                43  \n",
      "6                 5  \n",
      "7                32  \n",
      "8                11  \n",
      "9                 1  \n",
      "10               19  \n",
      "11               54  \n",
      "12                8  \n",
      "13                1  \n",
      "14               10  \n",
      "15               20  \n",
      "16                0  \n",
      "17               39  \n",
      "18               18  \n",
      "19               11  \n",
      "20               11  \n",
      "21               43  \n",
      "22               11  \n",
      "23                4  \n",
      "24                7  \n",
      "25                7  \n",
      "26               99  \n",
      "27               11  \n",
      "28               47  \n",
      "29                6  \n",
      "...             ...  \n",
      "161267            6  \n",
      "161268            9  \n",
      "161269           13  \n",
      "161270           89  \n",
      "161271            4  \n",
      "161272           36  \n",
      "161273            0  \n",
      "161274           11  \n",
      "161275            1  \n",
      "161276            0  \n",
      "161277          103  \n",
      "161278           47  \n",
      "161279           22  \n",
      "161280            8  \n",
      "161281           87  \n",
      "161282           36  \n",
      "161283            5  \n",
      "161284           25  \n",
      "161285           12  \n",
      "161286           33  \n",
      "161287           61  \n",
      "161288           22  \n",
      "161289           10  \n",
      "161290           18  \n",
      "161291            0  \n",
      "161292          125  \n",
      "161293           34  \n",
      "161294           35  \n",
      "161295           79  \n",
      "161296          116  \n",
      "\n",
      "[161297 rows x 7 columns]\n"
     ]
    }
   ],
   "source": [
    "# Read the training data\n",
    "# Create dataframes train and test\n",
    "test = pd.read_csv(r\"../../case3_datas/drugsComTest_raw.csv\")\n",
    "train = pd.read_csv(r\"../../case3_datas/drugsComTrain_raw.csv\")\n",
    "print(train)"
   ]
  },
  {
   "cell_type": "code",
   "execution_count": 8,
   "metadata": {
    "_uuid": "050c2794ae8b5dfd5681f5a1b1065fe6030b1ab6"
   },
   "outputs": [
    {
     "data": {
      "text/html": [
       "<div>\n",
       "<style scoped>\n",
       "    .dataframe tbody tr th:only-of-type {\n",
       "        vertical-align: middle;\n",
       "    }\n",
       "\n",
       "    .dataframe tbody tr th {\n",
       "        vertical-align: top;\n",
       "    }\n",
       "\n",
       "    .dataframe thead th {\n",
       "        text-align: right;\n",
       "    }\n",
       "</style>\n",
       "<table border=\"1\" class=\"dataframe\">\n",
       "  <thead>\n",
       "    <tr style=\"text-align: right;\">\n",
       "      <th></th>\n",
       "      <th>uniqueID</th>\n",
       "      <th>drugName</th>\n",
       "      <th>condition</th>\n",
       "      <th>review</th>\n",
       "      <th>rating</th>\n",
       "      <th>date</th>\n",
       "      <th>usefulCount</th>\n",
       "    </tr>\n",
       "  </thead>\n",
       "  <tbody>\n",
       "    <tr>\n",
       "      <th>0</th>\n",
       "      <td>206461</td>\n",
       "      <td>Valsartan</td>\n",
       "      <td>Left Ventricular Dysfunction</td>\n",
       "      <td>\"It has no side effect, I take it in combinati...</td>\n",
       "      <td>9</td>\n",
       "      <td>20-May-12</td>\n",
       "      <td>27</td>\n",
       "    </tr>\n",
       "    <tr>\n",
       "      <th>1</th>\n",
       "      <td>95260</td>\n",
       "      <td>Guanfacine</td>\n",
       "      <td>ADHD</td>\n",
       "      <td>\"My son is halfway through his fourth week of ...</td>\n",
       "      <td>8</td>\n",
       "      <td>27-Apr-10</td>\n",
       "      <td>192</td>\n",
       "    </tr>\n",
       "    <tr>\n",
       "      <th>2</th>\n",
       "      <td>92703</td>\n",
       "      <td>Lybrel</td>\n",
       "      <td>Birth Control</td>\n",
       "      <td>\"I used to take another oral contraceptive, wh...</td>\n",
       "      <td>5</td>\n",
       "      <td>14-Dec-09</td>\n",
       "      <td>17</td>\n",
       "    </tr>\n",
       "    <tr>\n",
       "      <th>3</th>\n",
       "      <td>138000</td>\n",
       "      <td>Ortho Evra</td>\n",
       "      <td>Birth Control</td>\n",
       "      <td>\"This is my first time using any form of birth...</td>\n",
       "      <td>8</td>\n",
       "      <td>3-Nov-15</td>\n",
       "      <td>10</td>\n",
       "    </tr>\n",
       "    <tr>\n",
       "      <th>4</th>\n",
       "      <td>35696</td>\n",
       "      <td>Buprenorphine / naloxone</td>\n",
       "      <td>Opiate Dependence</td>\n",
       "      <td>\"Suboxone has completely turned my life around...</td>\n",
       "      <td>9</td>\n",
       "      <td>27-Nov-16</td>\n",
       "      <td>37</td>\n",
       "    </tr>\n",
       "  </tbody>\n",
       "</table>\n",
       "</div>"
      ],
      "text/plain": [
       "   uniqueID                  drugName                     condition  \\\n",
       "0    206461                 Valsartan  Left Ventricular Dysfunction   \n",
       "1     95260                Guanfacine                          ADHD   \n",
       "2     92703                    Lybrel                 Birth Control   \n",
       "3    138000                Ortho Evra                 Birth Control   \n",
       "4     35696  Buprenorphine / naloxone             Opiate Dependence   \n",
       "\n",
       "                                              review  rating       date  \\\n",
       "0  \"It has no side effect, I take it in combinati...       9  20-May-12   \n",
       "1  \"My son is halfway through his fourth week of ...       8  27-Apr-10   \n",
       "2  \"I used to take another oral contraceptive, wh...       5  14-Dec-09   \n",
       "3  \"This is my first time using any form of birth...       8   3-Nov-15   \n",
       "4  \"Suboxone has completely turned my life around...       9  27-Nov-16   \n",
       "\n",
       "   usefulCount  \n",
       "0           27  \n",
       "1          192  \n",
       "2           17  \n",
       "3           10  \n",
       "4           37  "
      ]
     },
     "execution_count": 8,
     "metadata": {},
     "output_type": "execute_result"
    }
   ],
   "source": [
    "# Show the head of the data\n",
    "train.head()"
   ]
  },
  {
   "cell_type": "code",
   "execution_count": 9,
   "metadata": {
    "_uuid": "6ecca1635d9a83ca4326b3b9c3379a0348583ff5"
   },
   "outputs": [
    {
     "data": {
      "text/html": [
       "<div>\n",
       "<style scoped>\n",
       "    .dataframe tbody tr th:only-of-type {\n",
       "        vertical-align: middle;\n",
       "    }\n",
       "\n",
       "    .dataframe tbody tr th {\n",
       "        vertical-align: top;\n",
       "    }\n",
       "\n",
       "    .dataframe thead th {\n",
       "        text-align: right;\n",
       "    }\n",
       "</style>\n",
       "<table border=\"1\" class=\"dataframe\">\n",
       "  <thead>\n",
       "    <tr style=\"text-align: right;\">\n",
       "      <th></th>\n",
       "      <th>uniqueID</th>\n",
       "      <th>drugName</th>\n",
       "      <th>condition</th>\n",
       "      <th>review</th>\n",
       "      <th>rating</th>\n",
       "      <th>date</th>\n",
       "      <th>usefulCount</th>\n",
       "      <th>label</th>\n",
       "    </tr>\n",
       "  </thead>\n",
       "  <tbody>\n",
       "    <tr>\n",
       "      <th>0</th>\n",
       "      <td>206461</td>\n",
       "      <td>Valsartan</td>\n",
       "      <td>Left Ventricular Dysfunction</td>\n",
       "      <td>\"It has no side effect, I take it in combinati...</td>\n",
       "      <td>9</td>\n",
       "      <td>20-May-12</td>\n",
       "      <td>27</td>\n",
       "      <td>1</td>\n",
       "    </tr>\n",
       "    <tr>\n",
       "      <th>1</th>\n",
       "      <td>95260</td>\n",
       "      <td>Guanfacine</td>\n",
       "      <td>ADHD</td>\n",
       "      <td>\"My son is halfway through his fourth week of ...</td>\n",
       "      <td>8</td>\n",
       "      <td>27-Apr-10</td>\n",
       "      <td>192</td>\n",
       "      <td>1</td>\n",
       "    </tr>\n",
       "    <tr>\n",
       "      <th>2</th>\n",
       "      <td>92703</td>\n",
       "      <td>Lybrel</td>\n",
       "      <td>Birth Control</td>\n",
       "      <td>\"I used to take another oral contraceptive, wh...</td>\n",
       "      <td>5</td>\n",
       "      <td>14-Dec-09</td>\n",
       "      <td>17</td>\n",
       "      <td>0</td>\n",
       "    </tr>\n",
       "    <tr>\n",
       "      <th>3</th>\n",
       "      <td>138000</td>\n",
       "      <td>Ortho Evra</td>\n",
       "      <td>Birth Control</td>\n",
       "      <td>\"This is my first time using any form of birth...</td>\n",
       "      <td>8</td>\n",
       "      <td>3-Nov-15</td>\n",
       "      <td>10</td>\n",
       "      <td>1</td>\n",
       "    </tr>\n",
       "    <tr>\n",
       "      <th>4</th>\n",
       "      <td>35696</td>\n",
       "      <td>Buprenorphine / naloxone</td>\n",
       "      <td>Opiate Dependence</td>\n",
       "      <td>\"Suboxone has completely turned my life around...</td>\n",
       "      <td>9</td>\n",
       "      <td>27-Nov-16</td>\n",
       "      <td>37</td>\n",
       "      <td>1</td>\n",
       "    </tr>\n",
       "  </tbody>\n",
       "</table>\n",
       "</div>"
      ],
      "text/plain": [
       "   uniqueID                  drugName                     condition  \\\n",
       "0    206461                 Valsartan  Left Ventricular Dysfunction   \n",
       "1     95260                Guanfacine                          ADHD   \n",
       "2     92703                    Lybrel                 Birth Control   \n",
       "3    138000                Ortho Evra                 Birth Control   \n",
       "4     35696  Buprenorphine / naloxone             Opiate Dependence   \n",
       "\n",
       "                                              review  rating       date  \\\n",
       "0  \"It has no side effect, I take it in combinati...       9  20-May-12   \n",
       "1  \"My son is halfway through his fourth week of ...       8  27-Apr-10   \n",
       "2  \"I used to take another oral contraceptive, wh...       5  14-Dec-09   \n",
       "3  \"This is my first time using any form of birth...       8   3-Nov-15   \n",
       "4  \"Suboxone has completely turned my life around...       9  27-Nov-16   \n",
       "\n",
       "   usefulCount  label  \n",
       "0           27      1  \n",
       "1          192      1  \n",
       "2           17      0  \n",
       "3           10      1  \n",
       "4           37      1  "
      ]
     },
     "execution_count": 9,
     "metadata": {},
     "output_type": "execute_result"
    }
   ],
   "source": [
    "# Create labels based on the original article: Grässer et al. (2018)\n",
    "r = train['rating']\n",
    "labels = -1*(r <= 4) + 1*(r >= 7)\n",
    "# Add the label column to the data\n",
    "train['label'] = labels\n",
    "# Check the new data\n",
    "train.head()"
   ]
  },
  {
   "cell_type": "code",
   "execution_count": 10,
   "metadata": {
    "_uuid": "08887088ea8beaea4812d955eb8653edf98a81b4"
   },
   "outputs": [
    {
     "data": {
      "text/plain": [
       "<Figure size 640x480 with 1 Axes>"
      ]
     },
     "metadata": {},
     "output_type": "display_data"
    }
   ],
   "source": [
    "# Check ratings to labels conversion\n",
    "import matplotlib.pyplot as plt\n",
    "train.plot(x = 'rating', y = 'label', kind = 'scatter')\n",
    "plt.show()"
   ]
  },
  {
   "cell_type": "code",
   "execution_count": 11,
   "metadata": {
    "_uuid": "ee8fa421a95d20bd1152d502def2e19e4c4b9aa3",
    "scrolled": true
   },
   "outputs": [
    {
     "data": {
      "image/png": "[encoded data removed]",
      "text/plain": [
       "<Figure size 432x288 with 1 Axes>"
      ]
     },
     "metadata": {
      "needs_background": "light"
     },
     "output_type": "display_data"
    }
   ],
   "source": [
    "# Plot distribution of labels\n",
    "train.hist(column = 'label', bins = np.arange(-1, 3), align = 'left');"
   ]
  },
  {
   "cell_type": "markdown",
   "metadata": {
    "_uuid": "014e7f9b3b38675b5b1650efcc47783a48d5e4cc"
   },
   "source": [
    "## Convert reviews to padded sequences"
   ]
  },
  {
   "cell_type": "code",
   "execution_count": 12,
   "metadata": {
    "_uuid": "bf235584908d4780353d5a0e38aea9ad762bea13"
   },
   "outputs": [
    {
     "name": "stderr",
     "output_type": "stream",
     "text": [
      "Using TensorFlow backend.\n"
     ]
    }
   ],
   "source": [
    "from keras.preprocessing.text import Tokenizer\n",
    "from keras.preprocessing.sequence import pad_sequences\n",
    "\n",
    "# Read a part of the reviews and create training sequences (x_train)\n",
    "samples = train['review'].iloc[:10000]\n",
    "tokenizer = Tokenizer(num_words = 1000)\n",
    "tokenizer.fit_on_texts(samples)\n",
    "sequences = tokenizer.texts_to_sequences(samples)\n",
    "x_train = pad_sequences(sequences, maxlen = 500)"
   ]
  },
  {
   "cell_type": "markdown",
   "metadata": {
    "_uuid": "a3655c5bcf9b628e910e8b53b60442a5fee434d7"
   },
   "source": [
    "## Convert labels to one-hot-categories"
   ]
  },
  {
   "cell_type": "code",
   "execution_count": 13,
   "metadata": {
    "_uuid": "fd37022564b9ff9451eecb4ec77e5abd9c4dccb2"
   },
   "outputs": [],
   "source": [
    "from keras.utils import to_categorical\n",
    "\n",
    "# Convert the labels to one_hot_category values\n",
    "one_hot_labels = to_categorical(labels[:10000], num_classes = 3)"
   ]
  },
  {
   "cell_type": "markdown",
   "metadata": {
    "_uuid": "facfbe1750aaec9b9070c3a739cfe05f67b22107"
   },
   "source": [
    "## Check the shapes"
   ]
  },
  {
   "cell_type": "code",
   "execution_count": 14,
   "metadata": {
    "_uuid": "6cb91db2fa7dceecc529ca45181de05744edd1b0"
   },
   "outputs": [
    {
     "data": {
      "text/plain": [
       "((10000, 500), (10000, 3))"
      ]
     },
     "execution_count": 14,
     "metadata": {},
     "output_type": "execute_result"
    }
   ],
   "source": [
    "# Check the training and label sets\n",
    "x_train.shape, one_hot_labels.shape"
   ]
  },
  {
   "cell_type": "markdown",
   "metadata": {
    "_uuid": "a7ac19ee7633c470bfc819485e7682928962a84e"
   },
   "source": [
    "## Helper functions"
   ]
  },
  {
   "cell_type": "code",
   "execution_count": 15,
   "metadata": {
    "_uuid": "58791e3a5432a37411ccdc5ba7f2c3f1399ded87"
   },
   "outputs": [],
   "source": [
    "# We use the same plotting commands several times, so create a function for that purpose\n",
    "def plot_history(history):\n",
    "    \n",
    "    f, ax = plt.subplots(1, 2, figsize = (16, 7))\n",
    "    \n",
    "    acc = history.history['acc']\n",
    "    val_acc = history.history['val_acc']\n",
    "    loss = history.history['loss']\n",
    "    val_loss = history.history['val_loss']\n",
    "\n",
    "    epochs = range(1, len(acc) + 1)\n",
    "\n",
    "    plt.sca(ax[0])\n",
    "    plt.plot(epochs, acc, 'bo', label='Training acc')\n",
    "    plt.plot(epochs, val_acc, 'b', label='Validation acc')\n",
    "    plt.title('Training and validation accuracy')\n",
    "    plt.legend()\n",
    "\n",
    "    plt.sca(ax[1])\n",
    "    plt.plot(epochs, loss, 'bo', label='Training loss')\n",
    "    plt.plot(epochs, val_loss, 'b', label='Validation loss')\n",
    "    plt.title('Training and validation loss')\n",
    "    plt.legend()\n",
    "\n",
    "    plt.show()"
   ]
  },
  {
   "cell_type": "code",
   "execution_count": 16,
   "metadata": {
    "_uuid": "3e77a92f163b6a5fd7d40a9d644916b1a654b9dd"
   },
   "outputs": [],
   "source": [
    "# Similarly create a function for model training, for demonstration purposes we use constant values\n",
    "def train_model(model, x, y, e = 10, bs = 32, v = 1, vs = 0.25):\n",
    "    h = model.fit(x, y, epochs = e, batch_size = bs, verbose = v, validation_split = vs)\n",
    "    return h"
   ]
  },
  {
   "cell_type": "markdown",
   "metadata": {
    "_uuid": "9a12a60f1f4e2f3fe3b6c0240744b20d3190b729"
   },
   "source": [
    "## Example 1 - Embedding and Flatten"
   ]
  },
  {
   "cell_type": "code",
   "execution_count": 17,
   "metadata": {
    "_uuid": "043aec47574c1e62321af572b71f163a3afd795c"
   },
   "outputs": [
    {
     "name": "stdout",
     "output_type": "stream",
     "text": [
      "_________________________________________________________________\n",
      "Layer (type)                 Output Shape              Param #   \n",
      "=================================================================\n",
      "embedding_1 (Embedding)      (None, 500, 64)           64000     \n",
      "_________________________________________________________________\n",
      "flatten_1 (Flatten)          (None, 32000)             0         \n",
      "_________________________________________________________________\n",
      "dense_1 (Dense)              (None, 32)                1024032   \n",
      "_________________________________________________________________\n",
      "dense_2 (Dense)              (None, 3)                 99        \n",
      "=================================================================\n",
      "Total params: 1,088,131\n",
      "Trainable params: 1,088,131\n",
      "Non-trainable params: 0\n",
      "_________________________________________________________________\n"
     ]
    }
   ],
   "source": [
    "from keras.models import Sequential\n",
    "from keras.layers import Embedding, Flatten, Dense\n",
    "\n",
    "# First model: Embedding layer -> Flatten -> Dense classifier\n",
    "m0 = Sequential()\n",
    "m0.add(Embedding(1000, 64, input_length = 500)) # 1000 = num_words, 64 = Embedding layers, 500 = sequence length\n",
    "m0.add(Flatten())\n",
    "m0.add(Dense(32, activation = 'relu'))\n",
    "m0.add(Dense(3, activation = 'softmax'))\n",
    "m0.compile(optimizer = 'rmsprop', loss = 'categorical_crossentropy', metrics = ['acc'])\n",
    "m0.summary()"
   ]
  },
  {
   "cell_type": "code",
   "execution_count": 18,
   "metadata": {
    "_uuid": "db91fa575c01c026ca1547237960fa1125fa3d95"
   },
   "outputs": [
    {
     "name": "stdout",
     "output_type": "stream",
     "text": [
      "Train on 7500 samples, validate on 2500 samples\n",
      "Epoch 1/10\n",
      "7500/7500 [==============================] - 4s 520us/step - loss: 0.8208 - acc: 0.6704 - val_loss: 0.7371 - val_acc: 0.7296\n",
      "Epoch 2/10\n",
      "7500/7500 [==============================] - 4s 476us/step - loss: 0.5695 - acc: 0.7893 - val_loss: 0.6855 - val_acc: 0.7340\n",
      "Epoch 3/10\n",
      "7500/7500 [==============================] - 4s 490us/step - loss: 0.3804 - acc: 0.8624 - val_loss: 0.7585 - val_acc: 0.7156\n",
      "Epoch 4/10\n",
      "7500/7500 [==============================] - 4s 472us/step - loss: 0.2043 - acc: 0.9345 - val_loss: 0.9229 - val_acc: 0.7112\n",
      "Epoch 5/10\n",
      "7500/7500 [==============================] - 4s 472us/step - loss: 0.0959 - acc: 0.9709 - val_loss: 1.1478 - val_acc: 0.6552\n",
      "Epoch 6/10\n",
      "7500/7500 [==============================] - 4s 474us/step - loss: 0.0436 - acc: 0.9868 - val_loss: 1.4717 - val_acc: 0.6968\n",
      "Epoch 7/10\n",
      "7500/7500 [==============================] - 4s 467us/step - loss: 0.0223 - acc: 0.9937 - val_loss: 1.7233 - val_acc: 0.6968\n",
      "Epoch 8/10\n",
      "7500/7500 [==============================] - 3s 464us/step - loss: 0.0137 - acc: 0.9960 - val_loss: 1.9546 - val_acc: 0.6904\n",
      "Epoch 9/10\n",
      "7500/7500 [==============================] - 3s 462us/step - loss: 0.0106 - acc: 0.9960 - val_loss: 2.1597 - val_acc: 0.6916\n",
      "Epoch 10/10\n",
      "7500/7500 [==============================] - 3s 461us/step - loss: 0.0080 - acc: 0.9971 - val_loss: 2.3524 - val_acc: 0.6884\n"
     ]
    },
    {
     "data": {
      "image/png": "[encoded data removed]",
      "text/plain": [
       "<Figure size 1152x504 with 2 Axes>"
      ]
     },
     "metadata": {
      "needs_background": "light"
     },
     "output_type": "display_data"
    }
   ],
   "source": [
    "# Train the first model and plot the history\n",
    "h0 = train_model(m0, x_train, one_hot_labels)\n",
    "plot_history(h0)"
   ]
  },
  {
   "cell_type": "markdown",
   "metadata": {
    "_uuid": "9760b3aec43f9d7bf5098de84e28447ae075b2ad"
   },
   "source": [
    "## Example 2 - Embedding and LSTM"
   ]
  },
  {
   "cell_type": "code",
   "execution_count": 19,
   "metadata": {
    "_uuid": "022b008841eeb66c5ebff660a66a4927a8631e92"
   },
   "outputs": [
    {
     "name": "stdout",
     "output_type": "stream",
     "text": [
      "_________________________________________________________________\n",
      "Layer (type)                 Output Shape              Param #   \n",
      "=================================================================\n",
      "embedding_2 (Embedding)      (None, 500, 8)            8000      \n",
      "_________________________________________________________________\n",
      "lstm_1 (LSTM)                (None, 8)                 544       \n",
      "_________________________________________________________________\n",
      "dense_3 (Dense)              (None, 3)                 27        \n",
      "=================================================================\n",
      "Total params: 8,571\n",
      "Trainable params: 8,571\n",
      "Non-trainable params: 0\n",
      "_________________________________________________________________\n"
     ]
    }
   ],
   "source": [
    "from keras.layers import LSTM\n",
    "\n",
    "# Second model: Embedding -> LSTM -> Dense classifier\n",
    "m1 = Sequential()\n",
    "m1.add(Embedding(1000, 8, input_length = 500))\n",
    "m1.add(LSTM(8))\n",
    "m1.add(Dense(3, activation = 'softmax'))\n",
    "m1.compile(optimizer = 'rmsprop', loss = 'categorical_crossentropy', metrics = ['acc'])\n",
    "m1.summary()"
   ]
  },
  {
   "cell_type": "code",
   "execution_count": 20,
   "metadata": {
    "_uuid": "23623f0a6ca21c77e276cabc970db2cce2fd2e60"
   },
   "outputs": [
    {
     "name": "stdout",
     "output_type": "stream",
     "text": [
      "Train on 7500 samples, validate on 2500 samples\n",
      "Epoch 1/10\n",
      "7500/7500 [==============================] - 29s 4ms/step - loss: 0.8397 - acc: 0.6589 - val_loss: 0.8246 - val_acc: 0.6560\n",
      "Epoch 2/10\n",
      "7500/7500 [==============================] - 29s 4ms/step - loss: 0.7333 - acc: 0.6891 - val_loss: 0.7202 - val_acc: 0.6976\n",
      "Epoch 3/10\n",
      "7500/7500 [==============================] - 30s 4ms/step - loss: 0.6829 - acc: 0.7336 - val_loss: 0.7077 - val_acc: 0.7260\n",
      "Epoch 4/10\n",
      "7500/7500 [==============================] - 48s 6ms/step - loss: 0.6502 - acc: 0.7561 - val_loss: 0.6837 - val_acc: 0.7400\n",
      "Epoch 5/10\n",
      "7500/7500 [==============================] - 28s 4ms/step - loss: 0.6268 - acc: 0.7655 - val_loss: 0.6713 - val_acc: 0.7412\n",
      "Epoch 6/10\n",
      "7500/7500 [==============================] - 28s 4ms/step - loss: 0.6130 - acc: 0.7703 - val_loss: 0.6961 - val_acc: 0.7396\n",
      "Epoch 7/10\n",
      "7500/7500 [==============================] - 28s 4ms/step - loss: 0.6022 - acc: 0.7764 - val_loss: 0.6897 - val_acc: 0.7224\n",
      "Epoch 8/10\n",
      "7500/7500 [==============================] - 31s 4ms/step - loss: 0.5917 - acc: 0.7803 - val_loss: 0.7136 - val_acc: 0.7288\n",
      "Epoch 9/10\n",
      "7500/7500 [==============================] - 33s 4ms/step - loss: 0.5830 - acc: 0.7839 - val_loss: 0.6778 - val_acc: 0.7376\n",
      "Epoch 10/10\n",
      "7500/7500 [==============================] - 28s 4ms/step - loss: 0.5766 - acc: 0.7900 - val_loss: 0.6847 - val_acc: 0.7392\n"
     ]
    },
    {
     "data": {
      "image/png": "[encoded data removed]",
      "text/plain": [
       "<Figure size 1152x504 with 2 Axes>"
      ]
     },
     "metadata": {
      "needs_background": "light"
     },
     "output_type": "display_data"
    }
   ],
   "source": [
    "# Train the second model and plot the history\n",
    "h1 = train_model(m1, x_train, one_hot_labels)\n",
    "plot_history(h1)"
   ]
  },
  {
   "cell_type": "markdown",
   "metadata": {
    "_uuid": "7a14dfc3b4d51622ab642bd42cd82993ddef99ec"
   },
   "source": [
    "## Example 3 - Embedding and GRU"
   ]
  },
  {
   "cell_type": "code",
   "execution_count": 21,
   "metadata": {
    "_uuid": "fbd7b74a465cbe61396b2fb26d35dbd7b9f6ba29"
   },
   "outputs": [
    {
     "name": "stdout",
     "output_type": "stream",
     "text": [
      "_________________________________________________________________\n",
      "Layer (type)                 Output Shape              Param #   \n",
      "=================================================================\n",
      "embedding_3 (Embedding)      (None, 500, 8)            8000      \n",
      "_________________________________________________________________\n",
      "gru_1 (GRU)                  (None, 8)                 408       \n",
      "_________________________________________________________________\n",
      "dense_4 (Dense)              (None, 3)                 27        \n",
      "=================================================================\n",
      "Total params: 8,435\n",
      "Trainable params: 8,435\n",
      "Non-trainable params: 0\n",
      "_________________________________________________________________\n"
     ]
    }
   ],
   "source": [
    "from keras.layers import GRU\n",
    "\n",
    "# Third model: Embedding -> GRU -> Dense classifier\n",
    "m2 = Sequential()\n",
    "m2.add(Embedding(1000, 8, input_length = 500))\n",
    "m2.add(GRU(8))\n",
    "m2.add(Dense(3, activation = 'softmax'))\n",
    "m2.compile(optimizer = 'rmsprop', loss = 'categorical_crossentropy', metrics = ['acc'])\n",
    "m2.summary()"
   ]
  },
  {
   "cell_type": "code",
   "execution_count": 22,
   "metadata": {
    "_uuid": "b0c5de8317446d5ff6218a054f6c92e6f65c60df"
   },
   "outputs": [
    {
     "name": "stdout",
     "output_type": "stream",
     "text": [
      "Train on 7500 samples, validate on 2500 samples\n",
      "Epoch 1/10\n",
      "7500/7500 [==============================] - 22s 3ms/step - loss: 0.9091 - acc: 0.6561 - val_loss: 0.8372 - val_acc: 0.6560\n",
      "Epoch 2/10\n",
      "7500/7500 [==============================] - 22s 3ms/step - loss: 0.8162 - acc: 0.6588 - val_loss: 0.8153 - val_acc: 0.6560\n",
      "Epoch 3/10\n",
      "7500/7500 [==============================] - 22s 3ms/step - loss: 0.7733 - acc: 0.6661 - val_loss: 0.7807 - val_acc: 0.6632\n",
      "Epoch 4/10\n",
      "7500/7500 [==============================] - 22s 3ms/step - loss: 0.7132 - acc: 0.7056 - val_loss: 0.7421 - val_acc: 0.6960\n",
      "Epoch 5/10\n",
      "7500/7500 [==============================] - 22s 3ms/step - loss: 0.6676 - acc: 0.7369 - val_loss: 0.7070 - val_acc: 0.7168\n",
      "Epoch 6/10\n",
      "7500/7500 [==============================] - 36s 5ms/step - loss: 0.6427 - acc: 0.7532 - val_loss: 0.6976 - val_acc: 0.7228\n",
      "Epoch 7/10\n",
      "7500/7500 [==============================] - 27s 4ms/step - loss: 0.6279 - acc: 0.7620 - val_loss: 0.6896 - val_acc: 0.7272\n",
      "Epoch 8/10\n",
      "7500/7500 [==============================] - 21s 3ms/step - loss: 0.6149 - acc: 0.7651 - val_loss: 0.6884 - val_acc: 0.7288\n",
      "Epoch 9/10\n",
      "7500/7500 [==============================] - 21s 3ms/step - loss: 0.6031 - acc: 0.7725 - val_loss: 0.6900 - val_acc: 0.7292\n",
      "Epoch 10/10\n",
      "7500/7500 [==============================] - 21s 3ms/step - loss: 0.5915 - acc: 0.7764 - val_loss: 0.6856 - val_acc: 0.7296\n"
     ]
    },
    {
     "data": {
      "image/png": "[encoded data removed]",
      "text/plain": [
       "<Figure size 1152x504 with 2 Axes>"
      ]
     },
     "metadata": {
      "needs_background": "light"
     },
     "output_type": "display_data"
    }
   ],
   "source": [
    "# Train the third model and plot the history\n",
    "h2 = train_model(m2, x_train, one_hot_labels)\n",
    "plot_history(h2)"
   ]
  },
  {
   "cell_type": "markdown",
   "metadata": {
    "_uuid": "a3d93a40ddba585b7ffd09caf5f3bc1f0a27302e"
   },
   "source": [
    "## Example 4 - Embedding and GRU with dropout"
   ]
  },
  {
   "cell_type": "code",
   "execution_count": 23,
   "metadata": {
    "_uuid": "c57c1eb129e09afe3f67b7ffa2fcfcfa1da0358e"
   },
   "outputs": [
    {
     "name": "stdout",
     "output_type": "stream",
     "text": [
      "_________________________________________________________________\n",
      "Layer (type)                 Output Shape              Param #   \n",
      "=================================================================\n",
      "embedding_4 (Embedding)      (None, 500, 8)            8000      \n",
      "_________________________________________________________________\n",
      "gru_2 (GRU)                  (None, 8)                 408       \n",
      "_________________________________________________________________\n",
      "dense_5 (Dense)              (None, 3)                 27        \n",
      "=================================================================\n",
      "Total params: 8,435\n",
      "Trainable params: 8,435\n",
      "Non-trainable params: 0\n",
      "_________________________________________________________________\n"
     ]
    }
   ],
   "source": [
    "# Fourth model: Embedding -> GRU with dropouts -> Dense classifier\n",
    "m3 = Sequential()\n",
    "m3.add(Embedding(1000, 8, input_length = 500))\n",
    "m3.add(GRU(8, dropout = 0.2, recurrent_dropout = 0.2))\n",
    "m3.add(Dense(3, activation = 'softmax'))\n",
    "m3.compile(optimizer = 'rmsprop', loss = 'categorical_crossentropy', metrics = ['acc'])\n",
    "m3.summary()"
   ]
  },
  {
   "cell_type": "code",
   "execution_count": 24,
   "metadata": {
    "_uuid": "9879a7ba728bdd20eb7b943a9c7797c0c5ce3e4b"
   },
   "outputs": [
    {
     "name": "stdout",
     "output_type": "stream",
     "text": [
      "Train on 7500 samples, validate on 2500 samples\n",
      "Epoch 1/10\n",
      "7500/7500 [==============================] - 28s 4ms/step - loss: 0.8801 - acc: 0.6564 - val_loss: 0.8270 - val_acc: 0.6560\n",
      "Epoch 2/10\n",
      "7500/7500 [==============================] - 28s 4ms/step - loss: 0.8000 - acc: 0.6604 - val_loss: 0.7938 - val_acc: 0.6564\n",
      "Epoch 3/10\n",
      "7500/7500 [==============================] - 28s 4ms/step - loss: 0.7602 - acc: 0.6823 - val_loss: 0.7745 - val_acc: 0.6732\n",
      "Epoch 4/10\n",
      "7500/7500 [==============================] - 28s 4ms/step - loss: 0.7247 - acc: 0.7108 - val_loss: 0.7620 - val_acc: 0.6768\n",
      "Epoch 5/10\n",
      "7500/7500 [==============================] - 28s 4ms/step - loss: 0.7037 - acc: 0.7232 - val_loss: 0.7517 - val_acc: 0.6892\n",
      "Epoch 6/10\n",
      "7500/7500 [==============================] - 28s 4ms/step - loss: 0.6946 - acc: 0.7304 - val_loss: 0.7531 - val_acc: 0.6900\n",
      "Epoch 7/10\n",
      "7500/7500 [==============================] - 28s 4ms/step - loss: 0.6869 - acc: 0.7339 - val_loss: 0.7431 - val_acc: 0.6972\n",
      "Epoch 8/10\n",
      "7500/7500 [==============================] - 28s 4ms/step - loss: 0.6719 - acc: 0.7376 - val_loss: 0.7341 - val_acc: 0.7040\n",
      "Epoch 9/10\n",
      "7500/7500 [==============================] - 28s 4ms/step - loss: 0.6630 - acc: 0.7447 - val_loss: 0.7329 - val_acc: 0.7100\n",
      "Epoch 10/10\n",
      "7500/7500 [==============================] - 28s 4ms/step - loss: 0.6575 - acc: 0.7524 - val_loss: 0.7274 - val_acc: 0.7172\n"
     ]
    },
    {
     "data": {
      "image/png": "[encoded data removed]",
      "text/plain": [
       "<Figure size 1152x504 with 2 Axes>"
      ]
     },
     "metadata": {
      "needs_background": "light"
     },
     "output_type": "display_data"
    }
   ],
   "source": [
    "# Train and plot the history\n",
    "h3 = train_model(m3, x_train, one_hot_labels)\n",
    "plot_history(h3)"
   ]
  },
  {
   "cell_type": "markdown",
   "metadata": {
    "_uuid": "c70bb59570897f824464bdb82aff1121c3d938c9"
   },
   "source": [
    "## Example 5 - Embedding and stack of GRUs"
   ]
  },
  {
   "cell_type": "code",
   "execution_count": 25,
   "metadata": {
    "_uuid": "539ed85d79a6d3e9dc68a8bf552319db951db23e"
   },
   "outputs": [
    {
     "name": "stdout",
     "output_type": "stream",
     "text": [
      "_________________________________________________________________\n",
      "Layer (type)                 Output Shape              Param #   \n",
      "=================================================================\n",
      "embedding_5 (Embedding)      (None, 500, 8)            8000      \n",
      "_________________________________________________________________\n",
      "gru_3 (GRU)                  (None, 500, 8)            408       \n",
      "_________________________________________________________________\n",
      "gru_4 (GRU)                  (None, 8)                 408       \n",
      "_________________________________________________________________\n",
      "dense_6 (Dense)              (None, 3)                 27        \n",
      "=================================================================\n",
      "Total params: 8,843\n",
      "Trainable params: 8,843\n",
      "Non-trainable params: 0\n",
      "_________________________________________________________________\n"
     ]
    }
   ],
   "source": [
    "# Fifth model: Embedding -> Stack of GRU layers -> Dense classifier\n",
    "m4 = Sequential()\n",
    "m4.add(Embedding(1000, 8, input_length = 500))\n",
    "m4.add(GRU(8, dropout = 0.1, recurrent_dropout = 0.5, return_sequences = True))\n",
    "m4.add(GRU(8, activation = 'relu', dropout = 0.1, recurrent_dropout = 0.5))\n",
    "m4.add(Dense(3, activation = 'softmax'))\n",
    "m4.compile(optimizer = 'rmsprop', loss = 'categorical_crossentropy', metrics = ['acc'])\n",
    "m4.summary()"
   ]
  },
  {
   "cell_type": "code",
   "execution_count": 26,
   "metadata": {
    "_uuid": "4e4eef17d5db135cd5ab2f16397788963b7ed974"
   },
   "outputs": [
    {
     "name": "stdout",
     "output_type": "stream",
     "text": [
      "Train on 7500 samples, validate on 2500 samples\n",
      "Epoch 1/10\n",
      "7500/7500 [==============================] - 56s 7ms/step - loss: 0.9130 - acc: 0.6568 - val_loss: 0.8425 - val_acc: 0.6560\n",
      "Epoch 2/10\n",
      "7500/7500 [==============================] - 54s 7ms/step - loss: 0.8287 - acc: 0.6588 - val_loss: 0.8191 - val_acc: 0.6560\n",
      "Epoch 3/10\n",
      "7500/7500 [==============================] - 54s 7ms/step - loss: 0.7920 - acc: 0.6616 - val_loss: 0.7930 - val_acc: 0.6608\n",
      "Epoch 4/10\n",
      "7500/7500 [==============================] - 55s 7ms/step - loss: 0.7548 - acc: 0.6895 - val_loss: 0.7788 - val_acc: 0.6752\n",
      "Epoch 5/10\n",
      "7500/7500 [==============================] - 54s 7ms/step - loss: 0.7317 - acc: 0.7088 - val_loss: 0.7681 - val_acc: 0.6768\n",
      "Epoch 6/10\n",
      "7500/7500 [==============================] - 55s 7ms/step - loss: 0.7191 - acc: 0.7139 - val_loss: 0.7654 - val_acc: 0.6828\n",
      "Epoch 7/10\n",
      "7500/7500 [==============================] - 54s 7ms/step - loss: 0.7003 - acc: 0.7260 - val_loss: 0.7613 - val_acc: 0.6868\n",
      "Epoch 8/10\n",
      "7500/7500 [==============================] - 54s 7ms/step - loss: 0.7010 - acc: 0.7287 - val_loss: 0.7584 - val_acc: 0.6888\n",
      "Epoch 9/10\n",
      "7500/7500 [==============================] - 55s 7ms/step - loss: 0.6891 - acc: 0.7339 - val_loss: 0.7593 - val_acc: 0.6912\n",
      "Epoch 10/10\n",
      "7500/7500 [==============================] - 55s 7ms/step - loss: 0.6880 - acc: 0.7317 - val_loss: 0.7555 - val_acc: 0.6924\n"
     ]
    },
    {
     "data": {
      "image/png": "[encoded data removed]",
      "text/plain": [
       "<Figure size 1152x504 with 2 Axes>"
      ]
     },
     "metadata": {
      "needs_background": "light"
     },
     "output_type": "display_data"
    }
   ],
   "source": [
    "# Train and plot the history\n",
    "h4 = train_model(m4, x_train, one_hot_labels)\n",
    "plot_history(h4)"
   ]
  },
  {
   "cell_type": "markdown",
   "metadata": {
    "_uuid": "d0c10e19ed6c865db526d9959ecfb78544c1c4c0"
   },
   "source": [
    "## Example 6 - Embedding and Conv1D"
   ]
  },
  {
   "cell_type": "code",
   "execution_count": 27,
   "metadata": {
    "_uuid": "adbb1fd5675c1cd500dcafc4e653af34f5f2f165"
   },
   "outputs": [
    {
     "name": "stdout",
     "output_type": "stream",
     "text": [
      "_________________________________________________________________\n",
      "Layer (type)                 Output Shape              Param #   \n",
      "=================================================================\n",
      "embedding_6 (Embedding)      (None, 500, 32)           32000     \n",
      "_________________________________________________________________\n",
      "conv1d_1 (Conv1D)            (None, 494, 32)           7200      \n",
      "_________________________________________________________________\n",
      "max_pooling1d_1 (MaxPooling1 (None, 98, 32)            0         \n",
      "_________________________________________________________________\n",
      "conv1d_2 (Conv1D)            (None, 92, 32)            7200      \n",
      "_________________________________________________________________\n",
      "global_max_pooling1d_1 (Glob (None, 32)                0         \n",
      "_________________________________________________________________\n",
      "dense_7 (Dense)              (None, 3)                 99        \n",
      "=================================================================\n",
      "Total params: 46,499\n",
      "Trainable params: 46,499\n",
      "Non-trainable params: 0\n",
      "_________________________________________________________________\n"
     ]
    }
   ],
   "source": [
    "from keras.layers import Conv1D, MaxPooling1D, GlobalMaxPooling1D\n",
    "\n",
    "# Sixth model: Embedding -> Conv1D & MaxPooling1D -> Dense classifier\n",
    "m5 = Sequential()\n",
    "m5.add(Embedding(1000, 32, input_length = 500))\n",
    "m5.add(Conv1D(32, 7, activation = 'relu'))\n",
    "m5.add(MaxPooling1D(5))\n",
    "m5.add(Conv1D(32, 7, activation = 'relu'))\n",
    "m5.add(GlobalMaxPooling1D())\n",
    "m5.add(Dense(3, activation = 'softmax'))\n",
    "m5.compile(optimizer = 'rmsprop', loss = 'categorical_crossentropy', metrics = ['acc'])\n",
    "m5.summary()"
   ]
  },
  {
   "cell_type": "code",
   "execution_count": 28,
   "metadata": {
    "_uuid": "e22acf33f7762d2e3e41339b8b803551776fbe66"
   },
   "outputs": [
    {
     "name": "stdout",
     "output_type": "stream",
     "text": [
      "Train on 7500 samples, validate on 2500 samples\n",
      "Epoch 1/10\n",
      "7500/7500 [==============================] - 6s 756us/step - loss: 0.8368 - acc: 0.6575 - val_loss: 0.8123 - val_acc: 0.6560\n",
      "Epoch 2/10\n",
      "7500/7500 [==============================] - 5s 710us/step - loss: 0.7350 - acc: 0.6949 - val_loss: 0.7454 - val_acc: 0.6968\n",
      "Epoch 3/10\n",
      "7500/7500 [==============================] - 5s 712us/step - loss: 0.6466 - acc: 0.7493 - val_loss: 0.7157 - val_acc: 0.7196\n",
      "Epoch 4/10\n",
      "7500/7500 [==============================] - 5s 723us/step - loss: 0.6011 - acc: 0.7685 - val_loss: 0.7051 - val_acc: 0.7272\n",
      "Epoch 5/10\n",
      "7500/7500 [==============================] - 5s 706us/step - loss: 0.5647 - acc: 0.7865 - val_loss: 0.6997 - val_acc: 0.7340\n",
      "Epoch 6/10\n",
      "7500/7500 [==============================] - 5s 706us/step - loss: 0.5239 - acc: 0.8036 - val_loss: 0.7491 - val_acc: 0.7012\n",
      "Epoch 7/10\n",
      "7500/7500 [==============================] - 5s 704us/step - loss: 0.4803 - acc: 0.8205 - val_loss: 0.7203 - val_acc: 0.7292\n",
      "Epoch 8/10\n",
      "7500/7500 [==============================] - 5s 705us/step - loss: 0.4297 - acc: 0.8400 - val_loss: 0.8008 - val_acc: 0.6956\n",
      "Epoch 9/10\n",
      "7500/7500 [==============================] - 5s 719us/step - loss: 0.3767 - acc: 0.8587 - val_loss: 0.7583 - val_acc: 0.7364\n",
      "Epoch 10/10\n",
      "7500/7500 [==============================] - 5s 733us/step - loss: 0.3216 - acc: 0.8841 - val_loss: 0.7988 - val_acc: 0.7192\n"
     ]
    },
    {
     "data": {
      "image/png": "[encoded data removed]",
      "text/plain": [
       "<Figure size 1152x504 with 2 Axes>"
      ]
     },
     "metadata": {
      "needs_background": "light"
     },
     "output_type": "display_data"
    }
   ],
   "source": [
    "# Train and plot the history\n",
    "h5 = train_model(m5, x_train, one_hot_labels)\n",
    "plot_history(h5)"
   ]
  },
  {
   "cell_type": "markdown",
   "metadata": {
    "_uuid": "cf8beb6be63712acf310dd327ceab530ccc15cfc"
   },
   "source": [
    "## Example 7 - Embedding and mixed Conv1D and GRU"
   ]
  },
  {
   "cell_type": "code",
   "execution_count": 29,
   "metadata": {
    "_uuid": "eda8110fe64c475856636190c56ac9f651f2ebc3"
   },
   "outputs": [
    {
     "name": "stdout",
     "output_type": "stream",
     "text": [
      "_________________________________________________________________\n",
      "Layer (type)                 Output Shape              Param #   \n",
      "=================================================================\n",
      "embedding_7 (Embedding)      (None, 500, 32)           32000     \n",
      "_________________________________________________________________\n",
      "conv1d_3 (Conv1D)            (None, 496, 32)           5152      \n",
      "_________________________________________________________________\n",
      "max_pooling1d_2 (MaxPooling1 (None, 99, 32)            0         \n",
      "_________________________________________________________________\n",
      "conv1d_4 (Conv1D)            (None, 93, 32)            7200      \n",
      "_________________________________________________________________\n",
      "gru_5 (GRU)                  (None, 8)                 984       \n",
      "_________________________________________________________________\n",
      "dense_8 (Dense)              (None, 3)                 27        \n",
      "=================================================================\n",
      "Total params: 45,363\n",
      "Trainable params: 45,363\n",
      "Non-trainable params: 0\n",
      "_________________________________________________________________\n"
     ]
    }
   ],
   "source": [
    "# Seventh model: Embedding -> 2 x Conv1D + MaxPooling -> GRU -> Dense\n",
    "m6 = Sequential()\n",
    "m6.add(Embedding(1000, 32, input_length = 500))\n",
    "m6.add(Conv1D(32, 5, activation = 'relu'))\n",
    "m6.add(MaxPooling1D(5))\n",
    "m6.add(Conv1D(32, 7, activation = 'relu'))\n",
    "m6.add(GRU(8, dropout = 0.1, recurrent_dropout = 0.5))\n",
    "m6.add(Dense(3, activation = 'softmax'))\n",
    "m6.compile(optimizer = 'rmsprop', loss = 'categorical_crossentropy', metrics = ['acc'])\n",
    "m6.summary()"
   ]
  },
  {
   "cell_type": "markdown",
   "metadata": {
    "_uuid": "d18cbc7af183e309c79312ad32d242155efbda36"
   },
   "source": [
    "# Train and plot the history\n",
    "h6 = train_model(m6, x_train, one_hot_labels)\n",
    "plot_history(h6)"
   ]
  },
  {
   "cell_type": "code",
   "execution_count": 30,
   "metadata": {},
   "outputs": [
    {
     "ename": "SyntaxError",
     "evalue": "invalid syntax (<ipython-input-30-29a96d09dcff>, line 1)",
     "output_type": "error",
     "traceback": [
      "\u001b[1;36m  File \u001b[1;32m\"<ipython-input-30-29a96d09dcff>\"\u001b[1;36m, line \u001b[1;32m1\u001b[0m\n\u001b[1;33m    h6 = train_model(m6, x_train, one_hot_labels) plot_history(h6)\u001b[0m\n\u001b[1;37m                                                             ^\u001b[0m\n\u001b[1;31mSyntaxError\u001b[0m\u001b[1;31m:\u001b[0m invalid syntax\n"
     ]
    }
   ],
   "source": [
    "h6 = train_model(m6, x_train, one_hot_labels) plot_history(h6)"
   ]
  },
  {
   "cell_type": "code",
   "execution_count": null,
   "metadata": {},
   "outputs": [],
   "source": []
  }
 ],
 "metadata": {
  "kernelspec": {
   "display_name": "Python 3",
   "language": "python",
   "name": "python3"
  },
  "language_info": {
   "codemirror_mode": {
    "name": "ipython",
    "version": 3
   },
   "file_extension": ".py",
   "mimetype": "text/x-python",
   "name": "python",
   "nbconvert_exporter": "python",
   "pygments_lexer": "ipython3",
   "version": "3.6.7"
  }
 },
 "nbformat": 4,
 "nbformat_minor": 1
}
