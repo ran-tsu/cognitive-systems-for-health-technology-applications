{
 "cells": [
  {
   "cell_type": "code",
   "execution_count": 11,
   "metadata": {},
   "outputs": [
    {
     "name": "stdout",
     "output_type": "stream",
     "text": [
      "[[1 2 3]\n",
      " [3 4 5]]\n",
      "\n",
      "[[1.1 2.  3. ]\n",
      " [3.  4.  5. ]]\n",
      "\n",
      "[[1.+0.j 2.+0.j 3.+0.j]\n",
      " [3.+0.j 4.+0.j 5.+0.j]]\n"
     ]
    }
   ],
   "source": [
    "import numpy as np\n",
    "import matplotlib.pyplot as plt\n",
    "import numpy.linalg as la\n",
    "\n",
    "A = np.array([[1, 2, 3], [3, 4, 5]])\n",
    "print(A)\n",
    "print(\"\")\n",
    "A = np.array([[1.1, 2, 3], [3, 4, 5]]) # Array of floats\n",
    "print(A)\n",
    "print(\"\")\n",
    "A = np.array([[1, 2, 3], [3, 4, 5]], dtype = complex) # Array of complex numbers\n",
    "print(A)"
   ]
  },
  {
   "cell_type": "code",
   "execution_count": 9,
   "metadata": {},
   "outputs": [
    {
     "name": "stdout",
     "output_type": "stream",
     "text": [
      "\n",
      "[[202 296]\n",
      " [305 412]]\n",
      "\n",
      "[[202 296]\n",
      " [305 412]]\n"
     ]
    }
   ],
   "source": [
    "C = np.array([[2, 6], [5, 7]])\n",
    "D = np.array([[1, 5], [5, 4]])\n",
    "print(\"\")\n",
    "print(C.dot(D).dot(D))\n",
    "print(\"\")\n",
    "print(C @ D @ D)"
   ]
  },
  {
   "cell_type": "code",
   "execution_count": 3,
   "metadata": {},
   "outputs": [
    {
     "name": "stdout",
     "output_type": "stream",
     "text": [
      "[[27]]\n"
     ]
    }
   ],
   "source": [
    "A = np.array([[3, 6]])\n",
    "B = np.array([[5], [2]])\n",
    "print(np.dot(A, B))"
   ]
  },
  {
   "cell_type": "code",
   "execution_count": 5,
   "metadata": {},
   "outputs": [
    {
     "data": {
      "text/plain": [
       "Text(0.5, 1.0, 'sin(x)')"
      ]
     },
     "execution_count": 5,
     "metadata": {},
     "output_type": "execute_result"
    },
    {
     "data": {
      "image/png": "[encoded data removed]",
      "text/plain": [
       "<Figure size 432x288 with 1 Axes>"
      ]
     },
     "metadata": {
      "needs_background": "light"
     },
     "output_type": "display_data"
    }
   ],
   "source": [
    "x = np.array([1, 2, 3, 4, 5, 6])\n",
    "y = np.sin(x)\n",
    "\n",
    "plt.plot(x, y)\n",
    "plt.grid()\n",
    "plt.title('sin(x)')"
   ]
  },
  {
   "cell_type": "code",
   "execution_count": 10,
   "metadata": {},
   "outputs": [
    {
     "name": "stdout",
     "output_type": "stream",
     "text": [
      "[[3 6]]\n",
      "[[5]\n",
      " [2]]\n",
      "\n",
      "[[15 30]\n",
      " [ 6 12]]\n"
     ]
    }
   ],
   "source": [
    "A = np.array([[3, 6]])\n",
    "B = np.array([[5], [2]])\n",
    "print (A)\n",
    "print (B)\n",
    "print (\"\")\n",
    "print(A * B)"
   ]
  },
  {
   "cell_type": "code",
   "execution_count": 15,
   "metadata": {},
   "outputs": [
    {
     "name": "stdout",
     "output_type": "stream",
     "text": [
      "[[1 2 3]\n",
      " [4 5 6]\n",
      " [7 8 9]]\n",
      "\n",
      "[[3]\n",
      " [6]]\n"
     ]
    }
   ],
   "source": [
    "A = np.array([[1, 2, 3], [4, 5, 6], [7, 8, 9]])\n",
    "print(A)\n",
    "print(\"\")\n",
    "print(A[0:2, 2].reshape(2,1))"
   ]
  },
  {
   "cell_type": "code",
   "execution_count": 19,
   "metadata": {},
   "outputs": [
    {
     "name": "stdout",
     "output_type": "stream",
     "text": [
      "[[1 2 3]\n",
      " [4 5 6]\n",
      " [7 8 9]]\n",
      "[[10 11 12]\n",
      " [13 14 15]\n",
      " [16 17 18]]\n",
      "\n",
      "[[ 1  2  3]\n",
      " [ 4  5  6]\n",
      " [ 7  8  9]\n",
      " [10 11 12]\n",
      " [13 14 15]\n",
      " [16 17 18]]\n"
     ]
    }
   ],
   "source": [
    "B = np.array([[10, 11, 12], [13, 14, 15], [16, 17, 18]])\n",
    "print(A)\n",
    "print(B)\n",
    "print(\"\")\n",
    "C = np.concatenate((A, B), axis=0)\n",
    "print(C)"
   ]
  },
  {
   "cell_type": "code",
   "execution_count": 21,
   "metadata": {},
   "outputs": [
    {
     "name": "stdout",
     "output_type": "stream",
     "text": [
      "\n",
      "[[ 32.   36.   24. ]\n",
      " [-32.  -54.  -28. ]\n",
      " [ 16.   26.5  13. ]]\n",
      "\n",
      "[[ 16.    7.5   7. ]\n",
      " [ 64.   33.   34. ]\n",
      " [112.   58.5  61. ]]\n"
     ]
    }
   ],
   "source": [
    "F = np.array([[4], [6], [3]])\n",
    "print(\"\")\n",
    "X = la.inv(A).dot(B)\n",
    "print(X)\n",
    "print(\"\")\n",
    "print(A.dot(X))"
   ]
  },
  {
   "cell_type": "code",
   "execution_count": null,
   "metadata": {},
   "outputs": [],
   "source": []
  }
 ],
 "metadata": {
  "kernelspec": {
   "display_name": "Python 3",
   "language": "python",
   "name": "python3"
  },
  "language_info": {
   "codemirror_mode": {
    "name": "ipython",
    "version": 3
   },
   "file_extension": ".py",
   "mimetype": "text/x-python",
   "name": "python",
   "nbconvert_exporter": "python",
   "pygments_lexer": "ipython3",
   "version": "3.7.1"
  }
 },
 "nbformat": 4,
 "nbformat_minor": 2
}
