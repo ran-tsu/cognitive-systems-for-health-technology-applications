{
 "cells": [
  {
   "cell_type": "code",
   "execution_count": 1,
   "metadata": {},
   "outputs": [
    {
     "name": "stderr",
     "output_type": "stream",
     "text": [
      "Using TensorFlow backend.\n"
     ]
    },
    {
     "name": "stdout",
     "output_type": "stream",
     "text": [
      "Downloading data from https://www.cs.toronto.edu/~kriz/cifar-10-python.tar.gz\n",
      "170500096/170498071 [==============================] - 328s 2us/step\n",
      "Downloading data from https://github.com/fchollet/deep-learning-models/releases/download/v0.1/vgg19_weights_tf_dim_ordering_tf_kernels.h5\n",
      "574717952/574710816 [==============================] - 1006s 2us/step\n",
      "Running initial batch (compiling tile program)\n",
      "Timing inference...\n",
      "Ran in 27.20381736755371 seconds\n"
     ]
    }
   ],
   "source": [
    "# PlaidML test script: https://github.com/plaidml/plaidml\n",
    "# 15.2.2019, Sakari Lukkarinen\n",
    "# Helsinki Metropolia University of Applied Sciences\n",
    "\n",
    "# Running this script with:\n",
    "# GPU off: 31.95 seconds\n",
    "# GPU on:   1.41 seconds\n",
    "# Speed up: (31.91:1.41) = 22.6 times\n",
    "\n",
    "# Remember to change Internet Connected from Settings !!!\n",
    "\n",
    "#!/usr/bin/env python\n",
    "import numpy as np\n",
    "import os\n",
    "import time\n",
    "\n",
    "# os.environ[\"KERAS_BACKEND\"] = \"tensorflow\"\n",
    "# print(os.environ[\"KERAS_BACKEND\"])\n",
    "\n",
    "import keras\n",
    "import keras.applications as kapp\n",
    "from keras.datasets import cifar10\n",
    "\n",
    "(x_train, y_train_cats), (x_test, y_test_cats) = cifar10.load_data()\n",
    "np.savez('cifar10_data', x_train = x_train, y_train_cats = y_train_cats, x_test = x_test, y_test_cats = y_test_cats)\n",
    "\n",
    "batch_size = 8\n",
    "x_train = x_train[:batch_size]\n",
    "x_train = np.repeat(np.repeat(x_train, 7, axis=1), 7, axis=2)\n",
    "model = kapp.VGG19()\n",
    "model.compile(optimizer='sgd', loss='categorical_crossentropy',\n",
    "              metrics=['accuracy'])\n",
    "\n",
    "print(\"Running initial batch (compiling tile program)\")\n",
    "y = model.predict(x=x_train, batch_size=batch_size, verbose = 0)\n",
    "\n",
    "# Now start the clock and run 10 batches\n",
    "print(\"Timing inference...\")\n",
    "start = time.time()\n",
    "for i in range(10):\n",
    "    y = model.predict(x=x_train, batch_size=batch_size, verbose = 0)\n",
    "print(\"Ran in {} seconds\".format(time.time() - start))"
   ]
  },
  {
   "cell_type": "code",
   "execution_count": null,
   "metadata": {},
   "outputs": [],
   "source": []
  }
 ],
 "metadata": {
  "kernelspec": {
   "display_name": "Python 3",
   "language": "python",
   "name": "python3"
  },
  "language_info": {
   "codemirror_mode": {
    "name": "ipython",
    "version": 3
   },
   "file_extension": ".py",
   "mimetype": "text/x-python",
   "name": "python",
   "nbconvert_exporter": "python",
   "pygments_lexer": "ipython3",
   "version": "3.6.7"
  }
 },
 "nbformat": 4,
 "nbformat_minor": 2
}
