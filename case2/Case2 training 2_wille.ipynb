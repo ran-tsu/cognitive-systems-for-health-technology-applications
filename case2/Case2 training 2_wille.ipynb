{
 "cells": [
  {
   "cell_type": "code",
   "execution_count": 1,
   "metadata": {},
   "outputs": [
    {
     "name": "stdout",
     "output_type": "stream",
     "text": [
      "['nosymptoms', 'README.md', 'symptoms']\n"
     ]
    }
   ],
   "source": [
    "# This Python 3 environment comes with many helpful analytics libraries installed\n",
    "# It is defined by the kaggle/python docker image: https://github.com/kaggle/docker-python\n",
    "# For example, here's several helpful packages to load in \n",
    "\n",
    "import numpy as np # linear algebra\n",
    "import pandas as pd # data processing, CSV file I/O (e.g. pd.read_csv)\n",
    "\n",
    "# Input data files are available in the \"../input/\" directory.\n",
    "# For example, running this (by clicking run or pressing Shift+Enter) will list the files in the input directory\n",
    "\n",
    "import os\n",
    "print(os.listdir(\"../../retinopathy-dataset-master\"))\n",
    "\n",
    "# Any results you write to the current directory are saved as output."
   ]
  },
  {
   "cell_type": "code",
   "execution_count": 2,
   "metadata": {},
   "outputs": [],
   "source": [
    "# Import opencv and matplot libraries\n",
    "import cv2\n",
    "import matplotlib.pyplot as plt"
   ]
  },
  {
   "cell_type": "code",
   "execution_count": 3,
   "metadata": {},
   "outputs": [
    {
     "data": {
      "text/html": [
       "<div>\n",
       "<style scoped>\n",
       "    .dataframe tbody tr th:only-of-type {\n",
       "        vertical-align: middle;\n",
       "    }\n",
       "\n",
       "    .dataframe tbody tr th {\n",
       "        vertical-align: top;\n",
       "    }\n",
       "\n",
       "    .dataframe thead th {\n",
       "        text-align: right;\n",
       "    }\n",
       "</style>\n",
       "<table border=\"1\" class=\"dataframe\">\n",
       "  <thead>\n",
       "    <tr style=\"text-align: right;\">\n",
       "      <th></th>\n",
       "      <th>image</th>\n",
       "      <th>level</th>\n",
       "      <th>Usage</th>\n",
       "    </tr>\n",
       "  </thead>\n",
       "  <tbody>\n",
       "    <tr>\n",
       "      <th>0</th>\n",
       "      <td>1_left</td>\n",
       "      <td>0</td>\n",
       "      <td>Private</td>\n",
       "    </tr>\n",
       "    <tr>\n",
       "      <th>1</th>\n",
       "      <td>1_right</td>\n",
       "      <td>0</td>\n",
       "      <td>Private</td>\n",
       "    </tr>\n",
       "    <tr>\n",
       "      <th>2</th>\n",
       "      <td>2_left</td>\n",
       "      <td>0</td>\n",
       "      <td>Public</td>\n",
       "    </tr>\n",
       "    <tr>\n",
       "      <th>3</th>\n",
       "      <td>2_right</td>\n",
       "      <td>0</td>\n",
       "      <td>Public</td>\n",
       "    </tr>\n",
       "    <tr>\n",
       "      <th>4</th>\n",
       "      <td>3_left</td>\n",
       "      <td>2</td>\n",
       "      <td>Private</td>\n",
       "    </tr>\n",
       "  </tbody>\n",
       "</table>\n",
       "</div>"
      ],
      "text/plain": [
       "     image  level    Usage\n",
       "0   1_left      0  Private\n",
       "1  1_right      0  Private\n",
       "2   2_left      0   Public\n",
       "3  2_right      0   Public\n",
       "4   3_left      2  Private"
      ]
     },
     "execution_count": 3,
     "metadata": {},
     "output_type": "execute_result"
    }
   ],
   "source": [
    "# Read the solution list\n",
    "df = pd.read_csv('../../retinopathy-dataset-master/retinopathy_solution.csv')\n",
    "df.head()"
   ]
  },
  {
   "cell_type": "code",
   "execution_count": 4,
   "metadata": {},
   "outputs": [],
   "source": [
    "# Import the metrics and random integer generator\n",
    "from sklearn.metrics import cohen_kappa_score, confusion_matrix, classification_report\n",
    "from numpy.random import randint, randn"
   ]
  },
  {
   "cell_type": "code",
   "execution_count": 6,
   "metadata": {},
   "outputs": [
    {
     "name": "stdout",
     "output_type": "stream",
     "text": [
      "Confusion matrix:\n",
      "[[27297  9566  2435   224    11]\n",
      " [ 1137  1466   899   241    19]\n",
      " [  546  1874  3021  1879   541]\n",
      " [    6    77   306   478   347]\n",
      " [    0     7    69   287   843]]\n",
      "\n",
      "\n",
      "Classification report:\n",
      "              precision    recall  f1-score   support\n",
      "\n",
      "           0       0.94      0.69      0.80     39533\n",
      "           1       0.11      0.39      0.18      3762\n",
      "           2       0.45      0.38      0.41      7861\n",
      "           3       0.15      0.39      0.22      1214\n",
      "           4       0.48      0.70      0.57      1206\n",
      "\n",
      "   micro avg       0.62      0.62      0.62     53576\n",
      "   macro avg       0.43      0.51      0.44     53576\n",
      "weighted avg       0.78      0.62      0.68     53576\n",
      "\n"
     ]
    }
   ],
   "source": [
    "# Read the true labels\n",
    "y_true = df['level'].values\n",
    "\n",
    "# Generate randomness\n",
    "y_random = np.round(y_true + randn(len(y_true)))\n",
    "# Limit the random label values between 0 and 4\n",
    "y_random = np.maximum(y_random, 0)\n",
    "y_random = np.minimum(y_random, 4)\n",
    "\n",
    "# Calculate and print confusion matrix\n",
    "cm = confusion_matrix(y_true, y_random)\n",
    "print('Confusion matrix:')\n",
    "print(cm)\n",
    "print('')\n",
    "\n",
    "# Calculate and print Cohen's kappa score\n",
    "k = cohen_kappa_score(y_true, y_random, weights = 'quadratic')\n",
    "print('')\n",
    "\n",
    "# Calculate and print classification report\n",
    "cp = classification_report(y_true, y_random)\n",
    "print('Classification report:')\n",
    "print(cp)"
   ]
  },
  {
   "cell_type": "code",
   "execution_count": null,
   "metadata": {},
   "outputs": [],
   "source": []
  }
 ],
 "metadata": {
  "kernelspec": {
   "display_name": "Python 3",
   "language": "python",
   "name": "python3"
  },
  "language_info": {
   "codemirror_mode": {
    "name": "ipython",
    "version": 3
   },
   "file_extension": ".py",
   "mimetype": "text/x-python",
   "name": "python",
   "nbconvert_exporter": "python",
   "pygments_lexer": "ipython3",
   "version": "3.6.7"
  }
 },
 "nbformat": 4,
 "nbformat_minor": 2
}
