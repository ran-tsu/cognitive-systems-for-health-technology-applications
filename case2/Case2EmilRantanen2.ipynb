{
 "cells": [
  {
   "cell_type": "code",
   "execution_count": 10,
   "metadata": {},
   "outputs": [
    {
     "name": "stdout",
     "output_type": "stream",
     "text": [
      "['newTrainLabels.csv', 'nosymptoms', 'README.md', 'retinopathy_solution.csv', 'symptoms']\n"
     ]
    }
   ],
   "source": [
    "import numpy as np\n",
    "import pandas as pd\n",
    "\n",
    "import os\n",
    "print(os.listdir(\"A:/Downloads/retinopathy-dataset-master\"))"
   ]
  },
  {
   "cell_type": "code",
   "execution_count": 11,
   "metadata": {},
   "outputs": [
    {
     "data": {
      "text/html": [
       "<div>\n",
       "<style scoped>\n",
       "    .dataframe tbody tr th:only-of-type {\n",
       "        vertical-align: middle;\n",
       "    }\n",
       "\n",
       "    .dataframe tbody tr th {\n",
       "        vertical-align: top;\n",
       "    }\n",
       "\n",
       "    .dataframe thead th {\n",
       "        text-align: right;\n",
       "    }\n",
       "</style>\n",
       "<table border=\"1\" class=\"dataframe\">\n",
       "  <thead>\n",
       "    <tr style=\"text-align: right;\">\n",
       "      <th></th>\n",
       "      <th>image</th>\n",
       "      <th>level</th>\n",
       "      <th>Usage</th>\n",
       "    </tr>\n",
       "  </thead>\n",
       "  <tbody>\n",
       "    <tr>\n",
       "      <th>0</th>\n",
       "      <td>1_left</td>\n",
       "      <td>0</td>\n",
       "      <td>Private</td>\n",
       "    </tr>\n",
       "    <tr>\n",
       "      <th>1</th>\n",
       "      <td>1_right</td>\n",
       "      <td>0</td>\n",
       "      <td>Private</td>\n",
       "    </tr>\n",
       "    <tr>\n",
       "      <th>2</th>\n",
       "      <td>2_left</td>\n",
       "      <td>0</td>\n",
       "      <td>Public</td>\n",
       "    </tr>\n",
       "    <tr>\n",
       "      <th>3</th>\n",
       "      <td>2_right</td>\n",
       "      <td>0</td>\n",
       "      <td>Public</td>\n",
       "    </tr>\n",
       "    <tr>\n",
       "      <th>4</th>\n",
       "      <td>3_left</td>\n",
       "      <td>2</td>\n",
       "      <td>Private</td>\n",
       "    </tr>\n",
       "  </tbody>\n",
       "</table>\n",
       "</div>"
      ],
      "text/plain": [
       "     image  level    Usage\n",
       "0   1_left      0  Private\n",
       "1  1_right      0  Private\n",
       "2   2_left      0   Public\n",
       "3  2_right      0   Public\n",
       "4   3_left      2  Private"
      ]
     },
     "execution_count": 11,
     "metadata": {},
     "output_type": "execute_result"
    }
   ],
   "source": [
    "df = pd.read_csv(\"A:/Downloads/retinopathy-dataset-master/retinopathy_solution.csv\")\n",
    "df.head()"
   ]
  },
  {
   "cell_type": "code",
   "execution_count": 12,
   "metadata": {},
   "outputs": [],
   "source": [
    "from sklearn.metrics import cohen_kappa_score, confusion_matrix, classification_report\n",
    "from numpy.random import randint, randn"
   ]
  },
  {
   "cell_type": "code",
   "execution_count": 13,
   "metadata": {},
   "outputs": [
    {
     "name": "stdout",
     "output_type": "stream",
     "text": [
      "Confusion matrix:\n",
      "[[27366  9532  2390   228    17]\n",
      " [ 1165  1430   927   222    18]\n",
      " [  552  1845  2984  1934   546]\n",
      " [    6    68   289   451   400]\n",
      " [    0     8    74   321   803]]\n",
      "\n",
      "Quadratic weighted Cohen's kappa score = 0.7063\n",
      "\n",
      "Classification report:\n",
      "              precision    recall  f1-score   support\n",
      "\n",
      "           0       0.94      0.69      0.80     39533\n",
      "           1       0.11      0.38      0.17      3762\n",
      "           2       0.45      0.38      0.41      7861\n",
      "           3       0.14      0.37      0.21      1214\n",
      "           4       0.45      0.67      0.54      1206\n",
      "\n",
      "   micro avg       0.62      0.62      0.62     53576\n",
      "   macro avg       0.42      0.50      0.42     53576\n",
      "weighted avg       0.78      0.62      0.68     53576\n",
      "\n"
     ]
    }
   ],
   "source": [
    "# Read the true labels\n",
    "y_true = df['level'].values\n",
    "\n",
    "# Generate randomness\n",
    "y_random = np.round(y_true + randn(len(y_true)))\n",
    "# Limit the random label values between 0 and 4\n",
    "y_random = np.maximum(y_random, 0)\n",
    "y_random = np.minimum(y_random, 4)\n",
    "\n",
    "# Calculate and print confusion matrix\n",
    "cm = confusion_matrix(y_true, y_random)\n",
    "print('Confusion matrix:')\n",
    "print(cm)\n",
    "print('')\n",
    "\n",
    "# Calculate and print Cohen's kappa score\n",
    "k = cohen_kappa_score(y_true, y_random, weights = 'quadratic')\n",
    "print(\"Quadratic weighted Cohen's kappa score = {:.4f}\".format(k))\n",
    "print('')\n",
    "\n",
    "# Calculate and print classification report\n",
    "cp = classification_report(y_true, y_random)\n",
    "print('Classification report:')\n",
    "print(cp)"
   ]
  },
  {
   "cell_type": "markdown",
   "metadata": {},
   "source": [
    "# Conclusion\n",
    "\n",
    "We were able to read the labels from csv-file, calculate the confusion matrix, Cohen's kappa, and classification report against slightly random labels."
   ]
  },
  {
   "cell_type": "code",
   "execution_count": null,
   "metadata": {},
   "outputs": [],
   "source": []
  }
 ],
 "metadata": {
  "kernelspec": {
   "display_name": "Python 3",
   "language": "python",
   "name": "python3"
  },
  "language_info": {
   "codemirror_mode": {
    "name": "ipython",
    "version": 3
   },
   "file_extension": ".py",
   "mimetype": "text/x-python",
   "name": "python",
   "nbconvert_exporter": "python",
   "pygments_lexer": "ipython3",
   "version": "3.6.8"
  }
 },
 "nbformat": 4,
 "nbformat_minor": 2
}
